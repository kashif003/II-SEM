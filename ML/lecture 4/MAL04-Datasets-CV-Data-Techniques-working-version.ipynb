{
 "cells": [
  {
   "cell_type": "markdown",
   "id": "93b1d8d3",
   "metadata": {},
   "source": [
    "# Cross-Validation"
   ]
  },
  {
   "cell_type": "code",
   "id": "c16129ca",
   "metadata": {
    "ExecuteTime": {
     "end_time": "2024-11-16T18:44:29.207790Z",
     "start_time": "2024-11-16T18:44:24.780642Z"
    }
   },
   "source": [
    "from sklearn.datasets import load_diabetes\n",
    "from sklearn.linear_model import LinearRegression, Lasso, Ridge\n",
    "from sklearn.model_selection import train_test_split\n"
   ],
   "outputs": [],
   "execution_count": 3
  },
  {
   "cell_type": "markdown",
   "id": "b6a03c0d",
   "metadata": {},
   "source": [
    "## Recap"
   ]
  },
  {
   "cell_type": "code",
   "id": "a9e79601",
   "metadata": {
    "ExecuteTime": {
     "end_time": "2024-11-16T18:44:29.253057Z",
     "start_time": "2024-11-16T18:44:29.216768Z"
    }
   },
   "source": [
    "data = load_diabetes(return_X_y=False, as_frame=True, scaled=False)"
   ],
   "outputs": [],
   "execution_count": 4
  },
  {
   "cell_type": "code",
   "id": "c1740d9e",
   "metadata": {
    "ExecuteTime": {
     "end_time": "2024-11-16T18:44:29.317668Z",
     "start_time": "2024-11-16T18:44:29.314789Z"
    }
   },
   "source": [
    "X = data.data.values\n",
    "y = data.target.values"
   ],
   "outputs": [],
   "execution_count": 5
  },
  {
   "cell_type": "code",
   "id": "0b6cf85a",
   "metadata": {
    "ExecuteTime": {
     "end_time": "2024-11-16T18:44:29.346851Z",
     "start_time": "2024-11-16T18:44:29.340484Z"
    }
   },
   "source": [
    "from sklearn.preprocessing import PolynomialFeatures\n",
    "poly = PolynomialFeatures(degree=3, include_bias=False, interaction_only=True)\n",
    "Xp = poly.fit_transform(X)"
   ],
   "outputs": [],
   "execution_count": 6
  },
  {
   "cell_type": "code",
   "id": "8d4db4c9",
   "metadata": {
    "ExecuteTime": {
     "end_time": "2024-11-16T18:44:29.382091Z",
     "start_time": "2024-11-16T18:44:29.372840Z"
    }
   },
   "source": [
    "Xtr, Xte, ytr, yte = train_test_split(Xp,y, test_size=0.2)"
   ],
   "outputs": [],
   "execution_count": 7
  },
  {
   "cell_type": "code",
   "id": "7c3f19c8",
   "metadata": {
    "ExecuteTime": {
     "end_time": "2024-11-16T18:44:30.545508Z",
     "start_time": "2024-11-16T18:44:29.413703Z"
    }
   },
   "source": [
    "lr = LinearRegression()\n",
    "lr.fit(Xtr, ytr)\n",
    "print (\"test score\", lr.score(Xte, yte))\n",
    "print (\"train score\", lr.score(Xtr, ytr))"
   ],
   "outputs": [
    {
     "name": "stdout",
     "output_type": "stream",
     "text": [
      "test score -0.4749104363367125\n",
      "train score 0.7390873157479252\n"
     ]
    }
   ],
   "execution_count": 8
  },
  {
   "cell_type": "code",
   "id": "6f559094",
   "metadata": {
    "ExecuteTime": {
     "end_time": "2024-11-16T18:44:30.630787Z",
     "start_time": "2024-11-16T18:44:30.580049Z"
    }
   },
   "source": [
    "lasso = Lasso(alpha=0.005)\n",
    "lasso.fit(Xtr, ytr)\n",
    "lasso.score(Xte, yte)"
   ],
   "outputs": [
    {
     "name": "stderr",
     "output_type": "stream",
     "text": [
      "C:\\Users\\kashi\\Desktop\\Working_projects\\Working_projects\\NLP\\pythonProject1\\.venv\\Lib\\site-packages\\sklearn\\linear_model\\_coordinate_descent.py:697: ConvergenceWarning: Objective did not converge. You might want to increase the number of iterations, check the scale of the features or consider increasing regularisation. Duality gap: 3.993e+05, tolerance: 2.111e+02\n",
      "  model = cd_fast.enet_coordinate_descent(\n"
     ]
    },
    {
     "data": {
      "text/plain": [
       "0.4004049390894858"
      ]
     },
     "execution_count": 9,
     "metadata": {},
     "output_type": "execute_result"
    }
   ],
   "execution_count": 9
  },
  {
   "cell_type": "code",
   "id": "4cd6dacb",
   "metadata": {
    "ExecuteTime": {
     "end_time": "2024-11-16T18:44:30.668397Z",
     "start_time": "2024-11-16T18:44:30.648353Z"
    }
   },
   "source": [
    "ridge = Ridge(alpha=1.)\n",
    "ridge.fit(Xtr, ytr)\n",
    "ridge.score(Xte, yte)"
   ],
   "outputs": [
    {
     "data": {
      "text/plain": [
       "-0.37693153358228626"
      ]
     },
     "execution_count": 10,
     "metadata": {},
     "output_type": "execute_result"
    }
   ],
   "execution_count": 10
  },
  {
   "cell_type": "markdown",
   "id": "c81200e0",
   "metadata": {},
   "source": [
    "## Cross Validation "
   ]
  },
  {
   "cell_type": "code",
   "id": "9d3c6281",
   "metadata": {
    "ExecuteTime": {
     "end_time": "2024-11-16T18:44:31.505251Z",
     "start_time": "2024-11-16T18:44:30.687942Z"
    }
   },
   "source": [
    "from sklearn.model_selection import KFold\n",
    "from sklearn.metrics import mean_squared_error\n",
    "from sklearn.preprocessing import StandardScaler\n",
    "\n",
    "import matplotlib.pyplot as plt\n",
    "import numpy as np"
   ],
   "outputs": [],
   "execution_count": 11
  },
  {
   "cell_type": "code",
   "id": "8ddd3932",
   "metadata": {
    "ExecuteTime": {
     "end_time": "2024-11-16T18:44:31.527932Z",
     "start_time": "2024-11-16T18:44:31.523957Z"
    }
   },
   "source": [
    "ridge= Ridge(alpha=0.5)\n",
    "lasso= Lasso(alpha=0.5)"
   ],
   "outputs": [],
   "execution_count": 12
  },
  {
   "metadata": {
    "ExecuteTime": {
     "end_time": "2024-11-16T18:44:31.689416Z",
     "start_time": "2024-11-16T18:44:31.549396Z"
    }
   },
   "cell_type": "code",
   "source": [
    "from sklearn.model_selection import cross_val_score\n",
    "scores = cross_val_score(lasso, Xtr,ytr, cv=5,scoring='neg_mean_squared_error')\n",
    "print(f'cv score with lasso: {scores}')\n",
    "scores = cross_val_score(ridge, Xtr,ytr, cv=5,scoring='neg_mean_squared_error')\n",
    "print(f'cv score with ridge: {scores}')"
   ],
   "id": "c69fc1cd970aacdf",
   "outputs": [
    {
     "name": "stdout",
     "output_type": "stream",
     "text": [
      "cv score with lasso: [-2845.36749636 -4348.42203323 -3275.75556595 -3219.11760173\n",
      " -4341.33177082]\n",
      "cv score with ridge: [ -9297.64197141 -31029.01583544 -21474.04272353 -10362.60645306\n",
      "  -8717.33969828]\n"
     ]
    },
    {
     "name": "stderr",
     "output_type": "stream",
     "text": [
      "C:\\Users\\kashi\\Desktop\\Working_projects\\Working_projects\\NLP\\pythonProject1\\.venv\\Lib\\site-packages\\sklearn\\linear_model\\_coordinate_descent.py:697: ConvergenceWarning: Objective did not converge. You might want to increase the number of iterations, check the scale of the features or consider increasing regularisation. Duality gap: 3.201e+05, tolerance: 1.675e+02\n",
      "  model = cd_fast.enet_coordinate_descent(\n",
      "C:\\Users\\kashi\\Desktop\\Working_projects\\Working_projects\\NLP\\pythonProject1\\.venv\\Lib\\site-packages\\sklearn\\linear_model\\_coordinate_descent.py:697: ConvergenceWarning: Objective did not converge. You might want to increase the number of iterations, check the scale of the features or consider increasing regularisation. Duality gap: 3.055e+05, tolerance: 1.594e+02\n",
      "  model = cd_fast.enet_coordinate_descent(\n",
      "C:\\Users\\kashi\\Desktop\\Working_projects\\Working_projects\\NLP\\pythonProject1\\.venv\\Lib\\site-packages\\sklearn\\linear_model\\_coordinate_descent.py:697: ConvergenceWarning: Objective did not converge. You might want to increase the number of iterations, check the scale of the features or consider increasing regularisation. Duality gap: 3.180e+05, tolerance: 1.731e+02\n",
      "  model = cd_fast.enet_coordinate_descent(\n",
      "C:\\Users\\kashi\\Desktop\\Working_projects\\Working_projects\\NLP\\pythonProject1\\.venv\\Lib\\site-packages\\sklearn\\linear_model\\_coordinate_descent.py:697: ConvergenceWarning: Objective did not converge. You might want to increase the number of iterations, check the scale of the features or consider increasing regularisation. Duality gap: 3.110e+05, tolerance: 1.699e+02\n",
      "  model = cd_fast.enet_coordinate_descent(\n",
      "C:\\Users\\kashi\\Desktop\\Working_projects\\Working_projects\\NLP\\pythonProject1\\.venv\\Lib\\site-packages\\sklearn\\linear_model\\_coordinate_descent.py:697: ConvergenceWarning: Objective did not converge. You might want to increase the number of iterations, check the scale of the features or consider increasing regularisation. Duality gap: 2.823e+05, tolerance: 1.738e+02\n",
      "  model = cd_fast.enet_coordinate_descent(\n"
     ]
    }
   ],
   "execution_count": 13
  },
  {
   "cell_type": "markdown",
   "id": "9061d5bf",
   "metadata": {},
   "source": [
    "Try Lasso regression, explicitly _without_ normalization first.\n",
    "- What do you observe? \n",
    "- What are your data ranges?\n",
    "\n",
    "Try to implement the Lasso with normalization with an sklearn-pipeline."
   ]
  },
  {
   "cell_type": "code",
   "id": "b709a022",
   "metadata": {
    "ExecuteTime": {
     "end_time": "2024-11-16T18:44:31.712789Z",
     "start_time": "2024-11-16T18:44:31.709530Z"
    }
   },
   "source": [
    "# without normalization"
   ],
   "outputs": [],
   "execution_count": 14
  },
  {
   "cell_type": "code",
   "id": "9c4a45e4",
   "metadata": {
    "ExecuteTime": {
     "end_time": "2024-11-16T18:44:31.741778Z",
     "start_time": "2024-11-16T18:44:31.737188Z"
    }
   },
   "source": [
    "'''lasso_history=[]\n",
    "ridge_history=[]\n",
    "for i in range(10):\n",
    "    lasso_scores = cross_val_score(Lasso(1+i/10,max_iter=1000), Xtr,ytr, cv=5,scoring='neg_mean_squared_error')\n",
    "    lasso_history.append(lasso_scores)\n",
    "    ridge_scores = cross_val_score(Ridge(1+i/10,max_iter=1000), Xtr,ytr, cv=5,scoring='neg_mean_squared_error')\n",
    "    ridge_history.append(ridge_scores)\n",
    "    '''"
   ],
   "outputs": [
    {
     "data": {
      "text/plain": [
       "\"lasso_history=[]\\nridge_history=[]\\nfor i in range(10):\\n    lasso_scores = cross_val_score(Lasso(1+i/10,max_iter=1000), Xtr,ytr, cv=5,scoring='neg_mean_squared_error')\\n    lasso_history.append(lasso_scores)\\n    ridge_scores = cross_val_score(Ridge(1+i/10,max_iter=1000), Xtr,ytr, cv=5,scoring='neg_mean_squared_error')\\n    ridge_history.append(ridge_scores)\\n    \""
      ]
     },
     "execution_count": 15,
     "metadata": {},
     "output_type": "execute_result"
    }
   ],
   "execution_count": 15
  },
  {
   "cell_type": "code",
   "id": "84c1adf1",
   "metadata": {
    "ExecuteTime": {
     "end_time": "2024-11-16T18:44:31.839567Z",
     "start_time": "2024-11-16T18:44:31.836657Z"
    }
   },
   "source": "",
   "outputs": [],
   "execution_count": null
  },
  {
   "cell_type": "code",
   "id": "06efe664",
   "metadata": {
    "ExecuteTime": {
     "end_time": "2024-11-16T18:44:31.868671Z",
     "start_time": "2024-11-16T18:44:31.862013Z"
    }
   },
   "source": [
    "# with normalization \n",
    "Xtr=StandardScaler().fit_transform(Xtr)\n",
    "Xte=StandardScaler().fit_transform(Xte)"
   ],
   "outputs": [],
   "execution_count": 16
  },
  {
   "metadata": {
    "ExecuteTime": {
     "end_time": "2024-11-16T18:44:31.986905Z",
     "start_time": "2024-11-16T18:44:31.919141Z"
    }
   },
   "cell_type": "code",
   "source": [
    "model_1=Lasso(0.25).fit(Xtr,ytr)\n",
    "model_2=Ridge(0.25).fit(Xtr,ytr)"
   ],
   "id": "77d2f2e998d639c0",
   "outputs": [
    {
     "name": "stderr",
     "output_type": "stream",
     "text": [
      "C:\\Users\\kashi\\Desktop\\Working_projects\\Working_projects\\NLP\\pythonProject1\\.venv\\Lib\\site-packages\\sklearn\\linear_model\\_coordinate_descent.py:697: ConvergenceWarning: Objective did not converge. You might want to increase the number of iterations, check the scale of the features or consider increasing regularisation. Duality gap: 7.331e+02, tolerance: 2.111e+02\n",
      "  model = cd_fast.enet_coordinate_descent(\n"
     ]
    }
   ],
   "execution_count": 17
  },
  {
   "cell_type": "code",
   "id": "7544927f",
   "metadata": {
    "ExecuteTime": {
     "end_time": "2024-11-16T18:44:32.093035Z",
     "start_time": "2024-11-16T18:44:32.070545Z"
    }
   },
   "source": [
    "from sklearn.model_selection import cross_val_score\n",
    "scores = cross_val_score(model_1, X,y, cv=5,scoring='neg_mean_squared_error')\n",
    "print(f'cv score with lasso: {scores}')\n",
    "scores = cross_val_score(model_2, X,y, cv=5,scoring='neg_mean_squared_error')\n",
    "print(f'cv score with ridge: {scores}')"
   ],
   "outputs": [
    {
     "name": "stdout",
     "output_type": "stream",
     "text": [
      "cv score with lasso: [-2816.88184973 -3035.66226349 -3205.28464847 -2997.49053227\n",
      " -2929.3856928 ]\n",
      "cv score with ridge: [-2783.95794077 -3029.36496978 -3232.41007435 -3006.65011161\n",
      " -2913.11719587]\n"
     ]
    }
   ],
   "execution_count": 18
  },
  {
   "cell_type": "code",
   "id": "a81097a6",
   "metadata": {
    "ExecuteTime": {
     "end_time": "2024-11-16T18:44:32.197961Z",
     "start_time": "2024-11-16T18:44:32.176267Z"
    }
   },
   "source": [
    "# pipelines\n",
    "from sklearn.pipeline import Pipeline\n",
    "\n",
    "pipeline= Pipeline([\n",
    "    ('scaler',  ()),          \n",
    "    ('classifier', LinearRegression())\n",
    "])\n",
    "\n",
    "X_train, X_test, y_train, y_test = train_test_split(X, y, test_size=0.2, random_state=42)\n",
    "pipeline.fit(X_train, y_train)\n",
    "score = pipeline.score(X_test, y_test)\n",
    "print(f'score:{score}')\n"
   ],
   "outputs": [
    {
     "name": "stdout",
     "output_type": "stream",
     "text": [
      "score:0.4526027629719196\n"
     ]
    }
   ],
   "execution_count": 19
  },
  {
   "cell_type": "code",
   "id": "a5dd6853",
   "metadata": {
    "ExecuteTime": {
     "end_time": "2024-11-16T18:44:32.243735Z",
     "start_time": "2024-11-16T18:44:32.242180Z"
    }
   },
   "source": [],
   "outputs": [],
   "execution_count": null
  },
  {
   "cell_type": "code",
   "id": "4e3e6eae",
   "metadata": {
    "ExecuteTime": {
     "end_time": "2024-11-16T18:44:32.272323Z",
     "start_time": "2024-11-16T18:44:32.269974Z"
    }
   },
   "source": [],
   "outputs": [],
   "execution_count": null
  },
  {
   "cell_type": "markdown",
   "id": "c69d0ef7",
   "metadata": {},
   "source": [
    "#### Main learning\n",
    "CV makes sense to avoid picking by chance a validation dataset that has a very high or very low error. \n",
    "By averaging over many ways of picking the validation dataset we get a more honest estimate of the generalization error."
   ]
  },
  {
   "cell_type": "markdown",
   "id": "4a2c2c64",
   "metadata": {},
   "source": [
    "#### Typical errors while doing CV\n",
    "- performing steps on the _whole_ dataset and _then_ doing CV\n",
    "- always peform all modeling operations within the CV split (ignoring the validation dataset of each split)\n",
    "\n"
   ]
  },
  {
   "cell_type": "markdown",
   "id": "5cc59d2b",
   "metadata": {},
   "source": [
    "## References\n",
    "\n",
    "- Trevor Hastie, Robert Tibshirani, Jerome Friedman, The Elements of Statistical Learning, 2nd ed., Springer New York, NY (2009)\n",
    "- Andrew Ng, CS229 Lecture Notes, updated by Tenguye Ma, Standord, Spring 2022\n",
    "https://cs229.stanford.edu/lectures-spring2022/main_notes.pdf\n",
    "\n",
    "- https://scikit-learn.org/stable/modules/cross_validation.html#k-fold"
   ]
  },
  {
   "cell_type": "code",
   "id": "e3fe0508",
   "metadata": {
    "ExecuteTime": {
     "end_time": "2024-11-16T18:44:32.301845Z",
     "start_time": "2024-11-16T18:44:32.299865Z"
    }
   },
   "source": [],
   "outputs": [],
   "execution_count": null
  }
 ],
 "metadata": {
  "kernelspec": {
   "display_name": "Python 3 (ipykernel)",
   "language": "python",
   "name": "python3"
  },
  "language_info": {
   "codemirror_mode": {
    "name": "ipython",
    "version": 3
   },
   "file_extension": ".py",
   "mimetype": "text/x-python",
   "name": "python",
   "nbconvert_exporter": "python",
   "pygments_lexer": "ipython3",
   "version": "3.9.6"
  }
 },
 "nbformat": 4,
 "nbformat_minor": 5
}
