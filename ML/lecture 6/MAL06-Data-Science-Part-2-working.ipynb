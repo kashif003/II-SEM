{
 "cells": [
  {
   "cell_type": "markdown",
   "id": "ff92e859",
   "metadata": {},
   "source": [
    "# Data Science - Part 2 "
   ]
  },
  {
   "cell_type": "code",
   "id": "7842aaea",
   "metadata": {
    "jupyter": {
     "is_executing": true
    }
   },
   "source": [
    "from locale import locale_encoding_alias\n",
    "\n",
    "import numpy as np\n",
    "import pandas as pd\n",
    "import matplotlib.pyplot as plt\n",
    "\n",
    "import os"
   ],
   "outputs": [],
   "execution_count": null
  },
  {
   "cell_type": "markdown",
   "id": "89cdd295",
   "metadata": {},
   "source": [
    "## Higgs Dataset"
   ]
  },
  {
   "cell_type": "code",
   "id": "4e56213a",
   "metadata": {},
   "source": [
    "DATADIR = \"./data_for_intro\""
   ],
   "outputs": [],
   "execution_count": null
  },
  {
   "cell_type": "code",
   "id": "8c0eb387",
   "metadata": {},
   "source": [
    "df = pd.read_csv(os.path.join(DATADIR, \"atlas-higgs-challenge-2014-v2.csv\"))"
   ],
   "outputs": [],
   "execution_count": null
  },
  {
   "cell_type": "code",
   "id": "5c1bac47",
   "metadata": {},
   "source": [
    "df.head()"
   ],
   "outputs": [],
   "execution_count": null
  },
  {
   "cell_type": "code",
   "id": "fc047f6b",
   "metadata": {},
   "source": [
    "df.columns"
   ],
   "outputs": [],
   "execution_count": null
  },
  {
   "cell_type": "code",
   "id": "a7bc4080",
   "metadata": {},
   "source": [
    "plt.pie() # TODO"
   ],
   "outputs": [],
   "execution_count": null
  },
  {
   "cell_type": "markdown",
   "id": "cb71ffde",
   "metadata": {},
   "source": [
    "## Data Imbalance"
   ]
  },
  {
   "cell_type": "code",
   "id": "ba609ea6",
   "metadata": {},
   "source": [],
   "outputs": [],
   "execution_count": null
  },
  {
   "cell_type": "code",
   "id": "e36514f3",
   "metadata": {},
   "source": [],
   "outputs": [],
   "execution_count": null
  },
  {
   "cell_type": "code",
   "id": "42e66d81",
   "metadata": {},
   "source": [],
   "outputs": [],
   "execution_count": null
  },
  {
   "cell_type": "code",
   "id": "3869a9b5",
   "metadata": {},
   "source": [],
   "outputs": [],
   "execution_count": null
  },
  {
   "cell_type": "markdown",
   "id": "879e399e",
   "metadata": {},
   "source": [
    "# Census Dataset Study"
   ]
  },
  {
   "cell_type": "markdown",
   "id": "b4bc4b3e",
   "metadata": {},
   "source": [
    "## Dataset Imbalance\n",
    "\n",
    "- Load dataset\n",
    "- Try fitting Logistic Regression? What do you observe?\n",
    "- Transform all categorical variables into integers. Otherwise, many ML algorithms cannot deal with them. \n",
    "- What out for the non-categorical variables. \n",
    "- Also, encode the target.\n",
    "- What do you observe for the target?"
   ]
  },
  {
   "cell_type": "code",
   "id": "ec70a7ba",
   "metadata": {
    "ExecuteTime": {
     "end_time": "2024-11-21T13:55:58.295385Z",
     "start_time": "2024-11-21T13:55:24.723630Z"
    }
   },
   "source": [
    "from ucimlrepo import fetch_ucirepo \n",
    "from sklearn.model_selection import train_test_split\n",
    "\n",
    "\n",
    "# fetch dataset \n",
    "census_income_kdd = fetch_ucirepo(id=117) \n",
    "  \n",
    "# data (as pandas dataframes) \n",
    "X = census_income_kdd.data.features \n",
    "y = census_income_kdd.data.targets \n",
    "  \n",
    "# metadata \n",
    "print(census_income_kdd.metadata) \n",
    "  \n",
    "# variable information \n",
    "print(census_income_kdd.variables) \n"
   ],
   "outputs": [
    {
     "name": "stdout",
     "output_type": "stream",
     "text": [
      "{'uci_id': 117, 'name': 'Census-Income (KDD)', 'repository_url': 'https://archive.ics.uci.edu/dataset/117/census+income+kdd', 'data_url': 'https://archive.ics.uci.edu/static/public/117/data.csv', 'abstract': 'This data set contains weighted census data extracted from the 1994 and 1995 current population surveys conducted by the U.S. Census Bureau.', 'area': 'Social Science', 'tasks': ['Classification'], 'characteristics': ['Multivariate'], 'num_instances': 299285, 'num_features': 41, 'feature_types': ['Categorical', 'Integer'], 'demographics': ['Age', 'Occupation', 'Education Level', 'Marital Status', 'Race', 'Sex', 'Other', 'Nationality', 'Income'], 'target_col': ['income'], 'index_col': None, 'has_missing_values': 'yes', 'missing_values_symbol': 'NaN', 'year_of_dataset_creation': 2000, 'last_updated': 'Fri Mar 08 2024', 'dataset_doi': '10.24432/C5N30T', 'creators': [], 'intro_paper': None, 'additional_info': {'summary': \"This data set contains weighted census data extracted from the 1994 and 1995 Current Population Surveys conducted by the U.S. Census Bureau. The data contains 41 demographic and employment related variables. \\r\\n\\r\\nThe instance weight indicates the number of people in the population that each record represents due to stratified sampling. To do real analysis and derive conclusions, this field must be used. This attribute should *not* be used in the classifiers. \\r\\n\\r\\nOne instance per line with comma delimited fields. There are 199523 instances in the data file and 99762 in the test file. \\r\\n\\r\\nThe data was split into train/test in approximately 2/3, 1/3 proportions using MineSet's MIndUtil mineset-to-mlc. \\r\\n\", 'purpose': None, 'funded_by': None, 'instances_represent': None, 'recommended_data_splits': None, 'sensitive_data': None, 'preprocessing_description': None, 'variable_info': 'More information detailing the meaning of the attributes can be found in the Census Bureau\\'s documentation To make use of the data descriptions at this site, the following mappings to the Census Bureau\\'s internal database column names will be needed: \\r\\n\\r\\nage\\t\\t\\t\\t\\t\\tAAGE\\r\\nclass of worker\\t\\t\\t\\t\\tACLSWKR\\r\\nindustry code\\t\\t\\t\\t\\tADTIND\\r\\noccupation code\\t\\t\\t\\t\\tADTOCC\\r\\nadjusted gross income\\t\\t\\t\\tAGI\\r\\neducation\\t\\t\\t\\t\\tAHGA\\r\\nwage per hour\\t\\t\\t\\t\\tAHRSPAY\\r\\nenrolled in edu inst last wk\\t\\t\\tAHSCOL\\r\\nmarital status\\t\\t\\t\\t\\tAMARITL\\r\\nmajor industry code\\t\\t\\t\\tAMJIND\\r\\nmajor occupation code\\t\\t\\t\\tAMJOCC\\r\\nmace\\t\\t\\t\\t\\t\\tARACE\\r\\nhispanic Origin\\t\\t\\t\\t\\tAREORGN\\r\\nsex\\t\\t\\t\\t\\t\\tASEX\\r\\nmember of a labor union\\t\\t\\t\\tAUNMEM\\r\\nreason for unemployment\\t\\t\\t\\tAUNTYPE\\r\\nfull or part time employment stat\\t\\tAWKSTAT\\r\\ncapital gains\\t\\t\\t\\t\\tCAPGAIN\\r\\ncapital losses\\t\\t\\t\\t\\tCAPLOSS\\r\\ndivdends from stocks\\t\\t\\t\\tDIVVAL\\r\\nfederal income tax liability\\t\\t\\tFEDTAX\\r\\ntax filer status\\t\\t\\t\\tFILESTAT\\r\\nregion of previous residence\\t\\t\\tGRINREG\\r\\nstate of previous residence\\t\\t\\tGRINST\\r\\ndetailed household and family stat\\t\\tHHDFMX\\r\\ndetailed household summary in household\\t\\tHHDREL\\r\\ninstance weight\\t\\t\\t\\t\\tMARSUPWT\\r\\nmigration code-change in msa\\t\\t\\tMIGMTR1\\r\\nmigration code-change in reg\\t\\t\\tMIGMTR3\\r\\nmigration code-move within reg\\t\\t\\tMIGMTR4\\r\\nlive in this house 1 year ago\\t\\t\\tMIGSAME\\r\\nmigration prev res in sunbelt\\t\\t\\tMIGSUN\\r\\nnum persons worked for employer\\t\\t\\tNOEMP\\r\\nfamily members under 18\\t\\t\\t\\tPARENT\\r\\ntotal person earnings\\t\\t\\t\\tPEARNVAL\\r\\ncountry of birth father\\t\\t\\t\\tPEFNTVTY\\r\\ncountry of birth mother\\t\\t\\t\\tPEMNTVTY\\r\\ncountry of birth self\\t\\t\\t\\tPENATVTY\\r\\ncitizenship\\t\\t\\t\\t\\tPRCITSHP\\r\\ntotal person income\\t\\t\\t\\tPTOTVAL\\r\\nown business or self employed\\t\\t\\tSEOTR\\r\\ntaxable income amount\\t\\t\\t\\tTAXINC\\r\\nfill inc questionnaire for veteran\\'s admin\\tVETQVA\\r\\nveterans benefits\\t\\t\\t\\tVETYN\\r\\nweeks worked in year\\t\\t\\t\\tWKSWORK\\r\\n\\r\\nNote that Incomes have been binned at the $50K level to present a binary classification problem, much like the original UCI/ADULT database. The goal field of this data, however, was drawn from the \"total person income\" field rather than the \"adjusted gross income\" and may, therefore, behave differently than the orginal ADULT goal field. \\r\\n', 'citation': None}}\n",
      "         name     role         type      demographic  \\\n",
      "0        AAGE  Feature      Integer              Age   \n",
      "1     ACLSWKR  Feature  Categorical             None   \n",
      "2      ADTINK  Feature      Integer             None   \n",
      "3      ADTOCC  Feature      Integer       Occupation   \n",
      "4        AHGA  Feature      Integer  Education Level   \n",
      "5      AHSCOL  Feature  Categorical  Education Level   \n",
      "6     AMARITL  Feature  Categorical   Marital Status   \n",
      "7      AMJIND  Feature  Categorical             None   \n",
      "8      AMJOCC  Feature  Categorical       Occupation   \n",
      "9       ARACE  Feature  Categorical             Race   \n",
      "10    AREORGN  Feature  Categorical             None   \n",
      "11       ASEX  Feature  Categorical              Sex   \n",
      "12     AUNMEM  Feature  Categorical             None   \n",
      "13    AUNTYPE  Feature  Categorical             None   \n",
      "14    AWKSTAT  Feature      Integer             None   \n",
      "15    CAPGAIN  Feature      Integer             None   \n",
      "16    GAPLOSS  Feature      Integer             None   \n",
      "17     DIVVAL  Feature  Categorical             None   \n",
      "18   FILESTAT  Feature  Categorical             None   \n",
      "19    GRINREG  Feature  Categorical             None   \n",
      "20     GRINST  Feature  Categorical             None   \n",
      "21     HHDFMX  Feature   Continuous            Other   \n",
      "22     HHDREL  Feature  Categorical             None   \n",
      "23  MARSUPWRT  Feature  Categorical             None   \n",
      "24    MIGMTR1  Feature  Categorical             None   \n",
      "25    MIGMTR3  Feature  Categorical             None   \n",
      "26    MIGMTR4  Feature  Categorical             None   \n",
      "27    MIGSAME  Feature      Integer             None   \n",
      "28     MIGSUN  Feature  Categorical             None   \n",
      "29      NOEMP  Feature  Categorical             None   \n",
      "30     PARENT  Feature  Categorical             None   \n",
      "31   PEFNTVTY  Feature  Categorical             None   \n",
      "32   PEMNTVTY  Feature      Integer             None   \n",
      "33   PENATVTY  Feature  Categorical      Nationality   \n",
      "34   PRCITSHP  Feature      Integer             None   \n",
      "35      SEOTR  Feature      Integer             None   \n",
      "36     VETQVA  Feature  Categorical             None   \n",
      "37      VETYN  Feature  Categorical             None   \n",
      "38    WKSWORK  Feature  Categorical             None   \n",
      "39     income   Target       Binary           Income   \n",
      "40    AHRSPAY  Feature      Integer             None   \n",
      "41       year  Feature      Integer             None   \n",
      "\n",
      "                                  description units missing_values  \n",
      "0                                         age  None             no  \n",
      "1                             class of worker  None             no  \n",
      "2                               industry code  None             no  \n",
      "3                             occupation code  None             no  \n",
      "4                                   education  None             no  \n",
      "5                   enrolled in edu last week  None             no  \n",
      "6                              marital status  None             no  \n",
      "7                         major industry code  None             no  \n",
      "8                       major occupation code  None             no  \n",
      "9                                        race  None             no  \n",
      "10                            hispanic origin  None             no  \n",
      "11                                        sex  None             no  \n",
      "12                    member of a labor union  None             no  \n",
      "13                    reason for unemployment  None             no  \n",
      "14          full or part time employment stat  None             no  \n",
      "15                              capital gains  None             no  \n",
      "16                             capital losses  None             no  \n",
      "17                      dividends from stocks  None             no  \n",
      "18                           tax filer status  None             no  \n",
      "19               region of previous residence  None             no  \n",
      "20                state of previous residence  None             no  \n",
      "21         detailed household and family stat  None             no  \n",
      "22    detailed household summary in household  None             no  \n",
      "23                            instance weight  None             no  \n",
      "24               migration code-change in msa  None            yes  \n",
      "25               migration code-change in reg  None            yes  \n",
      "26             migration code-move within reg  None            yes  \n",
      "27              live in this house 1 year ago  None             no  \n",
      "28              migration prev res in sunbelt  None            yes  \n",
      "29            num persons worked for employer  None             no  \n",
      "30                    family members under 18  None             no  \n",
      "31                    country of birth father  None            yes  \n",
      "32                    country of birth mother  None            yes  \n",
      "33                      country of birth self  None             no  \n",
      "34                                citizenship  None             no  \n",
      "35              own business or self employed  None             no  \n",
      "36  fill inc questionaire for veteran's admin  None             no  \n",
      "37                          veterans benefits  None             no  \n",
      "38                       weeks worked in year  None             no  \n",
      "39                        below or above $50k  None             no  \n",
      "40                              wage per hour  None             no  \n",
      "41                                   94 or 95  None             no  \n"
     ]
    }
   ],
   "execution_count": 1
  },
  {
   "cell_type": "code",
   "id": "5b4ece84",
   "metadata": {
    "ExecuteTime": {
     "end_time": "2024-11-21T13:55:58.327965Z",
     "start_time": "2024-11-21T13:55:58.316635Z"
    }
   },
   "source": [
    "import pandas as pd\n",
    "df_features=pd.DataFrame(X)\n",
    "df_targets=pd.DataFrame(y)\n"
   ],
   "outputs": [],
   "execution_count": 2
  },
  {
   "metadata": {
    "ExecuteTime": {
     "end_time": "2024-11-21T13:55:58.370275Z",
     "start_time": "2024-11-21T13:55:58.333753Z"
    }
   },
   "cell_type": "code",
   "source": [
    "from sklearn.preprocessing import LabelEncoder\n",
    "encoder= LabelEncoder()\n",
    "df_targets['income'] = encoder.fit_transform(df_targets['income'])\n",
    "\n",
    "df_targets.head()\n",
    "class_mapping = dict(zip(encoder.classes_, encoder.transform(encoder.classes_)))\n",
    "\n",
    "# Display the class mapping\n",
    "print(class_mapping)\n"
   ],
   "id": "d85ea4c865b515b0",
   "outputs": [
    {
     "name": "stdout",
     "output_type": "stream",
     "text": [
      "{' 50000+.': np.int64(0), '-50000': np.int64(1)}\n"
     ]
    }
   ],
   "execution_count": 3
  },
  {
   "metadata": {
    "ExecuteTime": {
     "end_time": "2024-11-21T13:55:58.878152Z",
     "start_time": "2024-11-21T13:55:58.871570Z"
    }
   },
   "cell_type": "code",
   "source": [
    "count_A=df_targets['income'].sum()\n",
    "count_B= len(df_targets['income'])-count_A\n",
    "print(f'number of people which are in class <=50k: {count_B}')\n",
    "print(f'number of people which are in class >50k: {count_A}')"
   ],
   "id": "237c7fa3a19350a8",
   "outputs": [
    {
     "name": "stdout",
     "output_type": "stream",
     "text": [
      "number of people which are in class <=50k: 12382\n",
      "number of people which are in class >50k: 187141\n"
     ]
    }
   ],
   "execution_count": 4
  },
  {
   "metadata": {
    "ExecuteTime": {
     "end_time": "2024-11-21T13:56:11.688361Z",
     "start_time": "2024-11-21T13:56:11.578655Z"
    }
   },
   "cell_type": "code",
   "source": [
    "# visualizing the class imbalance\n",
    "import matplotlib.pyplot as plt\n",
    "categories= [k for k in class_mapping]\n",
    "values=[count_B, count_A]\n",
    "\n",
    "plt.bar(categories, values,color=['red', 'blue'])\n",
    "plt.title('class balance')\n",
    "plt.xlabel('category')\n",
    "plt.ylabel('count')\n",
    "plt.show()\n",
    "print('so we have class imbalance')\n",
    "percentage= count_B/len(df_targets['income'])*100\n",
    "print(f' {int(percentage)}% of samples are in <=50k class and {int(100-percentage)} are in >50k class')"
   ],
   "id": "1e2736526e759708",
   "outputs": [
    {
     "data": {
      "text/plain": [
       "<Figure size 640x480 with 1 Axes>"
      ],
      "image/png": "[encoded data removed]"
     },
     "metadata": {},
     "output_type": "display_data"
    },
    {
     "name": "stdout",
     "output_type": "stream",
     "text": [
      "so we have class imbalance\n",
      " 6% of samples are in <=50k class and 93 are in >50k class\n"
     ]
    }
   ],
   "execution_count": 6
  },
  {
   "metadata": {
    "ExecuteTime": {
     "end_time": "2024-11-21T13:56:15.632099Z",
     "start_time": "2024-11-21T13:56:15.614111Z"
    }
   },
   "cell_type": "code",
   "source": [
    "from sklearn.preprocessing import OrdinalEncoder, LabelEncoder\n",
    "o_encoder= OrdinalEncoder()\n",
    "l_endcoder= LabelEncoder()\n"
   ],
   "id": "afe6ee8a4ba8c4d5",
   "outputs": [],
   "execution_count": 7
  },
  {
   "metadata": {
    "ExecuteTime": {
     "end_time": "2024-11-21T13:56:16.102763Z",
     "start_time": "2024-11-21T13:56:16.089859Z"
    }
   },
   "cell_type": "code",
   "source": "df_features.columns",
   "id": "4b0976cf93761e70",
   "outputs": [
    {
     "data": {
      "text/plain": [
       "Index(['AAGE', 'ACLSWKR', 'ADTINK', 'ADTOCC', 'AHGA', 'AHSCOL', 'AMARITL',\n",
       "       'AMJIND', 'AMJOCC', 'ARACE', 'AREORGN', 'ASEX', 'AUNMEM', 'AUNTYPE',\n",
       "       'AWKSTAT', 'CAPGAIN', 'GAPLOSS', 'DIVVAL', 'FILESTAT', 'GRINREG',\n",
       "       'GRINST', 'HHDFMX', 'HHDREL', 'MARSUPWRT', 'MIGMTR1', 'MIGMTR3',\n",
       "       'MIGMTR4', 'MIGSAME', 'MIGSUN', 'NOEMP', 'PARENT', 'PEFNTVTY',\n",
       "       'PEMNTVTY', 'PENATVTY', 'PRCITSHP', 'SEOTR', 'VETQVA', 'VETYN',\n",
       "       'WKSWORK', 'AHRSPAY', 'year'],\n",
       "      dtype='object')"
      ]
     },
     "execution_count": 8,
     "metadata": {},
     "output_type": "execute_result"
    }
   ],
   "execution_count": 8
  },
  {
   "metadata": {
    "ExecuteTime": {
     "end_time": "2024-11-21T13:56:16.470467Z",
     "start_time": "2024-11-21T13:56:16.449412Z"
    }
   },
   "cell_type": "code",
   "source": "df_encoded_targets= l_endcoder.fit_transform(df_targets)",
   "id": "2e576fdc62600336",
   "outputs": [
    {
     "name": "stderr",
     "output_type": "stream",
     "text": [
      "C:\\Users\\kashi\\Desktop\\Working_projects\\Working_projects\\NLP\\pythonProject1\\.venv\\Lib\\site-packages\\sklearn\\preprocessing\\_label.py:114: DataConversionWarning: A column-vector y was passed when a 1d array was expected. Please change the shape of y to (n_samples, ), for example using ravel().\n",
      "  y = column_or_1d(y, warn=True)\n"
     ]
    }
   ],
   "execution_count": 9
  },
  {
   "metadata": {
    "ExecuteTime": {
     "end_time": "2024-11-21T13:56:16.783362Z",
     "start_time": "2024-11-21T13:56:16.780133Z"
    }
   },
   "cell_type": "code",
   "source": "",
   "id": "f1e54140168ee0f4",
   "outputs": [],
   "execution_count": null
  },
  {
   "metadata": {
    "ExecuteTime": {
     "end_time": "2024-11-21T13:56:18.548760Z",
     "start_time": "2024-11-21T13:56:17.657051Z"
    }
   },
   "cell_type": "code",
   "source": [
    "df_features=df_features.fillna(-1)\n",
    "df_features=df_features.astype(str)"
   ],
   "id": "c2cb3c97c631f51c",
   "outputs": [],
   "execution_count": 10
  },
  {
   "metadata": {
    "ExecuteTime": {
     "end_time": "2024-11-21T13:56:20.350479Z",
     "start_time": "2024-11-21T13:56:18.558980Z"
    }
   },
   "cell_type": "code",
   "source": "df_encoded_features= o_encoder.fit_transform(df_features)",
   "id": "97d59bf3268b8490",
   "outputs": [],
   "execution_count": 11
  },
  {
   "cell_type": "code",
   "id": "dc896c1f",
   "metadata": {
    "ExecuteTime": {
     "end_time": "2024-11-21T13:56:20.687019Z",
     "start_time": "2024-11-21T13:56:20.596436Z"
    }
   },
   "source": [
    "''# Baseline model \n",
    "\n",
    "from sklearn.linear_model import LogisticRegression\n",
    "from sklearn.preprocessing import StandardScaler"
   ],
   "outputs": [],
   "execution_count": 12
  },
  {
   "metadata": {
    "ExecuteTime": {
     "end_time": "2024-11-21T13:56:20.938917Z",
     "start_time": "2024-11-21T13:56:20.929792Z"
    }
   },
   "cell_type": "code",
   "source": "df_targets",
   "id": "e85efee9a83696fd",
   "outputs": [
    {
     "data": {
      "text/plain": [
       "        income\n",
       "0            1\n",
       "1            1\n",
       "2            1\n",
       "3            1\n",
       "4            1\n",
       "...        ...\n",
       "199518       1\n",
       "199519       1\n",
       "199520       1\n",
       "199521       1\n",
       "199522       1\n",
       "\n",
       "[199523 rows x 1 columns]"
      ],
      "text/html": [
       "<div>\n",
       "<style scoped>\n",
       "    .dataframe tbody tr th:only-of-type {\n",
       "        vertical-align: middle;\n",
       "    }\n",
       "\n",
       "    .dataframe tbody tr th {\n",
       "        vertical-align: top;\n",
       "    }\n",
       "\n",
       "    .dataframe thead th {\n",
       "        text-align: right;\n",
       "    }\n",
       "</style>\n",
       "<table border=\"1\" class=\"dataframe\">\n",
       "  <thead>\n",
       "    <tr style=\"text-align: right;\">\n",
       "      <th></th>\n",
       "      <th>income</th>\n",
       "    </tr>\n",
       "  </thead>\n",
       "  <tbody>\n",
       "    <tr>\n",
       "      <th>0</th>\n",
       "      <td>1</td>\n",
       "    </tr>\n",
       "    <tr>\n",
       "      <th>1</th>\n",
       "      <td>1</td>\n",
       "    </tr>\n",
       "    <tr>\n",
       "      <th>2</th>\n",
       "      <td>1</td>\n",
       "    </tr>\n",
       "    <tr>\n",
       "      <th>3</th>\n",
       "      <td>1</td>\n",
       "    </tr>\n",
       "    <tr>\n",
       "      <th>4</th>\n",
       "      <td>1</td>\n",
       "    </tr>\n",
       "    <tr>\n",
       "      <th>...</th>\n",
       "      <td>...</td>\n",
       "    </tr>\n",
       "    <tr>\n",
       "      <th>199518</th>\n",
       "      <td>1</td>\n",
       "    </tr>\n",
       "    <tr>\n",
       "      <th>199519</th>\n",
       "      <td>1</td>\n",
       "    </tr>\n",
       "    <tr>\n",
       "      <th>199520</th>\n",
       "      <td>1</td>\n",
       "    </tr>\n",
       "    <tr>\n",
       "      <th>199521</th>\n",
       "      <td>1</td>\n",
       "    </tr>\n",
       "    <tr>\n",
       "      <th>199522</th>\n",
       "      <td>1</td>\n",
       "    </tr>\n",
       "  </tbody>\n",
       "</table>\n",
       "<p>199523 rows × 1 columns</p>\n",
       "</div>"
      ]
     },
     "execution_count": 13,
     "metadata": {},
     "output_type": "execute_result"
    }
   ],
   "execution_count": 13
  },
  {
   "metadata": {
    "ExecuteTime": {
     "end_time": "2024-11-21T13:56:21.219051Z",
     "start_time": "2024-11-21T13:56:21.216017Z"
    }
   },
   "cell_type": "code",
   "source": "",
   "id": "a7eb807da5b3774b",
   "outputs": [],
   "execution_count": null
  },
  {
   "cell_type": "code",
   "id": "d6f750b1",
   "metadata": {
    "ExecuteTime": {
     "end_time": "2024-11-21T13:56:23.913695Z",
     "start_time": "2024-11-21T13:56:21.562861Z"
    }
   },
   "source": [
    "from sklearn.neighbors import KNeighborsClassifier\n",
    "from sklearn.model_selection import train_test_split\n",
    "from sklearn.linear_model import LogisticRegression\n",
    "X_train, X_test, y_train, y_test= train_test_split(df_encoded_features, df_encoded_targets, random_state=42,shuffle=True, test_size=0.2)\n",
    "model= LogisticRegression()\n",
    "\n",
    "model.fit(X_train,y_train)\n",
    "model_2= KNeighborsClassifier(2)\n",
    "model_2.fit(X_train,y_train)"
   ],
   "outputs": [
    {
     "name": "stderr",
     "output_type": "stream",
     "text": [
      "C:\\Users\\kashi\\Desktop\\Working_projects\\Working_projects\\NLP\\pythonProject1\\.venv\\Lib\\site-packages\\sklearn\\linear_model\\_logistic.py:469: ConvergenceWarning: lbfgs failed to converge (status=1):\n",
      "STOP: TOTAL NO. of ITERATIONS REACHED LIMIT.\n",
      "\n",
      "Increase the number of iterations (max_iter) or scale the data as shown in:\n",
      "    https://scikit-learn.org/stable/modules/preprocessing.html\n",
      "Please also refer to the documentation for alternative solver options:\n",
      "    https://scikit-learn.org/stable/modules/linear_model.html#logistic-regression\n",
      "  n_iter_i = _check_optimize_result(\n"
     ]
    },
    {
     "data": {
      "text/plain": [
       "KNeighborsClassifier(n_neighbors=2)"
      ],
      "text/html": [
       "<style>#sk-container-id-1 {\n",
       "  /* Definition of color scheme common for light and dark mode */\n",
       "  --sklearn-color-text: black;\n",
       "  --sklearn-color-line: gray;\n",
       "  /* Definition of color scheme for unfitted estimators */\n",
       "  --sklearn-color-unfitted-level-0: #fff5e6;\n",
       "  --sklearn-color-unfitted-level-1: #f6e4d2;\n",
       "  --sklearn-color-unfitted-level-2: #ffe0b3;\n",
       "  --sklearn-color-unfitted-level-3: chocolate;\n",
       "  /* Definition of color scheme for fitted estimators */\n",
       "  --sklearn-color-fitted-level-0: #f0f8ff;\n",
       "  --sklearn-color-fitted-level-1: #d4ebff;\n",
       "  --sklearn-color-fitted-level-2: #b3dbfd;\n",
       "  --sklearn-color-fitted-level-3: cornflowerblue;\n",
       "\n",
       "  /* Specific color for light theme */\n",
       "  --sklearn-color-text-on-default-background: var(--sg-text-color, var(--theme-code-foreground, var(--jp-content-font-color1, black)));\n",
       "  --sklearn-color-background: var(--sg-background-color, var(--theme-background, var(--jp-layout-color0, white)));\n",
       "  --sklearn-color-border-box: var(--sg-text-color, var(--theme-code-foreground, var(--jp-content-font-color1, black)));\n",
       "  --sklearn-color-icon: #696969;\n",
       "\n",
       "  @media (prefers-color-scheme: dark) {\n",
       "    /* Redefinition of color scheme for dark theme */\n",
       "    --sklearn-color-text-on-default-background: var(--sg-text-color, var(--theme-code-foreground, var(--jp-content-font-color1, white)));\n",
       "    --sklearn-color-background: var(--sg-background-color, var(--theme-background, var(--jp-layout-color0, #111)));\n",
       "    --sklearn-color-border-box: var(--sg-text-color, var(--theme-code-foreground, var(--jp-content-font-color1, white)));\n",
       "    --sklearn-color-icon: #878787;\n",
       "  }\n",
       "}\n",
       "\n",
       "#sk-container-id-1 {\n",
       "  color: var(--sklearn-color-text);\n",
       "}\n",
       "\n",
       "#sk-container-id-1 pre {\n",
       "  padding: 0;\n",
       "}\n",
       "\n",
       "#sk-container-id-1 input.sk-hidden--visually {\n",
       "  border: 0;\n",
       "  clip: rect(1px 1px 1px 1px);\n",
       "  clip: rect(1px, 1px, 1px, 1px);\n",
       "  height: 1px;\n",
       "  margin: -1px;\n",
       "  overflow: hidden;\n",
       "  padding: 0;\n",
       "  position: absolute;\n",
       "  width: 1px;\n",
       "}\n",
       "\n",
       "#sk-container-id-1 div.sk-dashed-wrapped {\n",
       "  border: 1px dashed var(--sklearn-color-line);\n",
       "  margin: 0 0.4em 0.5em 0.4em;\n",
       "  box-sizing: border-box;\n",
       "  padding-bottom: 0.4em;\n",
       "  background-color: var(--sklearn-color-background);\n",
       "}\n",
       "\n",
       "#sk-container-id-1 div.sk-container {\n",
       "  /* jupyter's `normalize.less` sets `[hidden] { display: none; }`\n",
       "     but bootstrap.min.css set `[hidden] { display: none !important; }`\n",
       "     so we also need the `!important` here to be able to override the\n",
       "     default hidden behavior on the sphinx rendered scikit-learn.org.\n",
       "     See: https://github.com/scikit-learn/scikit-learn/issues/21755 */\n",
       "  display: inline-block !important;\n",
       "  position: relative;\n",
       "}\n",
       "\n",
       "#sk-container-id-1 div.sk-text-repr-fallback {\n",
       "  display: none;\n",
       "}\n",
       "\n",
       "div.sk-parallel-item,\n",
       "div.sk-serial,\n",
       "div.sk-item {\n",
       "  /* draw centered vertical line to link estimators */\n",
       "  background-image: linear-gradient(var(--sklearn-color-text-on-default-background), var(--sklearn-color-text-on-default-background));\n",
       "  background-size: 2px 100%;\n",
       "  background-repeat: no-repeat;\n",
       "  background-position: center center;\n",
       "}\n",
       "\n",
       "/* Parallel-specific style estimator block */\n",
       "\n",
       "#sk-container-id-1 div.sk-parallel-item::after {\n",
       "  content: \"\";\n",
       "  width: 100%;\n",
       "  border-bottom: 2px solid var(--sklearn-color-text-on-default-background);\n",
       "  flex-grow: 1;\n",
       "}\n",
       "\n",
       "#sk-container-id-1 div.sk-parallel {\n",
       "  display: flex;\n",
       "  align-items: stretch;\n",
       "  justify-content: center;\n",
       "  background-color: var(--sklearn-color-background);\n",
       "  position: relative;\n",
       "}\n",
       "\n",
       "#sk-container-id-1 div.sk-parallel-item {\n",
       "  display: flex;\n",
       "  flex-direction: column;\n",
       "}\n",
       "\n",
       "#sk-container-id-1 div.sk-parallel-item:first-child::after {\n",
       "  align-self: flex-end;\n",
       "  width: 50%;\n",
       "}\n",
       "\n",
       "#sk-container-id-1 div.sk-parallel-item:last-child::after {\n",
       "  align-self: flex-start;\n",
       "  width: 50%;\n",
       "}\n",
       "\n",
       "#sk-container-id-1 div.sk-parallel-item:only-child::after {\n",
       "  width: 0;\n",
       "}\n",
       "\n",
       "/* Serial-specific style estimator block */\n",
       "\n",
       "#sk-container-id-1 div.sk-serial {\n",
       "  display: flex;\n",
       "  flex-direction: column;\n",
       "  align-items: center;\n",
       "  background-color: var(--sklearn-color-background);\n",
       "  padding-right: 1em;\n",
       "  padding-left: 1em;\n",
       "}\n",
       "\n",
       "\n",
       "/* Toggleable style: style used for estimator/Pipeline/ColumnTransformer box that is\n",
       "clickable and can be expanded/collapsed.\n",
       "- Pipeline and ColumnTransformer use this feature and define the default style\n",
       "- Estimators will overwrite some part of the style using the `sk-estimator` class\n",
       "*/\n",
       "\n",
       "/* Pipeline and ColumnTransformer style (default) */\n",
       "\n",
       "#sk-container-id-1 div.sk-toggleable {\n",
       "  /* Default theme specific background. It is overwritten whether we have a\n",
       "  specific estimator or a Pipeline/ColumnTransformer */\n",
       "  background-color: var(--sklearn-color-background);\n",
       "}\n",
       "\n",
       "/* Toggleable label */\n",
       "#sk-container-id-1 label.sk-toggleable__label {\n",
       "  cursor: pointer;\n",
       "  display: block;\n",
       "  width: 100%;\n",
       "  margin-bottom: 0;\n",
       "  padding: 0.5em;\n",
       "  box-sizing: border-box;\n",
       "  text-align: center;\n",
       "}\n",
       "\n",
       "#sk-container-id-1 label.sk-toggleable__label-arrow:before {\n",
       "  /* Arrow on the left of the label */\n",
       "  content: \"▸\";\n",
       "  float: left;\n",
       "  margin-right: 0.25em;\n",
       "  color: var(--sklearn-color-icon);\n",
       "}\n",
       "\n",
       "#sk-container-id-1 label.sk-toggleable__label-arrow:hover:before {\n",
       "  color: var(--sklearn-color-text);\n",
       "}\n",
       "\n",
       "/* Toggleable content - dropdown */\n",
       "\n",
       "#sk-container-id-1 div.sk-toggleable__content {\n",
       "  max-height: 0;\n",
       "  max-width: 0;\n",
       "  overflow: hidden;\n",
       "  text-align: left;\n",
       "  /* unfitted */\n",
       "  background-color: var(--sklearn-color-unfitted-level-0);\n",
       "}\n",
       "\n",
       "#sk-container-id-1 div.sk-toggleable__content.fitted {\n",
       "  /* fitted */\n",
       "  background-color: var(--sklearn-color-fitted-level-0);\n",
       "}\n",
       "\n",
       "#sk-container-id-1 div.sk-toggleable__content pre {\n",
       "  margin: 0.2em;\n",
       "  border-radius: 0.25em;\n",
       "  color: var(--sklearn-color-text);\n",
       "  /* unfitted */\n",
       "  background-color: var(--sklearn-color-unfitted-level-0);\n",
       "}\n",
       "\n",
       "#sk-container-id-1 div.sk-toggleable__content.fitted pre {\n",
       "  /* unfitted */\n",
       "  background-color: var(--sklearn-color-fitted-level-0);\n",
       "}\n",
       "\n",
       "#sk-container-id-1 input.sk-toggleable__control:checked~div.sk-toggleable__content {\n",
       "  /* Expand drop-down */\n",
       "  max-height: 200px;\n",
       "  max-width: 100%;\n",
       "  overflow: auto;\n",
       "}\n",
       "\n",
       "#sk-container-id-1 input.sk-toggleable__control:checked~label.sk-toggleable__label-arrow:before {\n",
       "  content: \"▾\";\n",
       "}\n",
       "\n",
       "/* Pipeline/ColumnTransformer-specific style */\n",
       "\n",
       "#sk-container-id-1 div.sk-label input.sk-toggleable__control:checked~label.sk-toggleable__label {\n",
       "  color: var(--sklearn-color-text);\n",
       "  background-color: var(--sklearn-color-unfitted-level-2);\n",
       "}\n",
       "\n",
       "#sk-container-id-1 div.sk-label.fitted input.sk-toggleable__control:checked~label.sk-toggleable__label {\n",
       "  background-color: var(--sklearn-color-fitted-level-2);\n",
       "}\n",
       "\n",
       "/* Estimator-specific style */\n",
       "\n",
       "/* Colorize estimator box */\n",
       "#sk-container-id-1 div.sk-estimator input.sk-toggleable__control:checked~label.sk-toggleable__label {\n",
       "  /* unfitted */\n",
       "  background-color: var(--sklearn-color-unfitted-level-2);\n",
       "}\n",
       "\n",
       "#sk-container-id-1 div.sk-estimator.fitted input.sk-toggleable__control:checked~label.sk-toggleable__label {\n",
       "  /* fitted */\n",
       "  background-color: var(--sklearn-color-fitted-level-2);\n",
       "}\n",
       "\n",
       "#sk-container-id-1 div.sk-label label.sk-toggleable__label,\n",
       "#sk-container-id-1 div.sk-label label {\n",
       "  /* The background is the default theme color */\n",
       "  color: var(--sklearn-color-text-on-default-background);\n",
       "}\n",
       "\n",
       "/* On hover, darken the color of the background */\n",
       "#sk-container-id-1 div.sk-label:hover label.sk-toggleable__label {\n",
       "  color: var(--sklearn-color-text);\n",
       "  background-color: var(--sklearn-color-unfitted-level-2);\n",
       "}\n",
       "\n",
       "/* Label box, darken color on hover, fitted */\n",
       "#sk-container-id-1 div.sk-label.fitted:hover label.sk-toggleable__label.fitted {\n",
       "  color: var(--sklearn-color-text);\n",
       "  background-color: var(--sklearn-color-fitted-level-2);\n",
       "}\n",
       "\n",
       "/* Estimator label */\n",
       "\n",
       "#sk-container-id-1 div.sk-label label {\n",
       "  font-family: monospace;\n",
       "  font-weight: bold;\n",
       "  display: inline-block;\n",
       "  line-height: 1.2em;\n",
       "}\n",
       "\n",
       "#sk-container-id-1 div.sk-label-container {\n",
       "  text-align: center;\n",
       "}\n",
       "\n",
       "/* Estimator-specific */\n",
       "#sk-container-id-1 div.sk-estimator {\n",
       "  font-family: monospace;\n",
       "  border: 1px dotted var(--sklearn-color-border-box);\n",
       "  border-radius: 0.25em;\n",
       "  box-sizing: border-box;\n",
       "  margin-bottom: 0.5em;\n",
       "  /* unfitted */\n",
       "  background-color: var(--sklearn-color-unfitted-level-0);\n",
       "}\n",
       "\n",
       "#sk-container-id-1 div.sk-estimator.fitted {\n",
       "  /* fitted */\n",
       "  background-color: var(--sklearn-color-fitted-level-0);\n",
       "}\n",
       "\n",
       "/* on hover */\n",
       "#sk-container-id-1 div.sk-estimator:hover {\n",
       "  /* unfitted */\n",
       "  background-color: var(--sklearn-color-unfitted-level-2);\n",
       "}\n",
       "\n",
       "#sk-container-id-1 div.sk-estimator.fitted:hover {\n",
       "  /* fitted */\n",
       "  background-color: var(--sklearn-color-fitted-level-2);\n",
       "}\n",
       "\n",
       "/* Specification for estimator info (e.g. \"i\" and \"?\") */\n",
       "\n",
       "/* Common style for \"i\" and \"?\" */\n",
       "\n",
       ".sk-estimator-doc-link,\n",
       "a:link.sk-estimator-doc-link,\n",
       "a:visited.sk-estimator-doc-link {\n",
       "  float: right;\n",
       "  font-size: smaller;\n",
       "  line-height: 1em;\n",
       "  font-family: monospace;\n",
       "  background-color: var(--sklearn-color-background);\n",
       "  border-radius: 1em;\n",
       "  height: 1em;\n",
       "  width: 1em;\n",
       "  text-decoration: none !important;\n",
       "  margin-left: 1ex;\n",
       "  /* unfitted */\n",
       "  border: var(--sklearn-color-unfitted-level-1) 1pt solid;\n",
       "  color: var(--sklearn-color-unfitted-level-1);\n",
       "}\n",
       "\n",
       ".sk-estimator-doc-link.fitted,\n",
       "a:link.sk-estimator-doc-link.fitted,\n",
       "a:visited.sk-estimator-doc-link.fitted {\n",
       "  /* fitted */\n",
       "  border: var(--sklearn-color-fitted-level-1) 1pt solid;\n",
       "  color: var(--sklearn-color-fitted-level-1);\n",
       "}\n",
       "\n",
       "/* On hover */\n",
       "div.sk-estimator:hover .sk-estimator-doc-link:hover,\n",
       ".sk-estimator-doc-link:hover,\n",
       "div.sk-label-container:hover .sk-estimator-doc-link:hover,\n",
       ".sk-estimator-doc-link:hover {\n",
       "  /* unfitted */\n",
       "  background-color: var(--sklearn-color-unfitted-level-3);\n",
       "  color: var(--sklearn-color-background);\n",
       "  text-decoration: none;\n",
       "}\n",
       "\n",
       "div.sk-estimator.fitted:hover .sk-estimator-doc-link.fitted:hover,\n",
       ".sk-estimator-doc-link.fitted:hover,\n",
       "div.sk-label-container:hover .sk-estimator-doc-link.fitted:hover,\n",
       ".sk-estimator-doc-link.fitted:hover {\n",
       "  /* fitted */\n",
       "  background-color: var(--sklearn-color-fitted-level-3);\n",
       "  color: var(--sklearn-color-background);\n",
       "  text-decoration: none;\n",
       "}\n",
       "\n",
       "/* Span, style for the box shown on hovering the info icon */\n",
       ".sk-estimator-doc-link span {\n",
       "  display: none;\n",
       "  z-index: 9999;\n",
       "  position: relative;\n",
       "  font-weight: normal;\n",
       "  right: .2ex;\n",
       "  padding: .5ex;\n",
       "  margin: .5ex;\n",
       "  width: min-content;\n",
       "  min-width: 20ex;\n",
       "  max-width: 50ex;\n",
       "  color: var(--sklearn-color-text);\n",
       "  box-shadow: 2pt 2pt 4pt #999;\n",
       "  /* unfitted */\n",
       "  background: var(--sklearn-color-unfitted-level-0);\n",
       "  border: .5pt solid var(--sklearn-color-unfitted-level-3);\n",
       "}\n",
       "\n",
       ".sk-estimator-doc-link.fitted span {\n",
       "  /* fitted */\n",
       "  background: var(--sklearn-color-fitted-level-0);\n",
       "  border: var(--sklearn-color-fitted-level-3);\n",
       "}\n",
       "\n",
       ".sk-estimator-doc-link:hover span {\n",
       "  display: block;\n",
       "}\n",
       "\n",
       "/* \"?\"-specific style due to the `<a>` HTML tag */\n",
       "\n",
       "#sk-container-id-1 a.estimator_doc_link {\n",
       "  float: right;\n",
       "  font-size: 1rem;\n",
       "  line-height: 1em;\n",
       "  font-family: monospace;\n",
       "  background-color: var(--sklearn-color-background);\n",
       "  border-radius: 1rem;\n",
       "  height: 1rem;\n",
       "  width: 1rem;\n",
       "  text-decoration: none;\n",
       "  /* unfitted */\n",
       "  color: var(--sklearn-color-unfitted-level-1);\n",
       "  border: var(--sklearn-color-unfitted-level-1) 1pt solid;\n",
       "}\n",
       "\n",
       "#sk-container-id-1 a.estimator_doc_link.fitted {\n",
       "  /* fitted */\n",
       "  border: var(--sklearn-color-fitted-level-1) 1pt solid;\n",
       "  color: var(--sklearn-color-fitted-level-1);\n",
       "}\n",
       "\n",
       "/* On hover */\n",
       "#sk-container-id-1 a.estimator_doc_link:hover {\n",
       "  /* unfitted */\n",
       "  background-color: var(--sklearn-color-unfitted-level-3);\n",
       "  color: var(--sklearn-color-background);\n",
       "  text-decoration: none;\n",
       "}\n",
       "\n",
       "#sk-container-id-1 a.estimator_doc_link.fitted:hover {\n",
       "  /* fitted */\n",
       "  background-color: var(--sklearn-color-fitted-level-3);\n",
       "}\n",
       "</style><div id=\"sk-container-id-1\" class=\"sk-top-container\"><div class=\"sk-text-repr-fallback\"><pre>KNeighborsClassifier(n_neighbors=2)</pre><b>In a Jupyter environment, please rerun this cell to show the HTML representation or trust the notebook. <br />On GitHub, the HTML representation is unable to render, please try loading this page with nbviewer.org.</b></div><div class=\"sk-container\" hidden><div class=\"sk-item\"><div class=\"sk-estimator fitted sk-toggleable\"><input class=\"sk-toggleable__control sk-hidden--visually\" id=\"sk-estimator-id-1\" type=\"checkbox\" checked><label for=\"sk-estimator-id-1\" class=\"sk-toggleable__label fitted sk-toggleable__label-arrow fitted\">&nbsp;&nbsp;KNeighborsClassifier<a class=\"sk-estimator-doc-link fitted\" rel=\"noreferrer\" target=\"_blank\" href=\"https://scikit-learn.org/1.5/modules/generated/sklearn.neighbors.KNeighborsClassifier.html\">?<span>Documentation for KNeighborsClassifier</span></a><span class=\"sk-estimator-doc-link fitted\">i<span>Fitted</span></span></label><div class=\"sk-toggleable__content fitted\"><pre>KNeighborsClassifier(n_neighbors=2)</pre></div> </div></div></div></div>"
      ]
     },
     "execution_count": 14,
     "metadata": {},
     "output_type": "execute_result"
    }
   ],
   "execution_count": 14
  },
  {
   "cell_type": "code",
   "id": "ecff0d34",
   "metadata": {
    "ExecuteTime": {
     "end_time": "2024-11-21T13:56:32.829081Z",
     "start_time": "2024-11-21T13:56:24.047724Z"
    }
   },
   "source": [
    "y_preds= model.predict(X_test)\n",
    "y_preds_2=model_2.predict(X_test)"
   ],
   "outputs": [],
   "execution_count": 15
  },
  {
   "cell_type": "code",
   "id": "07e46c5c",
   "metadata": {
    "ExecuteTime": {
     "end_time": "2024-11-21T13:56:33.110786Z",
     "start_time": "2024-11-21T13:56:33.106981Z"
    }
   },
   "source": [
    "from sklearn.metrics import precision_score, recall_score, accuracy_score, f1_score, confusion_matrix, balanced_accuracy_score"
   ],
   "outputs": [],
   "execution_count": 16
  },
  {
   "metadata": {
    "ExecuteTime": {
     "end_time": "2024-11-21T13:56:33.420019Z",
     "start_time": "2024-11-21T13:56:33.398038Z"
    }
   },
   "cell_type": "code",
   "source": [
    "from sklearn.metrics import precision_score, recall_score, accuracy_score, f1_score, confusion_matrix, balanced_accuracy_score\n",
    "acc= accuracy_score(y_test, y_preds_2)\n",
    "prec=precision_score(y_test, y_preds_2)\n",
    "recall=recall_score(y_test, y_preds_2)\n",
    "f1=f1_score(y_test, y_preds_2)\n",
    "matrix_2=confusion_matrix(y_test, y_preds_2)\n",
    "balanced_acc= balanced_accuracy_score(y_test, y_preds_2)"
   ],
   "id": "1baaa1db17b63010",
   "outputs": [],
   "execution_count": 17
  },
  {
   "metadata": {
    "ExecuteTime": {
     "end_time": "2024-11-21T13:56:33.700515Z",
     "start_time": "2024-11-21T13:56:33.695514Z"
    }
   },
   "cell_type": "code",
   "source": [
    "print(f'The accuracy score of the model: {acc}')\n",
    "print(f'The precision score of the model: {prec}')\n",
    "print(f'The recall score of the model: {recall}')\n",
    "print(f'The f1 score of the model: {f1}')\n",
    "print(f'The balanced accuracy score score of the model: {balanced_acc}')"
   ],
   "id": "1ef3a898d4101dd2",
   "outputs": [
    {
     "name": "stdout",
     "output_type": "stream",
     "text": [
      "The accuracy score of the model: 0.8709434907906277\n",
      "The precision score of the model: 0.9566381910964504\n",
      "The recall score of the model: 0.9037903204325707\n",
      "The f1 score of the model: 0.92946364981099\n",
      "The balanced accuracy score score of the model: 0.6263236106819924\n"
     ]
    }
   ],
   "execution_count": 18
  },
  {
   "cell_type": "code",
   "id": "74f7e32e",
   "metadata": {
    "ExecuteTime": {
     "end_time": "2024-11-21T13:56:33.972435Z",
     "start_time": "2024-11-21T13:56:33.954123Z"
    }
   },
   "source": [
    "from sklearn.metrics import precision_score, recall_score, accuracy_score, f1_score, confusion_matrix, balanced_accuracy_score\n",
    "acc= accuracy_score(y_test, y_preds)\n",
    "prec=precision_score(y_test, y_preds)\n",
    "recall=recall_score(y_test, y_preds)\n",
    "f1=f1_score(y_test, y_preds)\n",
    "matrix=confusion_matrix(y_test, y_preds)\n",
    "balanced_acc= balanced_accuracy_score(y_test, y_preds)"
   ],
   "outputs": [],
   "execution_count": 19
  },
  {
   "cell_type": "code",
   "id": "efc35dc8",
   "metadata": {
    "ExecuteTime": {
     "end_time": "2024-11-21T13:56:34.218273Z",
     "start_time": "2024-11-21T13:56:34.213111Z"
    }
   },
   "source": [
    "print(f'The accuracy score of the model: {acc}')\n",
    "print(f'The precision score of the model: {prec}')\n",
    "print(f'The recall score of the model: {recall}')\n",
    "print(f'The f1 score of the model: {f1}')\n",
    "print(f'The balanced accuracy score score of the model: {balanced_acc}')"
   ],
   "outputs": [
    {
     "name": "stdout",
     "output_type": "stream",
     "text": [
      "The accuracy score of the model: 0.9381531136449066\n",
      "The precision score of the model: 0.9454420766554062\n",
      "The recall score of the model: 0.9914764403484005\n",
      "The f1 score of the model: 0.9679122136412097\n",
      "The balanced accuracy score score of the model: 0.5410388128922359\n"
     ]
    }
   ],
   "execution_count": 20
  },
  {
   "metadata": {
    "ExecuteTime": {
     "end_time": "2024-11-21T13:56:34.589500Z",
     "start_time": "2024-11-21T13:56:34.478772Z"
    }
   },
   "cell_type": "code",
   "source": [
    "import seaborn as sns\n",
    "plt.figure(figsize=(6, 4))\n",
    "sns.heatmap(matrix, annot=True, fmt='d', cmap='Blues', xticklabels=['0', '1'], yticklabels=['0', '1'])\n",
    "plt.title('Confusion Matrix')\n",
    "plt.xlabel('Predicted')\n",
    "plt.ylabel('Actual')\n",
    "plt.show()\n"
   ],
   "id": "d54ea1ae3a2766af",
   "outputs": [
    {
     "data": {
      "text/plain": [
       "<Figure size 600x400 with 2 Axes>"
      ],
      "image/png": "[encoded data removed]"
     },
     "metadata": {},
     "output_type": "display_data"
    }
   ],
   "execution_count": 21
  },
  {
   "metadata": {
    "ExecuteTime": {
     "end_time": "2024-11-21T13:56:34.971229Z",
     "start_time": "2024-11-21T13:56:34.846606Z"
    }
   },
   "cell_type": "code",
   "source": [
    "import seaborn as sns\n",
    "plt.figure(figsize=(6, 4))\n",
    "sns.heatmap(matrix_2, annot=True, fmt='d', cmap='Blues', xticklabels=['0', '1'], yticklabels=['0', '1'])\n",
    "plt.title('Confusion Matrix')\n",
    "plt.xlabel('Predicted')\n",
    "plt.ylabel('Actual')\n",
    "plt.show()\n"
   ],
   "id": "4260df8ff8f7f814",
   "outputs": [
    {
     "data": {
      "text/plain": [
       "<Figure size 600x400 with 2 Axes>"
      ],
      "image/png": "[encoded data removed]"
     },
     "metadata": {},
     "output_type": "display_data"
    }
   ],
   "execution_count": 22
  },
  {
   "metadata": {},
   "cell_type": "code",
   "source": "",
   "id": "e6a3a4e4c8658fd9",
   "outputs": [],
   "execution_count": null
  },
  {
   "metadata": {},
   "cell_type": "code",
   "source": "",
   "id": "f917b8b697604a19",
   "outputs": [],
   "execution_count": null
  },
  {
   "metadata": {},
   "cell_type": "markdown",
   "source": "",
   "id": "cd90020c0c70044d"
  },
  {
   "cell_type": "markdown",
   "id": "889fb516",
   "metadata": {},
   "source": [
    "## Case Study Balancing"
   ]
  },
  {
   "cell_type": "raw",
   "id": "b3e13576",
   "metadata": {},
   "source": [
    "! pip install imbalanced-learn"
   ]
  },
  {
   "cell_type": "code",
   "id": "14c418bd",
   "metadata": {},
   "source": [],
   "outputs": [],
   "execution_count": null
  },
  {
   "cell_type": "markdown",
   "id": "7c681354",
   "metadata": {},
   "source": [
    "### Oversampling\n",
    "Links: \n",
    "- https://imbalanced-learn.org/stable/auto_examples/over-sampling/plot_comparison_over_sampling.html#sphx-glr-auto-examples-over-sampling-plot-comparison-over-sampling-py\n",
    "- https://imbalanced-learn.org/stable/common_pitfalls.html"
   ]
  },
  {
   "metadata": {},
   "cell_type": "markdown",
   "source": " homework: use boot strapping as well",
   "id": "56da0746794117a7"
  },
  {
   "metadata": {
    "jupyter": {
     "is_executing": true
    },
    "ExecuteTime": {
     "end_time": "2024-11-21T13:54:20.519454500Z",
     "start_time": "2024-11-21T09:57:56.646483Z"
    }
   },
   "cell_type": "code",
   "source": [
    "from ucimlrepo import fetch_ucirepo \n",
    "from sklearn.model_selection import train_test_split\n",
    "\n",
    "\n",
    "# fetch dataset \n",
    "census_income_kdd = fetch_ucirepo(id=117) \n",
    "  \n",
    "# data (as pandas dataframes) \n",
    "X = census_income_kdd.data.features \n",
    "y = census_income_kdd.data.targets \n",
    "  \n",
    "# metadata \n",
    "print(census_income_kdd.metadata) \n",
    "  \n",
    "# variable information \n",
    "print(census_income_kdd.variables) \n"
   ],
   "id": "4b3d9bd1b1a377f6",
   "outputs": [],
   "execution_count": null
  },
  {
   "metadata": {},
   "cell_type": "code",
   "source": [
    "import pandas as pd\n",
    "df_features=pd.DataFrame(X)\n",
    "df_targets=pd.DataFrame(y)\n"
   ],
   "id": "5af24dcf271e16af",
   "outputs": [],
   "execution_count": null
  },
  {
   "metadata": {},
   "cell_type": "code",
   "source": [
    "from sklearn.preprocessing import LabelEncoder\n",
    "encoder= LabelEncoder()\n",
    "df_encoded_targets = encoder.fit_transform(df_targets['income'])\n",
    "\n",
    "df_targets.head()\n",
    "class_mapping = dict(zip(encoder.classes_, encoder.transform(encoder.classes_)))\n",
    "\n",
    "# Display the class mapping\n",
    "print(class_mapping)\n"
   ],
   "id": "58c112d608876d4e",
   "outputs": [],
   "execution_count": null
  },
  {
   "cell_type": "code",
   "id": "e9323a4d",
   "metadata": {},
   "source": [
    "from imblearn.over_sampling import ADASYN, SMOTE, RandomOverSampler"
   ],
   "outputs": [],
   "execution_count": null
  },
  {
   "metadata": {},
   "cell_type": "code",
   "source": [
    "count_A=df_encoded_targets.sum()\n",
    "count_B= len(df_encoded_targets)-count_A\n",
    "print(f'number of people which are in class >50k: {count_B}')\n",
    "print(f'number of people which are in class <=50k: {count_A}')"
   ],
   "id": "d52d80d85171dce5",
   "outputs": [],
   "execution_count": null
  },
  {
   "metadata": {},
   "cell_type": "code",
   "source": [
    "from sklearn.preprocessing import OrdinalEncoder, LabelEncoder\n",
    "o_encoder= OrdinalEncoder()\n",
    "l_endcoder= LabelEncoder()\n"
   ],
   "id": "27b3456ab404b6cd",
   "outputs": [],
   "execution_count": null
  },
  {
   "metadata": {},
   "cell_type": "code",
   "source": [
    "df_features=df_features.fillna(-1)\n",
    "df_features=df_features.astype(str)"
   ],
   "id": "352712e4178c5597",
   "outputs": [],
   "execution_count": null
  },
  {
   "metadata": {},
   "cell_type": "code",
   "source": "df_encoded_features= o_encoder.fit_transform(df_features)",
   "id": "6f407ae1d12fef2",
   "outputs": [],
   "execution_count": null
  },
  {
   "metadata": {},
   "cell_type": "code",
   "source": [
    "from imblearn.over_sampling import ADASYN, SMOTE, RandomOverSampler\n",
    "adasyn=ADASYN()\n",
    "df_encoded_features, df_encoded_targets=adasyn.fit_resample(df_encoded_features, df_encoded_targets)"
   ],
   "id": "b5ba778ff3566ea5",
   "outputs": [],
   "execution_count": null
  },
  {
   "metadata": {},
   "cell_type": "markdown",
   "source": "### ADASYN",
   "id": "28d727a4c263d3e6"
  },
  {
   "cell_type": "code",
   "id": "54460574",
   "metadata": {},
   "source": "",
   "outputs": [],
   "execution_count": null
  },
  {
   "metadata": {},
   "cell_type": "code",
   "source": [
    "count_A=df_encoded_targets.sum()\n",
    "count_B= len(df_encoded_targets)-count_A\n",
    "print(f'number of people which are in class >50k: {count_B}')\n",
    "print(f'number of people which are in class <=50k: {count_A}')"
   ],
   "id": "1de9cfce731685ab",
   "outputs": [],
   "execution_count": null
  },
  {
   "cell_type": "code",
   "id": "790676ff",
   "metadata": {},
   "source": [
    "# visualizing the class imbalance\n",
    "import matplotlib.pyplot as plt\n",
    "categories= [k for k in class_mapping]\n",
    "values=[count_B, count_A]\n",
    "\n",
    "plt.bar(categories, values,color=['red', 'blue'])\n",
    "plt.title('class balance')\n",
    "plt.xlabel('category')\n",
    "plt.ylabel('count')\n",
    "plt.show()\n",
    "print('so we have class imbalance')\n",
    "percentage= count_B/len(df_targets['income'])*100\n",
    "print(f' {int(percentage)}% of samples are in <=50k class and {int(100-percentage)} are in >50k class')"
   ],
   "outputs": [],
   "execution_count": null
  },
  {
   "cell_type": "code",
   "id": "f75e37d9",
   "metadata": {},
   "source": [
    "from sklearn.neighbors import KNeighborsClassifier\n",
    "from sklearn.model_selection import train_test_split\n",
    "from sklearn.linear_model import LogisticRegression\n",
    "X_train, X_test, y_train, y_test= train_test_split(df_encoded_features, df_encoded_targets, random_state=42,shuffle=True, test_size=0.2)\n",
    "model= LogisticRegression()\n",
    "\n",
    "model.fit(X_train,y_train)\n"
   ],
   "outputs": [],
   "execution_count": null
  },
  {
   "cell_type": "code",
   "id": "792872d6",
   "metadata": {},
   "source": "",
   "outputs": [],
   "execution_count": null
  },
  {
   "metadata": {},
   "cell_type": "code",
   "outputs": [],
   "execution_count": null,
   "source": "",
   "id": "bbb62790e1915e93"
  },
  {
   "cell_type": "code",
   "id": "c20d27a2",
   "metadata": {},
   "source": [
    "\n",
    "\n",
    "from sklearn.metrics import precision_score, recall_score, accuracy_score, f1_score, confusion_matrix, balanced_accuracy_score\n",
    "y_preds= model.predict(X_test)\n",
    "\n",
    "acc= accuracy_score(y_test, y_preds)\n",
    "prec=precision_score(y_test, y_preds)\n",
    "recall=recall_score(y_test, y_preds)\n",
    "f1=f1_score(y_test, y_preds)\n",
    "matrix=confusion_matrix(y_test, y_preds)\n",
    "balanced_acc= balanced_accuracy_score(y_test, y_preds)\n",
    "print(f'The accuracy score of the model: {acc}')\n",
    "print(f'The precision score of the model: {prec}')\n",
    "print(f'The recall score of the model: {recall}')\n",
    "print(f'The f1 score of the model: {f1}')\n",
    "print(f'The balanced accuracy score score of the model: {balanced_acc}')"
   ],
   "outputs": [],
   "execution_count": null
  },
  {
   "cell_type": "code",
   "id": "28b3fc42",
   "metadata": {},
   "source": [
    "import seaborn as sns\n",
    "plt.figure(figsize=(6, 4))\n",
    "sns.heatmap(matrix_2, annot=True, fmt='d', cmap='Blues', xticklabels=['0', '1'], yticklabels=['0', '1'])\n",
    "plt.title('Confusion Matrix')\n",
    "plt.xlabel('Predicted')\n",
    "plt.ylabel('Actual')\n",
    "plt.show()\n"
   ],
   "outputs": [],
   "execution_count": null
  },
  {
   "metadata": {},
   "cell_type": "code",
   "source": "",
   "id": "bdddb1c0d0d4457e",
   "outputs": [],
   "execution_count": null
  }
 ],
 "metadata": {
  "kernelspec": {
   "display_name": "Python 3 (ipykernel)",
   "language": "python",
   "name": "python3"
  },
  "language_info": {
   "codemirror_mode": {
    "name": "ipython",
    "version": 3
   },
   "file_extension": ".py",
   "mimetype": "text/x-python",
   "name": "python",
   "nbconvert_exporter": "python",
   "pygments_lexer": "ipython3",
   "version": "3.9.6"
  }
 },
 "nbformat": 4,
 "nbformat_minor": 5
}
