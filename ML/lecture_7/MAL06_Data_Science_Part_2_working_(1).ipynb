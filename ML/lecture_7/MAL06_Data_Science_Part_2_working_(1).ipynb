{
  "cells": [
    {
      "cell_type": "markdown",
      "id": "879e399e",
      "metadata": {
        "id": "879e399e"
      },
      "source": [
        "# Census Dataset Study"
      ]
    },
    {
      "cell_type": "markdown",
      "id": "b4bc4b3e",
      "metadata": {
        "id": "b4bc4b3e"
      },
      "source": [
        "## Dataset Imbalance\n",
        "\n",
        "- Load dataset\n",
        "- Try fitting Logistic Regression? What do you observe?\n",
        "- Transform all categorical variables into integers. Otherwise, many ML algorithms cannot deal with them.\n",
        "- What out for the non-categorical variables.\n",
        "- Also, encode the target.\n",
        "- What do you observe for the target?"
      ]
    },
    {
      "cell_type": "code",
      "source": [
        "!pip install ucimlrepo"
      ],
      "metadata": {
        "colab": {
          "base_uri": "https://localhost:8080/"
        },
        "id": "VndhsqZd4qmS",
        "outputId": "81280453-117d-4c05-84d6-8089f775c19d"
      },
      "id": "VndhsqZd4qmS",
      "execution_count": 1,
      "outputs": [
        {
          "output_type": "stream",
          "name": "stdout",
          "text": [
            "Requirement already satisfied: ucimlrepo in /usr/local/lib/python3.10/dist-packages (0.0.7)\n",
            "Requirement already satisfied: pandas>=1.0.0 in /usr/local/lib/python3.10/dist-packages (from ucimlrepo) (2.2.2)\n",
            "Requirement already satisfied: certifi>=2020.12.5 in /usr/local/lib/python3.10/dist-packages (from ucimlrepo) (2024.8.30)\n",
            "Requirement already satisfied: numpy>=1.22.4 in /usr/local/lib/python3.10/dist-packages (from pandas>=1.0.0->ucimlrepo) (1.26.4)\n",
            "Requirement already satisfied: python-dateutil>=2.8.2 in /usr/local/lib/python3.10/dist-packages (from pandas>=1.0.0->ucimlrepo) (2.8.2)\n",
            "Requirement already satisfied: pytz>=2020.1 in /usr/local/lib/python3.10/dist-packages (from pandas>=1.0.0->ucimlrepo) (2024.2)\n",
            "Requirement already satisfied: tzdata>=2022.7 in /usr/local/lib/python3.10/dist-packages (from pandas>=1.0.0->ucimlrepo) (2024.2)\n",
            "Requirement already satisfied: six>=1.5 in /usr/local/lib/python3.10/dist-packages (from python-dateutil>=2.8.2->pandas>=1.0.0->ucimlrepo) (1.16.0)\n"
          ]
        }
      ]
    },
    {
      "cell_type": "code",
      "execution_count": 2,
      "id": "ec70a7ba",
      "metadata": {
        "id": "ec70a7ba"
      },
      "outputs": [],
      "source": [
        "from ucimlrepo import fetch_ucirepo\n",
        "from sklearn.model_selection import train_test_split\n",
        "\n",
        "\n",
        "# fetch dataset\n",
        "census_income_kdd = fetch_ucirepo(id=117)\n",
        "\n",
        "# data (as pandas dataframes)\n",
        "X = census_income_kdd.data.features\n",
        "y = census_income_kdd.data.targets"
      ]
    },
    {
      "cell_type": "code",
      "execution_count": 3,
      "id": "5b4ece84",
      "metadata": {
        "id": "5b4ece84"
      },
      "outputs": [],
      "source": [
        "import pandas as pd\n",
        "df_features=pd.DataFrame(X)\n",
        "df_targets=pd.DataFrame(y)"
      ]
    },
    {
      "cell_type": "markdown",
      "source": [
        " doing the target encoding"
      ],
      "metadata": {
        "id": "2UPvLkuo5Ka4"
      },
      "id": "2UPvLkuo5Ka4"
    },
    {
      "cell_type": "code",
      "source": [
        "# encoding the target values\n",
        "from sklearn.preprocessing import LabelEncoder\n",
        "encoder= LabelEncoder()\n",
        "df_encoded_targets = encoder.fit_transform(df_targets['income'])\n",
        "\n",
        "df_targets.head()\n",
        "class_mapping = dict(zip(encoder.classes_, encoder.transform(encoder.classes_)))\n",
        "\n",
        "# Display the class mapping\n",
        "print(class_mapping)"
      ],
      "metadata": {
        "colab": {
          "base_uri": "https://localhost:8080/"
        },
        "id": "RDAlxcyy5AAc",
        "outputId": "7b2a1c0d-d650-427c-a89a-5ecfd0c10be5"
      },
      "id": "RDAlxcyy5AAc",
      "execution_count": 4,
      "outputs": [
        {
          "output_type": "stream",
          "name": "stdout",
          "text": [
            "{' 50000+.': 0, '-50000': 1}\n"
          ]
        }
      ]
    },
    {
      "cell_type": "code",
      "source": [
        "count_A=df_encoded_targets.sum()\n",
        "count_B= len(df_encoded_targets)-count_A\n",
        "print(f'number of people which are in class >50k: {count_B}')\n",
        "print(f'number of people which are in class <=50k: {count_A}')"
      ],
      "metadata": {
        "colab": {
          "base_uri": "https://localhost:8080/"
        },
        "id": "yHQiZvWG5DId",
        "outputId": "954ecd86-a303-4367-ba68-5d5fb493f74c"
      },
      "id": "yHQiZvWG5DId",
      "execution_count": 5,
      "outputs": [
        {
          "output_type": "stream",
          "name": "stdout",
          "text": [
            "number of people which are in class >50k: 12382\n",
            "number of people which are in class <=50k: 187141\n"
          ]
        }
      ]
    },
    {
      "cell_type": "markdown",
      "source": [
        "doing th feautre encoding"
      ],
      "metadata": {
        "id": "kJLdj2uN5OPB"
      },
      "id": "kJLdj2uN5OPB"
    },
    {
      "cell_type": "code",
      "source": [
        "from sklearn.preprocessing import OrdinalEncoder, LabelEncoder\n",
        "o_encoder= OrdinalEncoder()\n",
        "l_endcoder= LabelEncoder()\n",
        "df_features=df_features.fillna(-1)\n",
        "df_features=df_features.astype(str)\n",
        "df_encoded_features= o_encoder.fit_transform(df_features)\n",
        "\n",
        "df_encoded_features = pd.DataFrame(df_encoded_features)\n",
        "df_encoded_targets = pd.DataFrame(df_encoded_targets)"
      ],
      "metadata": {
        "id": "onGc-LUp5ISB"
      },
      "id": "onGc-LUp5ISB",
      "execution_count": 6,
      "outputs": []
    },
    {
      "cell_type": "markdown",
      "source": [
        "splitting the data first to avoid data leakage"
      ],
      "metadata": {
        "id": "gG8kFt5d5k7Z"
      },
      "id": "gG8kFt5d5k7Z"
    },
    {
      "cell_type": "code",
      "source": [
        "from sklearn.model_selection import train_test_split\n",
        "X_train, X_test, y_train, y_test= train_test_split(df_encoded_features, df_encoded_targets, test_size=0.2, random_state=42)"
      ],
      "metadata": {
        "id": "m_-PZA7_5IP-"
      },
      "id": "m_-PZA7_5IP-",
      "execution_count": 7,
      "outputs": []
    },
    {
      "cell_type": "code",
      "source": [
        "from imblearn.over_sampling import ADASYN, SMOTE, RandomOverSampler"
      ],
      "metadata": {
        "id": "y5KiWNx75-rN"
      },
      "id": "y5KiWNx75-rN",
      "execution_count": 8,
      "outputs": []
    },
    {
      "cell_type": "markdown",
      "source": [
        "ADASYN"
      ],
      "metadata": {
        "id": "zcdS8Ypy6Chi"
      },
      "id": "zcdS8Ypy6Chi"
    },
    {
      "cell_type": "code",
      "source": [
        "adasyn= ADASYN()\n",
        "smote=SMOTE()\n",
        "rs=RandomOverSampler()\n",
        "df_adasyn_features, df_adasyn_targets=adasyn.fit_resample(X_train, y_train)\n",
        "df_smote_features, df_smote_targets=smote.fit_resample(X_train, y_train)\n",
        "df_rs_features, df_rs_targets=rs.fit_resample(X_train, y_train)"
      ],
      "metadata": {
        "id": "mZIkVY6y6BZG"
      },
      "id": "mZIkVY6y6BZG",
      "execution_count": 9,
      "outputs": []
    },
    {
      "cell_type": "code",
      "source": [
        "count_A=df_adasyn_targets.sum()\n",
        "count_B= len(df_adasyn_targets)-count_A\n",
        "print(f'ADASYN number of people which are in class +50k: {count_B.item()}')\n",
        "print(f'ADASYN number of people which are in class -=50k: {count_A.item()}')"
      ],
      "metadata": {
        "colab": {
          "base_uri": "https://localhost:8080/"
        },
        "id": "UdWgJpiN6JUl",
        "outputId": "f4a5f3de-17bd-4449-cb45-eeb263155cb1"
      },
      "id": "UdWgJpiN6JUl",
      "execution_count": 10,
      "outputs": [
        {
          "output_type": "stream",
          "name": "stdout",
          "text": [
            "ADASYN number of people which are in class +50k: 148431\n",
            "ADASYN number of people which are in class -=50k: 149598\n"
          ]
        }
      ]
    },
    {
      "cell_type": "code",
      "source": [
        "count_A=df_smote_targets.sum()\n",
        "count_B= len(df_smote_targets)-count_A\n",
        "print(f'SMOTE number of people which are in class +50k: {count_B.item()}')\n",
        "print(f'SMOTE number of people which are in class -=50k: {count_A.item()}')"
      ],
      "metadata": {
        "colab": {
          "base_uri": "https://localhost:8080/"
        },
        "id": "RPm7nJ708jGg",
        "outputId": "ad271b78-cb89-4499-828f-604eba1e3a35"
      },
      "id": "RPm7nJ708jGg",
      "execution_count": 11,
      "outputs": [
        {
          "output_type": "stream",
          "name": "stdout",
          "text": [
            "SMOTE number of people which are in class +50k: 149598\n",
            "SMOTE number of people which are in class -=50k: 149598\n"
          ]
        }
      ]
    },
    {
      "cell_type": "code",
      "source": [
        "count_A=df_rs_targets.sum()\n",
        "count_B= len(df_rs_targets)-count_A\n",
        "print(f'RANDOMSAMPLER number of people which are in class +50k: {count_B.item()}')\n",
        "print(f'RANDOMSAMPLER number of people which are in class -=50k: {count_A.item()}')"
      ],
      "metadata": {
        "colab": {
          "base_uri": "https://localhost:8080/"
        },
        "id": "rQojFYSy8rxf",
        "outputId": "6c039fb7-9d62-4aa8-cb28-30fe4d20513c"
      },
      "id": "rQojFYSy8rxf",
      "execution_count": 12,
      "outputs": [
        {
          "output_type": "stream",
          "name": "stdout",
          "text": [
            "RANDOMSAMPLER number of people which are in class +50k: 149598\n",
            "RANDOMSAMPLER number of people which are in class -=50k: 149598\n"
          ]
        }
      ]
    },
    {
      "cell_type": "code",
      "execution_count": 13,
      "id": "dc896c1f",
      "metadata": {
        "colab": {
          "base_uri": "https://localhost:8080/"
        },
        "id": "dc896c1f",
        "outputId": "c2b56a71-9d70-46f9-ade3-442950fbdc9c"
      },
      "outputs": [
        {
          "output_type": "stream",
          "name": "stderr",
          "text": [
            "/usr/local/lib/python3.10/dist-packages/sklearn/utils/validation.py:1339: DataConversionWarning: A column-vector y was passed when a 1d array was expected. Please change the shape of y to (n_samples, ), for example using ravel().\n",
            "  y = column_or_1d(y, warn=True)\n",
            "/usr/local/lib/python3.10/dist-packages/sklearn/linear_model/_logistic.py:469: ConvergenceWarning: lbfgs failed to converge (status=1):\n",
            "STOP: TOTAL NO. of ITERATIONS REACHED LIMIT.\n",
            "\n",
            "Increase the number of iterations (max_iter) or scale the data as shown in:\n",
            "    https://scikit-learn.org/stable/modules/preprocessing.html\n",
            "Please also refer to the documentation for alternative solver options:\n",
            "    https://scikit-learn.org/stable/modules/linear_model.html#logistic-regression\n",
            "  n_iter_i = _check_optimize_result(\n",
            "/usr/local/lib/python3.10/dist-packages/sklearn/utils/validation.py:1339: DataConversionWarning: A column-vector y was passed when a 1d array was expected. Please change the shape of y to (n_samples, ), for example using ravel().\n",
            "  y = column_or_1d(y, warn=True)\n",
            "/usr/local/lib/python3.10/dist-packages/sklearn/linear_model/_logistic.py:469: ConvergenceWarning: lbfgs failed to converge (status=1):\n",
            "STOP: TOTAL NO. of ITERATIONS REACHED LIMIT.\n",
            "\n",
            "Increase the number of iterations (max_iter) or scale the data as shown in:\n",
            "    https://scikit-learn.org/stable/modules/preprocessing.html\n",
            "Please also refer to the documentation for alternative solver options:\n",
            "    https://scikit-learn.org/stable/modules/linear_model.html#logistic-regression\n",
            "  n_iter_i = _check_optimize_result(\n",
            "/usr/local/lib/python3.10/dist-packages/sklearn/utils/validation.py:1339: DataConversionWarning: A column-vector y was passed when a 1d array was expected. Please change the shape of y to (n_samples, ), for example using ravel().\n",
            "  y = column_or_1d(y, warn=True)\n",
            "/usr/local/lib/python3.10/dist-packages/sklearn/linear_model/_logistic.py:469: ConvergenceWarning: lbfgs failed to converge (status=1):\n",
            "STOP: TOTAL NO. of ITERATIONS REACHED LIMIT.\n",
            "\n",
            "Increase the number of iterations (max_iter) or scale the data as shown in:\n",
            "    https://scikit-learn.org/stable/modules/preprocessing.html\n",
            "Please also refer to the documentation for alternative solver options:\n",
            "    https://scikit-learn.org/stable/modules/linear_model.html#logistic-regression\n",
            "  n_iter_i = _check_optimize_result(\n"
          ]
        }
      ],
      "source": [
        "from sklearn.neighbors import KNeighborsClassifier\n",
        "from sklearn.linear_model import LogisticRegression\n",
        "model_A= LogisticRegression()\n",
        "model_S=LogisticRegression()\n",
        "model_RS=LogisticRegression()\n",
        "model_A.fit(df_adasyn_features,df_adasyn_targets)\n",
        "model_S.fit(df_smote_features,df_smote_targets)\n",
        "model_RS.fit(df_rs_features,df_rs_targets)\n",
        "\n",
        "adasyn_preds= model_A.predict(X_test)\n",
        "smote_preds=model_S.predict(X_test)\n",
        "rs_preds=model_RS.predict(X_test)"
      ]
    },
    {
      "cell_type": "code",
      "source": [],
      "metadata": {
        "id": "V6ZLS1Vs9UGC"
      },
      "id": "V6ZLS1Vs9UGC",
      "execution_count": 13,
      "outputs": []
    },
    {
      "cell_type": "code",
      "execution_count": 14,
      "id": "d6f750b1",
      "metadata": {
        "colab": {
          "base_uri": "https://localhost:8080/"
        },
        "id": "d6f750b1",
        "outputId": "e53a7d1c-bd40-43f0-9192-b44ac56899ad"
      },
      "outputs": [
        {
          "output_type": "stream",
          "name": "stdout",
          "text": [
            "The balanced accuracy score score of the model: 0.8002127754924564\n",
            "The balanced accuracy score score of the model: 0.7996457542119978\n",
            "The balanced accuracy score score of the model: 0.7967950066988385\n"
          ]
        }
      ],
      "source": [
        "from sklearn.metrics import precision_score, recall_score, accuracy_score, f1_score, confusion_matrix, balanced_accuracy_score\n",
        "adasyn_acc= balanced_accuracy_score(y_test,adasyn_preds)\n",
        "matrix_A=confusion_matrix(y_test, adasyn_preds)\n",
        "print(f'The balanced accuracy score score of the model: {adasyn_acc}')\n",
        "matrix_S=confusion_matrix(y_test, smote_preds)\n",
        "S_acc= balanced_accuracy_score(y_test,smote_preds)\n",
        "print(f'The balanced accuracy score score of the model: {S_acc}')\n",
        "matrix_RS=confusion_matrix(y_test, rs_preds)\n",
        "RS_acc= balanced_accuracy_score(y_test,rs_preds)\n",
        "print(f'The balanced accuracy score score of the model: {RS_acc}')"
      ]
    },
    {
      "cell_type": "code",
      "execution_count": 17,
      "id": "ecff0d34",
      "metadata": {
        "colab": {
          "base_uri": "https://localhost:8080/",
          "height": 1000
        },
        "id": "ecff0d34",
        "outputId": "b431d855-d535-4358-8c96-78f14eb07e09"
      },
      "outputs": [
        {
          "output_type": "display_data",
          "data": {
            "text/plain": [
              "<Figure size 600x400 with 2 Axes>"
            ],
            "image/png": "[encoded data removed]"
          },
          "metadata": {}
        },
        {
          "output_type": "display_data",
          "data": {
            "text/plain": [
              "<Figure size 600x400 with 2 Axes>"
            ],
            "image/png": "[encoded data removed]"
          },
          "metadata": {}
        },
        {
          "output_type": "display_data",
          "data": {
            "text/plain": [
              "<Figure size 600x400 with 2 Axes>"
            ],
            "image/png": "[encoded data removed]"
          },
          "metadata": {}
        }
      ],
      "source": [
        "import matplotlib.pyplot as plt\n",
        "import seaborn as sns\n",
        "matrix_list=[matrix_A, matrix_S,matrix_RS]\n",
        "for matrix in matrix_list:\n",
        "  plt.figure(figsize=(6, 4))\n",
        "  sns.heatmap(matrix, annot=True, fmt='d', cmap='Blues', xticklabels=['0', '1'], yticklabels=['0', '1'])\n",
        "  plt.title('Confusion Matrix')\n",
        "  plt.xlabel('Predicted')\n",
        "  plt.ylabel('Actual')\n",
        "  plt.show()\n"
      ]
    },
    {
      "cell_type": "code",
      "execution_count": null,
      "id": "07e46c5c",
      "metadata": {
        "id": "07e46c5c"
      },
      "outputs": [],
      "source": [
        "from sklearn.metrics import precision_score, recall_score, accuracy_score, f1_score, confusion_matrix, balanced_accuracy_score"
      ]
    },
    {
      "cell_type": "code",
      "execution_count": 19,
      "id": "74f7e32e",
      "metadata": {
        "colab": {
          "base_uri": "https://localhost:8080/"
        },
        "id": "74f7e32e",
        "outputId": "0ade0955-ebc1-40a0-bff1-46629d64ee94"
      },
      "outputs": [
        {
          "output_type": "stream",
          "name": "stderr",
          "text": [
            "/usr/local/lib/python3.10/dist-packages/sklearn/neighbors/_classification.py:238: DataConversionWarning: A column-vector y was passed when a 1d array was expected. Please change the shape of y to (n_samples,), for example using ravel().\n",
            "  return self._fit(X, y)\n"
          ]
        }
      ],
      "source": [
        "from sklearn.neighbors import KNeighborsClassifier\n",
        "model_KNN=KNeighborsClassifier(2)\n",
        "model_KNN.fit(df_adasyn_features,df_adasyn_targets)\n",
        "knn_preds=model_KNN.predict(X_test)"
      ]
    },
    {
      "cell_type": "code",
      "execution_count": 20,
      "id": "efc35dc8",
      "metadata": {
        "colab": {
          "base_uri": "https://localhost:8080/"
        },
        "id": "efc35dc8",
        "outputId": "93b51968-cf86-4536-8a41-040cab0ebd5f"
      },
      "outputs": [
        {
          "output_type": "stream",
          "name": "stdout",
          "text": [
            "The balanced accuracy score score of the model: 0.6886650752804298\n"
          ]
        }
      ],
      "source": [
        "knn_acc= balanced_accuracy_score(y_test,knn_preds)\n",
        "matrix_knn=confusion_matrix(y_test,knn_preds)\n",
        "print(f'The balanced accuracy score score of the model: {knn_acc}')"
      ]
    },
    {
      "cell_type": "code",
      "source": [
        "\n",
        "plt.figure(figsize=(6, 4))\n",
        "sns.heatmap(matrix_knn, annot=True, fmt='d', cmap='Blues', xticklabels=['0', '1'], yticklabels=['0', '1'])\n",
        "plt.title('Confusion Matrix')\n",
        "plt.xlabel('Predicted')\n",
        "plt.ylabel('Actual')\n",
        "plt.show()"
      ],
      "metadata": {
        "colab": {
          "base_uri": "https://localhost:8080/",
          "height": 410
        },
        "id": "mpt6X6n5Clqx",
        "outputId": "dbe27ca9-7627-4a85-8b02-34f2b02b4dad"
      },
      "id": "mpt6X6n5Clqx",
      "execution_count": 21,
      "outputs": [
        {
          "output_type": "display_data",
          "data": {
            "text/plain": [
              "<Figure size 600x400 with 2 Axes>"
            ],
            "image/png": "[encoded data removed]"
          },
          "metadata": {}
        }
      ]
    },
    {
      "cell_type": "markdown",
      "id": "889fb516",
      "metadata": {
        "id": "889fb516"
      },
      "source": [
        "## Case Study Balancing"
      ]
    },
    {
      "cell_type": "raw",
      "id": "b3e13576",
      "metadata": {
        "id": "b3e13576"
      },
      "source": [
        "! pip install imbalanced-learn"
      ]
    },
    {
      "cell_type": "code",
      "execution_count": null,
      "id": "14c418bd",
      "metadata": {
        "id": "14c418bd"
      },
      "outputs": [],
      "source": []
    },
    {
      "cell_type": "markdown",
      "id": "7c681354",
      "metadata": {
        "id": "7c681354"
      },
      "source": [
        "### Oversampling\n",
        "Links:\n",
        "- https://imbalanced-learn.org/stable/auto_examples/over-sampling/plot_comparison_over_sampling.html#sphx-glr-auto-examples-over-sampling-plot-comparison-over-sampling-py\n",
        "- https://imbalanced-learn.org/stable/common_pitfalls.html"
      ]
    },
    {
      "cell_type": "code",
      "execution_count": null,
      "id": "e9323a4d",
      "metadata": {
        "id": "e9323a4d"
      },
      "outputs": [],
      "source": [
        "from imblearn.over_sampling import ADASYN, SMOTE, RandomOverSampler"
      ]
    },
    {
      "cell_type": "code",
      "execution_count": null,
      "id": "b184859b",
      "metadata": {
        "id": "b184859b"
      },
      "outputs": [],
      "source": []
    },
    {
      "cell_type": "code",
      "execution_count": null,
      "id": "48c44832",
      "metadata": {
        "id": "48c44832"
      },
      "outputs": [],
      "source": [
        "# unbalanced"
      ]
    },
    {
      "cell_type": "code",
      "execution_count": null,
      "id": "54460574",
      "metadata": {
        "id": "54460574"
      },
      "outputs": [],
      "source": []
    },
    {
      "cell_type": "code",
      "execution_count": null,
      "id": "c72d1448",
      "metadata": {
        "id": "c72d1448"
      },
      "outputs": [],
      "source": []
    },
    {
      "cell_type": "code",
      "execution_count": null,
      "id": "790676ff",
      "metadata": {
        "id": "790676ff"
      },
      "outputs": [],
      "source": []
    },
    {
      "cell_type": "code",
      "execution_count": null,
      "id": "f75e37d9",
      "metadata": {
        "id": "f75e37d9"
      },
      "outputs": [],
      "source": [
        "# WITH BALANCING"
      ]
    },
    {
      "cell_type": "code",
      "execution_count": null,
      "id": "792872d6",
      "metadata": {
        "id": "792872d6"
      },
      "outputs": [],
      "source": []
    },
    {
      "cell_type": "code",
      "execution_count": null,
      "id": "c20d27a2",
      "metadata": {
        "id": "c20d27a2"
      },
      "outputs": [],
      "source": []
    },
    {
      "cell_type": "code",
      "execution_count": 23,
      "id": "28b3fc42",
      "metadata": {
        "colab": {
          "base_uri": "https://localhost:8080/"
        },
        "id": "28b3fc42",
        "outputId": "bc1b9231-3be3-4a1f-b937-1f4ad4a070e0"
      },
      "outputs": [
        {
          "output_type": "stream",
          "name": "stdout",
          "text": [
            "AAGE           int64\n",
            "ACLSWKR       object\n",
            "ADTINK         int64\n",
            "ADTOCC         int64\n",
            "AHGA          object\n",
            "AHSCOL        object\n",
            "AMARITL       object\n",
            "AMJIND        object\n",
            "AMJOCC        object\n",
            "ARACE         object\n",
            "AREORGN       object\n",
            "ASEX          object\n",
            "AUNMEM        object\n",
            "AUNTYPE       object\n",
            "AWKSTAT       object\n",
            "CAPGAIN        int64\n",
            "GAPLOSS        int64\n",
            "DIVVAL         int64\n",
            "FILESTAT      object\n",
            "GRINREG       object\n",
            "GRINST        object\n",
            "HHDFMX        object\n",
            "HHDREL        object\n",
            "MARSUPWRT    float64\n",
            "MIGMTR1       object\n",
            "MIGMTR3       object\n",
            "MIGMTR4       object\n",
            "MIGSAME       object\n",
            "MIGSUN        object\n",
            "NOEMP          int64\n",
            "PARENT        object\n",
            "PEFNTVTY      object\n",
            "PEMNTVTY      object\n",
            "PENATVTY      object\n",
            "PRCITSHP      object\n",
            "SEOTR          int64\n",
            "VETQVA        object\n",
            "VETYN          int64\n",
            "WKSWORK        int64\n",
            "AHRSPAY        int64\n",
            "year           int64\n",
            "dtype: object\n"
          ]
        },
        {
          "output_type": "stream",
          "name": "stderr",
          "text": [
            "/usr/local/lib/python3.10/dist-packages/sklearn/utils/validation.py:1339: DataConversionWarning: A column-vector y was passed when a 1d array was expected. Please change the shape of y to (n_samples, ), for example using ravel().\n",
            "  y = column_or_1d(y, warn=True)\n",
            "/usr/local/lib/python3.10/dist-packages/sklearn/linear_model/_logistic.py:469: ConvergenceWarning: lbfgs failed to converge (status=1):\n",
            "STOP: TOTAL NO. of ITERATIONS REACHED LIMIT.\n",
            "\n",
            "Increase the number of iterations (max_iter) or scale the data as shown in:\n",
            "    https://scikit-learn.org/stable/modules/preprocessing.html\n",
            "Please also refer to the documentation for alternative solver options:\n",
            "    https://scikit-learn.org/stable/modules/linear_model.html#logistic-regression\n",
            "  n_iter_i = _check_optimize_result(\n"
          ]
        },
        {
          "output_type": "stream",
          "name": "stdout",
          "text": [
            "Confusion Matrix:\n",
            "[[34086  3289]\n",
            " [ 5354 32128]]\n"
          ]
        }
      ],
      "source": [
        "from ucimlrepo import fetch_ucirepo\n",
        "from sklearn.model_selection import train_test_split\n",
        "from sklearn.linear_model import LogisticRegression\n",
        "from sklearn.metrics import confusion_matrix\n",
        "from imblearn.over_sampling import SMOTE\n",
        "from sklearn.preprocessing import OneHotEncoder\n",
        "from sklearn.compose import ColumnTransformer\n",
        "from sklearn.pipeline import Pipeline\n",
        "from sklearn.impute import SimpleImputer\n",
        "from sklearn.preprocessing import StandardScaler\n",
        "\n",
        "# Fetch the dataset\n",
        "census_income_kdd = fetch_ucirepo(id=117)\n",
        "X = census_income_kdd.data.features\n",
        "y = census_income_kdd.data.targets\n",
        "\n",
        "# Check for non-numeric columns\n",
        "print(X.dtypes)\n",
        "\n",
        "# Preprocess categorical columns: Impute missing values and encode categorical features\n",
        "categorical_columns = X.select_dtypes(include=['object']).columns\n",
        "numeric_columns = X.select_dtypes(exclude=['object']).columns\n",
        "\n",
        "# Create preprocessing pipeline for categorical columns\n",
        "categorical_pipeline = Pipeline(steps=[\n",
        "    ('imputer', SimpleImputer(strategy='most_frequent')),  # Handle missing values\n",
        "    ('encoder', OneHotEncoder(handle_unknown='ignore'))   # One-Hot encode categorical columns\n",
        "])\n",
        "\n",
        "# Create preprocessing pipeline for numeric columns\n",
        "numeric_pipeline = Pipeline(steps=[\n",
        "    ('imputer', SimpleImputer(strategy='mean')),           # Handle missing values\n",
        "    ('scaler', StandardScaler())                           # Scale numeric data\n",
        "])\n",
        "\n",
        "# Combine both pipelines into a ColumnTransformer\n",
        "preprocessor = ColumnTransformer(\n",
        "    transformers=[\n",
        "        ('num', numeric_pipeline, numeric_columns),\n",
        "        ('cat', categorical_pipeline, categorical_columns)\n",
        "    ]\n",
        ")\n",
        "\n",
        "# Apply the preprocessor\n",
        "X_preprocessed = preprocessor.fit_transform(X)\n",
        "\n",
        "# Apply SMOTE for balancing the dataset\n",
        "smote = SMOTE(random_state=42)\n",
        "X_resampled, y_resampled = smote.fit_resample(X_preprocessed, y)\n",
        "\n",
        "# Split the dataset into training and testing sets\n",
        "X_train, X_test, y_train, y_test = train_test_split(X_resampled, y_resampled, test_size=0.2, random_state=42)\n",
        "\n",
        "# Train a Logistic Regression model with class weights balanced\n",
        "logreg = LogisticRegression(class_weight='balanced', random_state=42)\n",
        "logreg.fit(X_train, y_train)\n",
        "\n",
        "# Make predictions on the test set\n",
        "y_pred = logreg.predict(X_test)\n",
        "\n",
        "# Generate the confusion matrix\n",
        "conf_matrix = confusion_matrix(y_test, y_pred)\n",
        "\n",
        "print(\"Confusion Matrix:\")\n",
        "print(conf_matrix)\n"
      ]
    }
  ],
  "metadata": {
    "kernelspec": {
      "display_name": "malenv",
      "language": "python",
      "name": "malenv"
    },
    "language_info": {
      "codemirror_mode": {
        "name": "ipython",
        "version": 3
      },
      "file_extension": ".py",
      "mimetype": "text/x-python",
      "name": "python",
      "nbconvert_exporter": "python",
      "pygments_lexer": "ipython3",
      "version": "3.9.6"
    },
    "colab": {
      "provenance": []
    }
  },
  "nbformat": 4,
  "nbformat_minor": 5
}