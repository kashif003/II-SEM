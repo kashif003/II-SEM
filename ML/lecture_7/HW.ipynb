{
 "cells": [
  {
   "cell_type": "code",
   "source": [
    "from pyexpat import features\n",
    "!pip install ucimlrepo"
   ],
   "metadata": {
    "colab": {
     "base_uri": "https://localhost:8080/"
    },
    "id": "Ozto7tKwKUvx",
    "outputId": "ad3edcfd-9f9a-408e-c5c4-c4f3ec653911"
   },
   "id": "Ozto7tKwKUvx",
   "outputs": [],
   "execution_count": null
  },
  {
   "cell_type": "code",
   "id": "ec70a7ba",
   "metadata": {
    "id": "ec70a7ba"
   },
   "source": [
    "from ucimlrepo import fetch_ucirepo\n",
    "from sklearn.model_selection import train_test_split\n",
    "\n",
    "\n",
    "# fetch dataset\n",
    "census_income_kdd = fetch_ucirepo(id=117)\n",
    "\n",
    "# data (as pandas dataframes)\n",
    "X = census_income_kdd.data.features\n",
    "y = census_income_kdd.data.targets\n"
   ],
   "outputs": [],
   "execution_count": null
  },
  {
   "cell_type": "code",
   "id": "5b4ece84",
   "metadata": {
    "id": "5b4ece84"
   },
   "source": [
    "import pandas as pd\n",
    "df_features=pd.DataFrame(X)\n",
    "df_targets=pd.DataFrame(y)"
   ],
   "outputs": [],
   "execution_count": null
  },
  {
   "cell_type": "markdown",
   "source": [
    " doing the target encoding"
   ],
   "metadata": {
    "id": "2UPvLkuo5Ka4"
   },
   "id": "2UPvLkuo5Ka4"
  },
  {
   "cell_type": "code",
   "source": [
    "# encoding the target values\n",
    "from sklearn.preprocessing import LabelEncoder\n",
    "encoder= LabelEncoder()\n",
    "df_encoded_targets = encoder.fit_transform(df_targets['income'])\n",
    "\n",
    "df_targets.head()\n",
    "class_mapping = dict(zip(encoder.classes_, encoder.transform(encoder.classes_)))\n",
    "\n",
    "# Display the class mapping\n",
    "print(class_mapping)"
   ],
   "metadata": {
    "colab": {
     "base_uri": "https://localhost:8080/"
    },
    "id": "RDAlxcyy5AAc",
    "outputId": "e881efaa-ff3b-484c-81a6-af78c961b372"
   },
   "id": "RDAlxcyy5AAc",
   "outputs": [],
   "execution_count": null
  },
  {
   "cell_type": "code",
   "source": [
    "count_A=df_encoded_targets.sum()\n",
    "count_B= len(df_encoded_targets)-count_A\n",
    "print(f'number of people which are in class >50k: {count_B}')\n",
    "print(f'number of people which are in class <=50k: {count_A}')"
   ],
   "metadata": {
    "colab": {
     "base_uri": "https://localhost:8080/"
    },
    "id": "yHQiZvWG5DId",
    "outputId": "7c74fb65-316d-4394-8955-d8afe4244116"
   },
   "id": "yHQiZvWG5DId",
   "outputs": [],
   "execution_count": null
  },
  {
   "cell_type": "markdown",
   "source": [
    "doing th feautre encoding"
   ],
   "metadata": {
    "id": "kJLdj2uN5OPB"
   },
   "id": "kJLdj2uN5OPB"
  },
  {
   "cell_type": "code",
   "source": [
    "from sklearn.preprocessing import OrdinalEncoder, LabelEncoder\n",
    "o_encoder= OrdinalEncoder()\n",
    "l_endcoder= LabelEncoder()\n",
    "df_features=df_features.fillna(-1)\n",
    "df_features=df_features.astype(str)\n",
    "df_encoded_features= o_encoder.fit_transform(df_features)\n",
    "\n",
    "# df_encoded_features = pd.DataFrame(df_encoded_features)\n",
    "# df_encoded_targets = pd.DataFrame(df_encoded_targets)"
   ],
   "metadata": {
    "id": "onGc-LUp5ISB"
   },
   "id": "onGc-LUp5ISB",
   "outputs": [],
   "execution_count": null
  },
  {
   "cell_type": "markdown",
   "source": [
    "### splitting the data first to avoid data leakage"
   ],
   "metadata": {
    "id": "gG8kFt5d5k7Z"
   },
   "id": "gG8kFt5d5k7Z"
  },
  {
   "cell_type": "code",
   "source": [
    "# splitting the data\n",
    "from sklearn.model_selection import train_test_split\n",
    "X_train, X_test, y_train, y_test= train_test_split(df_encoded_features, df_encoded_targets, test_size=0.2, random_state=42)"
   ],
   "metadata": {
    "id": "m_-PZA7_5IP-"
   },
   "id": "m_-PZA7_5IP-",
   "outputs": [],
   "execution_count": null
  },
  {
   "cell_type": "markdown",
   "source": [
    "ADASYN, SMOTE, RandomOverSampler"
   ],
   "metadata": {
    "id": "zcdS8Ypy6Chi"
   },
   "id": "zcdS8Ypy6Chi"
  },
  {
   "cell_type": "code",
   "source": [
    "from imblearn.over_sampling import ADASYN, SMOTE, RandomOverSampler"
   ],
   "metadata": {
    "id": "reZpm104Jtvm"
   },
   "id": "reZpm104Jtvm",
   "outputs": [],
   "execution_count": null
  },
  {
   "cell_type": "code",
   "source": [
    "adasyn= ADASYN()\n",
    "smote=SMOTE()\n",
    "rs=RandomOverSampler()\n",
    "\n",
    "df_adasyn_features, df_adasyn_targets=adasyn.fit_resample(X_train, y_train)\n",
    "df_smote_features, df_smote_targets=smote.fit_resample(X_train, y_train)\n",
    "df_rs_features, df_rs_targets=rs.fit_resample(X_train, y_train)"
   ],
   "metadata": {
    "id": "mZIkVY6y6BZG"
   },
   "id": "mZIkVY6y6BZG",
   "outputs": [],
   "execution_count": null
  },
  {
   "cell_type": "code",
   "source": [
    "\n",
    "count_A=df_adasyn_targets.sum()\n",
    "count_B= len(df_adasyn_targets)-count_A\n",
    "print(f'ADASYN number of people which are in class +50k: {count_B.item()}')\n",
    "print(f'ADASYN number of people which are in class -=50k: {count_A.item()}')"
   ],
   "metadata": {
    "colab": {
     "base_uri": "https://localhost:8080/"
    },
    "id": "UdWgJpiN6JUl",
    "outputId": "fcda6081-a16f-47c1-eb27-60d524ae2e6c"
   },
   "id": "UdWgJpiN6JUl",
   "outputs": [],
   "execution_count": null
  },
  {
   "cell_type": "code",
   "source": [
    "count_A=df_smote_targets.sum()\n",
    "count_B= len(df_smote_targets)-count_A\n",
    "print(f'SMOTE number of people which are in class +50k: {count_B.item()}')\n",
    "print(f'SMOTE number of people which are in class -=50k: {count_A.item()}')"
   ],
   "metadata": {
    "colab": {
     "base_uri": "https://localhost:8080/"
    },
    "id": "RPm7nJ708jGg",
    "outputId": "30b28e0b-7389-4a61-c19b-ad9b76aab842"
   },
   "id": "RPm7nJ708jGg",
   "outputs": [],
   "execution_count": null
  },
  {
   "cell_type": "code",
   "source": [
    "count_A=df_rs_targets.sum()\n",
    "count_B= len(df_rs_targets)-count_A\n",
    "\n",
    "print(f'RANDOMSAMPLER number of people which are in class +50k: {count_B.item()}')\n",
    "print(f'RANDOMSAMPLER number of people which are in class -=50k: {count_A.item()}')"
   ],
   "metadata": {
    "colab": {
     "base_uri": "https://localhost:8080/"
    },
    "id": "rQojFYSy8rxf",
    "outputId": "f71937e6-ff2e-44a6-affb-0b43f44d4cd8"
   },
   "id": "rQojFYSy8rxf",
   "outputs": [],
   "execution_count": null
  },
  {
   "cell_type": "code",
   "id": "dc896c1f",
   "metadata": {
    "colab": {
     "base_uri": "https://localhost:8080/"
    },
    "id": "dc896c1f",
    "outputId": "2b10e75e-7d62-4cd1-cfa5-1c96283b9794"
   },
   "source": [
    "from sklearn.neighbors import KNeighborsClassifier\n",
    "from sklearn.linear_model import LogisticRegression\n",
    "# defining the models\n",
    "model_A= LogisticRegression()\n",
    "model_S=LogisticRegression()\n",
    "model_RS=LogisticRegression()\n",
    "# training the models\n",
    "model_A.fit(df_adasyn_features,df_adasyn_targets)\n",
    "model_S.fit(df_smote_features,df_smote_targets)\n",
    "model_RS.fit(df_rs_features,df_rs_targets)\n",
    "# making the predictions\n",
    "adasyn_preds= model_A.predict(X_test)\n",
    "smote_preds=model_S.predict(X_test)\n",
    "rs_preds=model_RS.predict(X_test)"
   ],
   "outputs": [],
   "execution_count": null
  },
  {
   "cell_type": "code",
   "id": "d6f750b1",
   "metadata": {
    "colab": {
     "base_uri": "https://localhost:8080/"
    },
    "id": "d6f750b1",
    "outputId": "bf21cd2a-0d58-4827-a9fa-aa828b3cefda"
   },
   "source": [
    "from sklearn.metrics import precision_score, recall_score, accuracy_score, f1_score, confusion_matrix, balanced_accuracy_score\n",
    "# getting the accuracy and confuasion matrix form the mdoels\n",
    "adasyn_acc= balanced_accuracy_score(y_test,adasyn_preds)\n",
    "matrix_A=confusion_matrix(y_test, adasyn_preds)\n",
    "print(f'The balanced accuracy score score of the model_A: {adasyn_acc}')\n",
    "matrix_S=confusion_matrix(y_test, smote_preds)\n",
    "S_acc= balanced_accuracy_score(y_test,smote_preds)\n",
    "print(f'The balanced accuracy score score of the model_S: {S_acc}')\n",
    "matrix_RS=confusion_matrix(y_test, rs_preds)\n",
    "RS_acc= balanced_accuracy_score(y_test,rs_preds)\n",
    "print(f'The balanced accuracy score score of the model_RS: {RS_acc}')"
   ],
   "outputs": [],
   "execution_count": null
  },
  {
   "cell_type": "code",
   "id": "ecff0d34",
   "metadata": {
    "colab": {
     "base_uri": "https://localhost:8080/",
     "height": 1000
    },
    "id": "ecff0d34",
    "outputId": "c24fc13a-098f-48b4-b488-c0a4ab797a22"
   },
   "source": [
    "import matplotlib.pyplot as plt\n",
    "import seaborn as sns\n",
    "matrix_list=[matrix_A, matrix_S,matrix_RS]\n",
    "for matrix in matrix_list:\n",
    "  plt.figure(figsize=(6, 4))\n",
    "  sns.heatmap(matrix, annot=True, fmt='d', cmap='Blues', xticklabels=['0', '1'], yticklabels=['0', '1'])\n",
    "  plt.title('Confusion Matrix')\n",
    "  plt.xlabel('Predicted')\n",
    "  plt.ylabel('Actual')\n",
    "  plt.show()\n"
   ],
   "outputs": [],
   "execution_count": null
  },
  {
   "cell_type": "markdown",
   "source": [
    "### knn classifier on first run"
   ],
   "metadata": {
    "id": "IFE6YSn5Ipti"
   },
   "id": "IFE6YSn5Ipti"
  },
  {
   "cell_type": "code",
   "id": "07e46c5c",
   "metadata": {
    "id": "07e46c5c"
   },
   "source": [
    "from sklearn.metrics import precision_score, recall_score, accuracy_score, f1_score, confusion_matrix, balanced_accuracy_score"
   ],
   "outputs": [],
   "execution_count": null
  },
  {
   "cell_type": "code",
   "id": "74f7e32e",
   "metadata": {
    "id": "74f7e32e"
   },
   "source": [
    "from sklearn.neighbors import KNeighborsClassifier\n",
    "model_KNN=KNeighborsClassifier(2)\n",
    "model_KNN.fit(df_adasyn_features,df_adasyn_targets)\n",
    "knn_preds=model_KNN.predict(X_test)"
   ],
   "outputs": [],
   "execution_count": null
  },
  {
   "cell_type": "code",
   "id": "efc35dc8",
   "metadata": {
    "colab": {
     "base_uri": "https://localhost:8080/"
    },
    "id": "efc35dc8",
    "outputId": "0d1c1d50-dae2-4381-d93b-c7e5b50fbc31"
   },
   "source": [
    "knn_acc= balanced_accuracy_score(y_test,knn_preds)\n",
    "matrix_knn=confusion_matrix(y_test,knn_preds)\n",
    "print(f'The balanced accuracy score score of the model: {knn_acc}')"
   ],
   "outputs": [],
   "execution_count": null
  },
  {
   "cell_type": "code",
   "source": [
    "# knn classifi\n",
    "plt.figure(figsize=(6, 4))\n",
    "sns.heatmap(matrix_knn, annot=True, fmt='d', cmap='Blues', xticklabels=['0', '1'], yticklabels=['0', '1'])\n",
    "plt.title('Confusion Matrix')\n",
    "plt.xlabel('Predicted')\n",
    "plt.ylabel('Actual')\n",
    "plt.show()"
   ],
   "metadata": {
    "colab": {
     "base_uri": "https://localhost:8080/",
     "height": 410
    },
    "id": "mpt6X6n5Clqx",
    "outputId": "6ee9142c-8d4a-405b-f184-37ba3bb80366"
   },
   "id": "mpt6X6n5Clqx",
   "outputs": [],
   "execution_count": null
  },
  {
   "cell_type": "markdown",
   "source": [
    "### KNN on second run(split later)"
   ],
   "metadata": {
    "id": "ia2XokJjJIfH"
   },
   "id": "ia2XokJjJIfH"
  },
  {
   "cell_type": "code",
   "id": "e9323a4d",
   "metadata": {
    "id": "e9323a4d"
   },
   "source": [
    "from imblearn.over_sampling import ADASYN, SMOTE, RandomOverSampler"
   ],
   "outputs": [],
   "execution_count": null
  },
  {
   "cell_type": "code",
   "id": "b184859b",
   "metadata": {
    "id": "b184859b"
   },
   "source": [
    "# importing data\n",
    "from ucimlrepo import fetch_ucirepo\n",
    "from sklearn.model_selection import train_test_split\n",
    "census_income_kdd = fetch_ucirepo(id=117)\n",
    "X = census_income_kdd.data.features\n",
    "y = census_income_kdd.data.targets"
   ],
   "outputs": [],
   "execution_count": null
  },
  {
   "cell_type": "code",
   "id": "48c44832",
   "metadata": {
    "id": "48c44832"
   },
   "source": [
    "# encoding the labels and features\n",
    "from sklearn.preprocessing import OrdinalEncoder, LabelEncoder\n",
    "o_encoder= OrdinalEncoder()\n",
    "l_endcoder= LabelEncoder()\n",
    "X=X.fillna(-1)\n",
    "X=X.astype(str)\n",
    "X_encoded_features= o_encoder.fit_transform(X)\n",
    "y_encoded_targets=o_encoder.fit_transform(y)\n"
   ],
   "outputs": [],
   "execution_count": null
  },
  {
   "cell_type": "code",
   "source": [
    "# using only ADASYN\n",
    "adasyn= ADASYN()\n",
    "X_adasyn_features, y_adasyn_targets=adasyn.fit_resample(X_encoded_features,y_encoded_targets)"
   ],
   "metadata": {
    "id": "a7y0ehE_UUjQ"
   },
   "id": "a7y0ehE_UUjQ",
   "outputs": [],
   "execution_count": null
  },
  {
   "cell_type": "code",
   "id": "54460574",
   "metadata": {
    "id": "54460574"
   },
   "source": [
    "# spliting the data\n",
    "from sklearn.model_selection import train_test_split\n",
    "X_train, X_test, y_train, y_test= train_test_split(X_adasyn_features, y_adasyn_targets, test_size=0.2, random_state=42)"
   ],
   "outputs": [],
   "execution_count": null
  },
  {
   "cell_type": "code",
   "id": "c72d1448",
   "metadata": {
    "colab": {
     "base_uri": "https://localhost:8080/"
    },
    "id": "c72d1448",
    "outputId": "764b9865-2a4e-46dc-f29b-9901109ca0a1"
   },
   "source": [
    "# training two models\n",
    "from sklearn.neighbors import KNeighborsClassifier\n",
    "from sklearn.linear_model import LogisticRegression\n",
    "\n",
    "model_LR= LogisticRegression()\n",
    "model_KNN=KNeighborsClassifier(2)\n",
    "\n",
    "model_KNN.fit(df_adasyn_features,df_adasyn_targets)\n",
    "model_LR.fit(df_adasyn_features,df_adasyn_targets)\n",
    "\n",
    "knn_preds=model_KNN.predict(X_test)\n",
    "LR_preds=model_LR.predict(X_test)"
   ],
   "outputs": [],
   "execution_count": null
  },
  {
   "cell_type": "code",
   "id": "790676ff",
   "metadata": {
    "colab": {
     "base_uri": "https://localhost:8080/"
    },
    "id": "790676ff",
    "outputId": "a167e5c6-cb7a-419d-9d07-623728cd08bc"
   },
   "source": [
    "# checking acc of models\n",
    "knn_acc= balanced_accuracy_score(y_test,knn_preds)\n",
    "matrix_knn=confusion_matrix(y_test,knn_preds)\n",
    "print(f'The balanced accuracy score score of the model_knn: {knn_acc}')\n",
    "\n",
    "LR_acc= balanced_accuracy_score(y_test,LR_preds)\n",
    "matrix_LR=confusion_matrix(y_test,LR_preds)\n",
    "print(f'The balanced accuracy score score of the model_LR: {LR_acc}')"
   ],
   "outputs": [],
   "execution_count": null
  },
  {
   "cell_type": "code",
   "source": [
    "#  confusion mnatrix of logistic regression model\n",
    "plt.figure(figsize=(6, 4))\n",
    "sns.heatmap(matrix_LR, annot=True, fmt='d', cmap='Blues', xticklabels=['0', '1'], yticklabels=['0', '1'])\n",
    "plt.title('Confusion Matrix')\n",
    "plt.xlabel('Predicted')\n",
    "plt.ylabel('Actual')\n",
    "plt.show()"
   ],
   "metadata": {
    "colab": {
     "base_uri": "https://localhost:8080/",
     "height": 410
    },
    "id": "PXS2QIe8NK6X",
    "outputId": "3514fd95-3ea7-4ba3-cdfc-54c5a05bd0f4"
   },
   "id": "PXS2QIe8NK6X",
   "outputs": [],
   "execution_count": null
  },
  {
   "cell_type": "code",
   "id": "f75e37d9",
   "metadata": {
    "colab": {
     "base_uri": "https://localhost:8080/",
     "height": 410
    },
    "id": "f75e37d9",
    "outputId": "5720f203-16ca-41a9-a6f1-6377c4aae1b6"
   },
   "source": [
    "# confusion matirx of KNN model\n",
    "plt.figure(figsize=(6, 4))\n",
    "sns.heatmap(matrix_knn, annot=True, fmt='d', cmap='Blues', xticklabels=['0', '1'], yticklabels=['0', '1'])\n",
    "plt.title('Confusion Matrix')\n",
    "plt.xlabel('Predicted')\n",
    "plt.ylabel('Actual')\n",
    "plt.show()"
   ],
   "outputs": [],
   "execution_count": null
  },
  {
   "metadata": {},
   "cell_type": "code",
   "source": "",
   "id": "7ba468bd5ee0ba3c",
   "outputs": [],
   "execution_count": null
  },
  {
   "metadata": {},
   "cell_type": "code",
   "source": "",
   "id": "523e25a79a57ef89",
   "outputs": [],
   "execution_count": null
  },
  {
   "metadata": {},
   "cell_type": "code",
   "source": "",
   "id": "bef7d16103d54d5",
   "outputs": [],
   "execution_count": null
  },
  {
   "cell_type": "markdown",
   "source": [
    "+ when i split the data before doing the upsampling *to avoide data leakage* logistic regression model **(0.79)** performs better than KNN model **(0.68)**.\n",
    "+ when i split the data after doing the upsampling logistic regression model**(0.79)** performs worse than KNN model**(0.89)**.\n",
    "+ **accuracy of KNN model increased while the accuracy of logistic regression model remained same.**\n",
    "\n",
    "Q: why did KNN perfom worse in first run and better in second run? is this becasue of the data leakage?\n"
   ],
   "metadata": {
    "id": "XafNysruQ0Ln"
   },
   "id": "XafNysruQ0Ln"
  },
  {
   "metadata": {},
   "cell_type": "markdown",
   "source": "# 28-11-2024",
   "id": "36b0d94eaac4c3a"
  },
  {
   "metadata": {},
   "cell_type": "markdown",
   "source": "hint: make a entroy function",
   "id": "5b8a92cf4710e5c"
  },
  {
   "metadata": {
    "ExecuteTime": {
     "end_time": "2024-11-28T09:53:59.110318Z",
     "start_time": "2024-11-28T09:53:59.095461Z"
    }
   },
   "cell_type": "code",
   "source": [
    "#reading the data\n",
    "import pandas as pd\n",
    "#table= pd.read_csv(r'C:\\Users\\kashi\\Desktop\\II SEM\\ML\\lecture_7\\decision-tree.txt',colums)\n",
    "columns = ['outlook', 'temp', 'humidity', 'wind', 'play', 'Play2']\n",
    "df = pd.read_csv(r'C:\\Users\\kashi\\Desktop\\II SEM\\ML\\lecture_7\\decision-tree.txt', delimiter='|', skipinitialspace=True, header=None, names=columns)\n",
    "df = df.drop(columns=['Play2'])\n",
    "df"
   ],
   "id": "8d8b462c92288e7d",
   "outputs": [
    {
     "data": {
      "text/plain": [
       "          outlook   temp humidity     wind play\n",
       "NaN 1       Sunny   Hot      High     Weak   No\n",
       "    2      Sunny     Hot     High   Strong   No\n",
       "    3   Overcast     Hot     High    Weak   Yes\n",
       "    4        Rain  Mild      High     Weak  Yes\n",
       "    5       Rain   Cool    Normal    Weak   Yes\n",
       "    6       Rain   Cool   Normal    Strong   No\n",
       "    7   Overcast    Cool   Normal  Strong   Yes\n",
       "    8       Sunny   Mild     High     Weak   No\n",
       "    9      Sunny    Cool   Normal     Weak  Yes\n",
       "    10       Rain  Mild    Normal     Weak  Yes\n",
       "    11      Sunny   Mild   Normal  Strong   Yes\n",
       "    12   Overcast   Mild    High    Strong  Yes\n",
       "    13  Overcast     Hot  Normal      Weak  Yes\n",
       "    14       Rain  Mild     High    Strong   No"
      ],
      "text/html": [
       "<div>\n",
       "<style scoped>\n",
       "    .dataframe tbody tr th:only-of-type {\n",
       "        vertical-align: middle;\n",
       "    }\n",
       "\n",
       "    .dataframe tbody tr th {\n",
       "        vertical-align: top;\n",
       "    }\n",
       "\n",
       "    .dataframe thead th {\n",
       "        text-align: right;\n",
       "    }\n",
       "</style>\n",
       "<table border=\"1\" class=\"dataframe\">\n",
       "  <thead>\n",
       "    <tr style=\"text-align: right;\">\n",
       "      <th></th>\n",
       "      <th></th>\n",
       "      <th>outlook</th>\n",
       "      <th>temp</th>\n",
       "      <th>humidity</th>\n",
       "      <th>wind</th>\n",
       "      <th>play</th>\n",
       "    </tr>\n",
       "  </thead>\n",
       "  <tbody>\n",
       "    <tr>\n",
       "      <th rowspan=\"14\" valign=\"top\">NaN</th>\n",
       "      <th>1</th>\n",
       "      <td>Sunny</td>\n",
       "      <td>Hot</td>\n",
       "      <td>High</td>\n",
       "      <td>Weak</td>\n",
       "      <td>No</td>\n",
       "    </tr>\n",
       "    <tr>\n",
       "      <th>2</th>\n",
       "      <td>Sunny</td>\n",
       "      <td>Hot</td>\n",
       "      <td>High</td>\n",
       "      <td>Strong</td>\n",
       "      <td>No</td>\n",
       "    </tr>\n",
       "    <tr>\n",
       "      <th>3</th>\n",
       "      <td>Overcast</td>\n",
       "      <td>Hot</td>\n",
       "      <td>High</td>\n",
       "      <td>Weak</td>\n",
       "      <td>Yes</td>\n",
       "    </tr>\n",
       "    <tr>\n",
       "      <th>4</th>\n",
       "      <td>Rain</td>\n",
       "      <td>Mild</td>\n",
       "      <td>High</td>\n",
       "      <td>Weak</td>\n",
       "      <td>Yes</td>\n",
       "    </tr>\n",
       "    <tr>\n",
       "      <th>5</th>\n",
       "      <td>Rain</td>\n",
       "      <td>Cool</td>\n",
       "      <td>Normal</td>\n",
       "      <td>Weak</td>\n",
       "      <td>Yes</td>\n",
       "    </tr>\n",
       "    <tr>\n",
       "      <th>6</th>\n",
       "      <td>Rain</td>\n",
       "      <td>Cool</td>\n",
       "      <td>Normal</td>\n",
       "      <td>Strong</td>\n",
       "      <td>No</td>\n",
       "    </tr>\n",
       "    <tr>\n",
       "      <th>7</th>\n",
       "      <td>Overcast</td>\n",
       "      <td>Cool</td>\n",
       "      <td>Normal</td>\n",
       "      <td>Strong</td>\n",
       "      <td>Yes</td>\n",
       "    </tr>\n",
       "    <tr>\n",
       "      <th>8</th>\n",
       "      <td>Sunny</td>\n",
       "      <td>Mild</td>\n",
       "      <td>High</td>\n",
       "      <td>Weak</td>\n",
       "      <td>No</td>\n",
       "    </tr>\n",
       "    <tr>\n",
       "      <th>9</th>\n",
       "      <td>Sunny</td>\n",
       "      <td>Cool</td>\n",
       "      <td>Normal</td>\n",
       "      <td>Weak</td>\n",
       "      <td>Yes</td>\n",
       "    </tr>\n",
       "    <tr>\n",
       "      <th>10</th>\n",
       "      <td>Rain</td>\n",
       "      <td>Mild</td>\n",
       "      <td>Normal</td>\n",
       "      <td>Weak</td>\n",
       "      <td>Yes</td>\n",
       "    </tr>\n",
       "    <tr>\n",
       "      <th>11</th>\n",
       "      <td>Sunny</td>\n",
       "      <td>Mild</td>\n",
       "      <td>Normal</td>\n",
       "      <td>Strong</td>\n",
       "      <td>Yes</td>\n",
       "    </tr>\n",
       "    <tr>\n",
       "      <th>12</th>\n",
       "      <td>Overcast</td>\n",
       "      <td>Mild</td>\n",
       "      <td>High</td>\n",
       "      <td>Strong</td>\n",
       "      <td>Yes</td>\n",
       "    </tr>\n",
       "    <tr>\n",
       "      <th>13</th>\n",
       "      <td>Overcast</td>\n",
       "      <td>Hot</td>\n",
       "      <td>Normal</td>\n",
       "      <td>Weak</td>\n",
       "      <td>Yes</td>\n",
       "    </tr>\n",
       "    <tr>\n",
       "      <th>14</th>\n",
       "      <td>Rain</td>\n",
       "      <td>Mild</td>\n",
       "      <td>High</td>\n",
       "      <td>Strong</td>\n",
       "      <td>No</td>\n",
       "    </tr>\n",
       "  </tbody>\n",
       "</table>\n",
       "</div>"
      ]
     },
     "execution_count": 56,
     "metadata": {},
     "output_type": "execute_result"
    }
   ],
   "execution_count": 56
  },
  {
   "metadata": {
    "ExecuteTime": {
     "end_time": "2024-11-28T09:56:19.569161Z",
     "start_time": "2024-11-28T09:56:19.557941Z"
    }
   },
   "cell_type": "code",
   "source": "df.columns",
   "id": "f225ce013fcbd47a",
   "outputs": [
    {
     "data": {
      "text/plain": [
       "Index(['outlook', 'temp', 'humidity', 'wind', 'play'], dtype='object')"
      ]
     },
     "execution_count": 58,
     "metadata": {},
     "output_type": "execute_result"
    }
   ],
   "execution_count": 58
  },
  {
   "metadata": {
    "ExecuteTime": {
     "end_time": "2024-11-28T09:56:40.531344Z",
     "start_time": "2024-11-28T09:56:40.525063Z"
    }
   },
   "cell_type": "code",
   "source": [
    "from sklearn.preprocessing import OrdinalEncoder,LabelEncoder\n",
    "encoder= LabelEncoder()\n",
    "columns=df.columns\n",
    "for col in df.columns:\n",
    "  df[col]= encoder.fit_transform(df[col])\n",
    "df"
   ],
   "id": "5ef7bcd2d5064b67",
   "outputs": [],
   "execution_count": 59
  },
  {
   "metadata": {
    "ExecuteTime": {
     "end_time": "2024-11-28T09:56:47.821054Z",
     "start_time": "2024-11-28T09:56:47.810905Z"
    }
   },
   "cell_type": "code",
   "source": "df",
   "id": "26f793d855522d33",
   "outputs": [
    {
     "data": {
      "text/plain": [
       "        outlook  temp  humidity  wind  play\n",
       "NaN 1         4     3         0     2     0\n",
       "    2         5     2         0     0     0\n",
       "    3         1     2         0     3     1\n",
       "    4         2     5         0     2     1\n",
       "    5         3     1         2     3     1\n",
       "    6         3     1         3     0     0\n",
       "    7         1     0         2     1     1\n",
       "    8         4     4         0     2     0\n",
       "    9         5     0         2     2     1\n",
       "    10        2     5         2     2     1\n",
       "    11        4     4         2     1     1\n",
       "    12        0     4         1     0     1\n",
       "    13        1     2         3     2     1\n",
       "    14        2     5         1     0     0"
      ],
      "text/html": [
       "<div>\n",
       "<style scoped>\n",
       "    .dataframe tbody tr th:only-of-type {\n",
       "        vertical-align: middle;\n",
       "    }\n",
       "\n",
       "    .dataframe tbody tr th {\n",
       "        vertical-align: top;\n",
       "    }\n",
       "\n",
       "    .dataframe thead th {\n",
       "        text-align: right;\n",
       "    }\n",
       "</style>\n",
       "<table border=\"1\" class=\"dataframe\">\n",
       "  <thead>\n",
       "    <tr style=\"text-align: right;\">\n",
       "      <th></th>\n",
       "      <th></th>\n",
       "      <th>outlook</th>\n",
       "      <th>temp</th>\n",
       "      <th>humidity</th>\n",
       "      <th>wind</th>\n",
       "      <th>play</th>\n",
       "    </tr>\n",
       "  </thead>\n",
       "  <tbody>\n",
       "    <tr>\n",
       "      <th rowspan=\"14\" valign=\"top\">NaN</th>\n",
       "      <th>1</th>\n",
       "      <td>4</td>\n",
       "      <td>3</td>\n",
       "      <td>0</td>\n",
       "      <td>2</td>\n",
       "      <td>0</td>\n",
       "    </tr>\n",
       "    <tr>\n",
       "      <th>2</th>\n",
       "      <td>5</td>\n",
       "      <td>2</td>\n",
       "      <td>0</td>\n",
       "      <td>0</td>\n",
       "      <td>0</td>\n",
       "    </tr>\n",
       "    <tr>\n",
       "      <th>3</th>\n",
       "      <td>1</td>\n",
       "      <td>2</td>\n",
       "      <td>0</td>\n",
       "      <td>3</td>\n",
       "      <td>1</td>\n",
       "    </tr>\n",
       "    <tr>\n",
       "      <th>4</th>\n",
       "      <td>2</td>\n",
       "      <td>5</td>\n",
       "      <td>0</td>\n",
       "      <td>2</td>\n",
       "      <td>1</td>\n",
       "    </tr>\n",
       "    <tr>\n",
       "      <th>5</th>\n",
       "      <td>3</td>\n",
       "      <td>1</td>\n",
       "      <td>2</td>\n",
       "      <td>3</td>\n",
       "      <td>1</td>\n",
       "    </tr>\n",
       "    <tr>\n",
       "      <th>6</th>\n",
       "      <td>3</td>\n",
       "      <td>1</td>\n",
       "      <td>3</td>\n",
       "      <td>0</td>\n",
       "      <td>0</td>\n",
       "    </tr>\n",
       "    <tr>\n",
       "      <th>7</th>\n",
       "      <td>1</td>\n",
       "      <td>0</td>\n",
       "      <td>2</td>\n",
       "      <td>1</td>\n",
       "      <td>1</td>\n",
       "    </tr>\n",
       "    <tr>\n",
       "      <th>8</th>\n",
       "      <td>4</td>\n",
       "      <td>4</td>\n",
       "      <td>0</td>\n",
       "      <td>2</td>\n",
       "      <td>0</td>\n",
       "    </tr>\n",
       "    <tr>\n",
       "      <th>9</th>\n",
       "      <td>5</td>\n",
       "      <td>0</td>\n",
       "      <td>2</td>\n",
       "      <td>2</td>\n",
       "      <td>1</td>\n",
       "    </tr>\n",
       "    <tr>\n",
       "      <th>10</th>\n",
       "      <td>2</td>\n",
       "      <td>5</td>\n",
       "      <td>2</td>\n",
       "      <td>2</td>\n",
       "      <td>1</td>\n",
       "    </tr>\n",
       "    <tr>\n",
       "      <th>11</th>\n",
       "      <td>4</td>\n",
       "      <td>4</td>\n",
       "      <td>2</td>\n",
       "      <td>1</td>\n",
       "      <td>1</td>\n",
       "    </tr>\n",
       "    <tr>\n",
       "      <th>12</th>\n",
       "      <td>0</td>\n",
       "      <td>4</td>\n",
       "      <td>1</td>\n",
       "      <td>0</td>\n",
       "      <td>1</td>\n",
       "    </tr>\n",
       "    <tr>\n",
       "      <th>13</th>\n",
       "      <td>1</td>\n",
       "      <td>2</td>\n",
       "      <td>3</td>\n",
       "      <td>2</td>\n",
       "      <td>1</td>\n",
       "    </tr>\n",
       "    <tr>\n",
       "      <th>14</th>\n",
       "      <td>2</td>\n",
       "      <td>5</td>\n",
       "      <td>1</td>\n",
       "      <td>0</td>\n",
       "      <td>0</td>\n",
       "    </tr>\n",
       "  </tbody>\n",
       "</table>\n",
       "</div>"
      ]
     },
     "execution_count": 60,
     "metadata": {},
     "output_type": "execute_result"
    }
   ],
   "execution_count": 60
  },
  {
   "metadata": {
    "ExecuteTime": {
     "end_time": "2024-11-28T09:51:08.566707Z",
     "start_time": "2024-11-28T09:51:07.745656Z"
    }
   },
   "cell_type": "code",
   "source": "from sklearn.tree import DecisionTreeClassifier",
   "id": "94118122c4f019c4",
   "outputs": [],
   "execution_count": 47
  },
  {
   "metadata": {},
   "cell_type": "markdown",
   "source": [
    ":\n",
    "    "
   ],
   "id": "d07c66262e60deef"
  },
  {
   "metadata": {
    "ExecuteTime": {
     "end_time": "2024-11-28T09:51:10.967829Z",
     "start_time": "2024-11-28T09:51:10.957853Z"
    }
   },
   "cell_type": "code",
   "source": "model =DecisionTreeClassifier()",
   "id": "83f5c5d2746f3b88",
   "outputs": [],
   "execution_count": 48
  },
  {
   "metadata": {
    "ExecuteTime": {
     "end_time": "2024-11-28T09:58:00.631277Z",
     "start_time": "2024-11-28T09:58:00.625223Z"
    }
   },
   "cell_type": "code",
   "source": [
    "features= df[['outlook','temp','humidity','wind']]\n",
    "lables=df['play']"
   ],
   "id": "548f7d675834629f",
   "outputs": [],
   "execution_count": 61
  },
  {
   "cell_type": "code",
   "source": "model.fit(features, lables)",
   "metadata": {
    "id": "Ie5_GxbKTOWL",
    "ExecuteTime": {
     "end_time": "2024-11-28T09:58:10.359013Z",
     "start_time": "2024-11-28T09:58:10.340719Z"
    }
   },
   "id": "Ie5_GxbKTOWL",
   "outputs": [
    {
     "data": {
      "text/plain": [
       "DecisionTreeClassifier()"
      ],
      "text/html": [
       "<style>#sk-container-id-1 {\n",
       "  /* Definition of color scheme common for light and dark mode */\n",
       "  --sklearn-color-text: black;\n",
       "  --sklearn-color-line: gray;\n",
       "  /* Definition of color scheme for unfitted estimators */\n",
       "  --sklearn-color-unfitted-level-0: #fff5e6;\n",
       "  --sklearn-color-unfitted-level-1: #f6e4d2;\n",
       "  --sklearn-color-unfitted-level-2: #ffe0b3;\n",
       "  --sklearn-color-unfitted-level-3: chocolate;\n",
       "  /* Definition of color scheme for fitted estimators */\n",
       "  --sklearn-color-fitted-level-0: #f0f8ff;\n",
       "  --sklearn-color-fitted-level-1: #d4ebff;\n",
       "  --sklearn-color-fitted-level-2: #b3dbfd;\n",
       "  --sklearn-color-fitted-level-3: cornflowerblue;\n",
       "\n",
       "  /* Specific color for light theme */\n",
       "  --sklearn-color-text-on-default-background: var(--sg-text-color, var(--theme-code-foreground, var(--jp-content-font-color1, black)));\n",
       "  --sklearn-color-background: var(--sg-background-color, var(--theme-background, var(--jp-layout-color0, white)));\n",
       "  --sklearn-color-border-box: var(--sg-text-color, var(--theme-code-foreground, var(--jp-content-font-color1, black)));\n",
       "  --sklearn-color-icon: #696969;\n",
       "\n",
       "  @media (prefers-color-scheme: dark) {\n",
       "    /* Redefinition of color scheme for dark theme */\n",
       "    --sklearn-color-text-on-default-background: var(--sg-text-color, var(--theme-code-foreground, var(--jp-content-font-color1, white)));\n",
       "    --sklearn-color-background: var(--sg-background-color, var(--theme-background, var(--jp-layout-color0, #111)));\n",
       "    --sklearn-color-border-box: var(--sg-text-color, var(--theme-code-foreground, var(--jp-content-font-color1, white)));\n",
       "    --sklearn-color-icon: #878787;\n",
       "  }\n",
       "}\n",
       "\n",
       "#sk-container-id-1 {\n",
       "  color: var(--sklearn-color-text);\n",
       "}\n",
       "\n",
       "#sk-container-id-1 pre {\n",
       "  padding: 0;\n",
       "}\n",
       "\n",
       "#sk-container-id-1 input.sk-hidden--visually {\n",
       "  border: 0;\n",
       "  clip: rect(1px 1px 1px 1px);\n",
       "  clip: rect(1px, 1px, 1px, 1px);\n",
       "  height: 1px;\n",
       "  margin: -1px;\n",
       "  overflow: hidden;\n",
       "  padding: 0;\n",
       "  position: absolute;\n",
       "  width: 1px;\n",
       "}\n",
       "\n",
       "#sk-container-id-1 div.sk-dashed-wrapped {\n",
       "  border: 1px dashed var(--sklearn-color-line);\n",
       "  margin: 0 0.4em 0.5em 0.4em;\n",
       "  box-sizing: border-box;\n",
       "  padding-bottom: 0.4em;\n",
       "  background-color: var(--sklearn-color-background);\n",
       "}\n",
       "\n",
       "#sk-container-id-1 div.sk-container {\n",
       "  /* jupyter's `normalize.less` sets `[hidden] { display: none; }`\n",
       "     but bootstrap.min.css set `[hidden] { display: none !important; }`\n",
       "     so we also need the `!important` here to be able to override the\n",
       "     default hidden behavior on the sphinx rendered scikit-learn.org.\n",
       "     See: https://github.com/scikit-learn/scikit-learn/issues/21755 */\n",
       "  display: inline-block !important;\n",
       "  position: relative;\n",
       "}\n",
       "\n",
       "#sk-container-id-1 div.sk-text-repr-fallback {\n",
       "  display: none;\n",
       "}\n",
       "\n",
       "div.sk-parallel-item,\n",
       "div.sk-serial,\n",
       "div.sk-item {\n",
       "  /* draw centered vertical line to link estimators */\n",
       "  background-image: linear-gradient(var(--sklearn-color-text-on-default-background), var(--sklearn-color-text-on-default-background));\n",
       "  background-size: 2px 100%;\n",
       "  background-repeat: no-repeat;\n",
       "  background-position: center center;\n",
       "}\n",
       "\n",
       "/* Parallel-specific style estimator block */\n",
       "\n",
       "#sk-container-id-1 div.sk-parallel-item::after {\n",
       "  content: \"\";\n",
       "  width: 100%;\n",
       "  border-bottom: 2px solid var(--sklearn-color-text-on-default-background);\n",
       "  flex-grow: 1;\n",
       "}\n",
       "\n",
       "#sk-container-id-1 div.sk-parallel {\n",
       "  display: flex;\n",
       "  align-items: stretch;\n",
       "  justify-content: center;\n",
       "  background-color: var(--sklearn-color-background);\n",
       "  position: relative;\n",
       "}\n",
       "\n",
       "#sk-container-id-1 div.sk-parallel-item {\n",
       "  display: flex;\n",
       "  flex-direction: column;\n",
       "}\n",
       "\n",
       "#sk-container-id-1 div.sk-parallel-item:first-child::after {\n",
       "  align-self: flex-end;\n",
       "  width: 50%;\n",
       "}\n",
       "\n",
       "#sk-container-id-1 div.sk-parallel-item:last-child::after {\n",
       "  align-self: flex-start;\n",
       "  width: 50%;\n",
       "}\n",
       "\n",
       "#sk-container-id-1 div.sk-parallel-item:only-child::after {\n",
       "  width: 0;\n",
       "}\n",
       "\n",
       "/* Serial-specific style estimator block */\n",
       "\n",
       "#sk-container-id-1 div.sk-serial {\n",
       "  display: flex;\n",
       "  flex-direction: column;\n",
       "  align-items: center;\n",
       "  background-color: var(--sklearn-color-background);\n",
       "  padding-right: 1em;\n",
       "  padding-left: 1em;\n",
       "}\n",
       "\n",
       "\n",
       "/* Toggleable style: style used for estimator/Pipeline/ColumnTransformer box that is\n",
       "clickable and can be expanded/collapsed.\n",
       "- Pipeline and ColumnTransformer use this feature and define the default style\n",
       "- Estimators will overwrite some part of the style using the `sk-estimator` class\n",
       "*/\n",
       "\n",
       "/* Pipeline and ColumnTransformer style (default) */\n",
       "\n",
       "#sk-container-id-1 div.sk-toggleable {\n",
       "  /* Default theme specific background. It is overwritten whether we have a\n",
       "  specific estimator or a Pipeline/ColumnTransformer */\n",
       "  background-color: var(--sklearn-color-background);\n",
       "}\n",
       "\n",
       "/* Toggleable label */\n",
       "#sk-container-id-1 label.sk-toggleable__label {\n",
       "  cursor: pointer;\n",
       "  display: block;\n",
       "  width: 100%;\n",
       "  margin-bottom: 0;\n",
       "  padding: 0.5em;\n",
       "  box-sizing: border-box;\n",
       "  text-align: center;\n",
       "}\n",
       "\n",
       "#sk-container-id-1 label.sk-toggleable__label-arrow:before {\n",
       "  /* Arrow on the left of the label */\n",
       "  content: \"▸\";\n",
       "  float: left;\n",
       "  margin-right: 0.25em;\n",
       "  color: var(--sklearn-color-icon);\n",
       "}\n",
       "\n",
       "#sk-container-id-1 label.sk-toggleable__label-arrow:hover:before {\n",
       "  color: var(--sklearn-color-text);\n",
       "}\n",
       "\n",
       "/* Toggleable content - dropdown */\n",
       "\n",
       "#sk-container-id-1 div.sk-toggleable__content {\n",
       "  max-height: 0;\n",
       "  max-width: 0;\n",
       "  overflow: hidden;\n",
       "  text-align: left;\n",
       "  /* unfitted */\n",
       "  background-color: var(--sklearn-color-unfitted-level-0);\n",
       "}\n",
       "\n",
       "#sk-container-id-1 div.sk-toggleable__content.fitted {\n",
       "  /* fitted */\n",
       "  background-color: var(--sklearn-color-fitted-level-0);\n",
       "}\n",
       "\n",
       "#sk-container-id-1 div.sk-toggleable__content pre {\n",
       "  margin: 0.2em;\n",
       "  border-radius: 0.25em;\n",
       "  color: var(--sklearn-color-text);\n",
       "  /* unfitted */\n",
       "  background-color: var(--sklearn-color-unfitted-level-0);\n",
       "}\n",
       "\n",
       "#sk-container-id-1 div.sk-toggleable__content.fitted pre {\n",
       "  /* unfitted */\n",
       "  background-color: var(--sklearn-color-fitted-level-0);\n",
       "}\n",
       "\n",
       "#sk-container-id-1 input.sk-toggleable__control:checked~div.sk-toggleable__content {\n",
       "  /* Expand drop-down */\n",
       "  max-height: 200px;\n",
       "  max-width: 100%;\n",
       "  overflow: auto;\n",
       "}\n",
       "\n",
       "#sk-container-id-1 input.sk-toggleable__control:checked~label.sk-toggleable__label-arrow:before {\n",
       "  content: \"▾\";\n",
       "}\n",
       "\n",
       "/* Pipeline/ColumnTransformer-specific style */\n",
       "\n",
       "#sk-container-id-1 div.sk-label input.sk-toggleable__control:checked~label.sk-toggleable__label {\n",
       "  color: var(--sklearn-color-text);\n",
       "  background-color: var(--sklearn-color-unfitted-level-2);\n",
       "}\n",
       "\n",
       "#sk-container-id-1 div.sk-label.fitted input.sk-toggleable__control:checked~label.sk-toggleable__label {\n",
       "  background-color: var(--sklearn-color-fitted-level-2);\n",
       "}\n",
       "\n",
       "/* Estimator-specific style */\n",
       "\n",
       "/* Colorize estimator box */\n",
       "#sk-container-id-1 div.sk-estimator input.sk-toggleable__control:checked~label.sk-toggleable__label {\n",
       "  /* unfitted */\n",
       "  background-color: var(--sklearn-color-unfitted-level-2);\n",
       "}\n",
       "\n",
       "#sk-container-id-1 div.sk-estimator.fitted input.sk-toggleable__control:checked~label.sk-toggleable__label {\n",
       "  /* fitted */\n",
       "  background-color: var(--sklearn-color-fitted-level-2);\n",
       "}\n",
       "\n",
       "#sk-container-id-1 div.sk-label label.sk-toggleable__label,\n",
       "#sk-container-id-1 div.sk-label label {\n",
       "  /* The background is the default theme color */\n",
       "  color: var(--sklearn-color-text-on-default-background);\n",
       "}\n",
       "\n",
       "/* On hover, darken the color of the background */\n",
       "#sk-container-id-1 div.sk-label:hover label.sk-toggleable__label {\n",
       "  color: var(--sklearn-color-text);\n",
       "  background-color: var(--sklearn-color-unfitted-level-2);\n",
       "}\n",
       "\n",
       "/* Label box, darken color on hover, fitted */\n",
       "#sk-container-id-1 div.sk-label.fitted:hover label.sk-toggleable__label.fitted {\n",
       "  color: var(--sklearn-color-text);\n",
       "  background-color: var(--sklearn-color-fitted-level-2);\n",
       "}\n",
       "\n",
       "/* Estimator label */\n",
       "\n",
       "#sk-container-id-1 div.sk-label label {\n",
       "  font-family: monospace;\n",
       "  font-weight: bold;\n",
       "  display: inline-block;\n",
       "  line-height: 1.2em;\n",
       "}\n",
       "\n",
       "#sk-container-id-1 div.sk-label-container {\n",
       "  text-align: center;\n",
       "}\n",
       "\n",
       "/* Estimator-specific */\n",
       "#sk-container-id-1 div.sk-estimator {\n",
       "  font-family: monospace;\n",
       "  border: 1px dotted var(--sklearn-color-border-box);\n",
       "  border-radius: 0.25em;\n",
       "  box-sizing: border-box;\n",
       "  margin-bottom: 0.5em;\n",
       "  /* unfitted */\n",
       "  background-color: var(--sklearn-color-unfitted-level-0);\n",
       "}\n",
       "\n",
       "#sk-container-id-1 div.sk-estimator.fitted {\n",
       "  /* fitted */\n",
       "  background-color: var(--sklearn-color-fitted-level-0);\n",
       "}\n",
       "\n",
       "/* on hover */\n",
       "#sk-container-id-1 div.sk-estimator:hover {\n",
       "  /* unfitted */\n",
       "  background-color: var(--sklearn-color-unfitted-level-2);\n",
       "}\n",
       "\n",
       "#sk-container-id-1 div.sk-estimator.fitted:hover {\n",
       "  /* fitted */\n",
       "  background-color: var(--sklearn-color-fitted-level-2);\n",
       "}\n",
       "\n",
       "/* Specification for estimator info (e.g. \"i\" and \"?\") */\n",
       "\n",
       "/* Common style for \"i\" and \"?\" */\n",
       "\n",
       ".sk-estimator-doc-link,\n",
       "a:link.sk-estimator-doc-link,\n",
       "a:visited.sk-estimator-doc-link {\n",
       "  float: right;\n",
       "  font-size: smaller;\n",
       "  line-height: 1em;\n",
       "  font-family: monospace;\n",
       "  background-color: var(--sklearn-color-background);\n",
       "  border-radius: 1em;\n",
       "  height: 1em;\n",
       "  width: 1em;\n",
       "  text-decoration: none !important;\n",
       "  margin-left: 1ex;\n",
       "  /* unfitted */\n",
       "  border: var(--sklearn-color-unfitted-level-1) 1pt solid;\n",
       "  color: var(--sklearn-color-unfitted-level-1);\n",
       "}\n",
       "\n",
       ".sk-estimator-doc-link.fitted,\n",
       "a:link.sk-estimator-doc-link.fitted,\n",
       "a:visited.sk-estimator-doc-link.fitted {\n",
       "  /* fitted */\n",
       "  border: var(--sklearn-color-fitted-level-1) 1pt solid;\n",
       "  color: var(--sklearn-color-fitted-level-1);\n",
       "}\n",
       "\n",
       "/* On hover */\n",
       "div.sk-estimator:hover .sk-estimator-doc-link:hover,\n",
       ".sk-estimator-doc-link:hover,\n",
       "div.sk-label-container:hover .sk-estimator-doc-link:hover,\n",
       ".sk-estimator-doc-link:hover {\n",
       "  /* unfitted */\n",
       "  background-color: var(--sklearn-color-unfitted-level-3);\n",
       "  color: var(--sklearn-color-background);\n",
       "  text-decoration: none;\n",
       "}\n",
       "\n",
       "div.sk-estimator.fitted:hover .sk-estimator-doc-link.fitted:hover,\n",
       ".sk-estimator-doc-link.fitted:hover,\n",
       "div.sk-label-container:hover .sk-estimator-doc-link.fitted:hover,\n",
       ".sk-estimator-doc-link.fitted:hover {\n",
       "  /* fitted */\n",
       "  background-color: var(--sklearn-color-fitted-level-3);\n",
       "  color: var(--sklearn-color-background);\n",
       "  text-decoration: none;\n",
       "}\n",
       "\n",
       "/* Span, style for the box shown on hovering the info icon */\n",
       ".sk-estimator-doc-link span {\n",
       "  display: none;\n",
       "  z-index: 9999;\n",
       "  position: relative;\n",
       "  font-weight: normal;\n",
       "  right: .2ex;\n",
       "  padding: .5ex;\n",
       "  margin: .5ex;\n",
       "  width: min-content;\n",
       "  min-width: 20ex;\n",
       "  max-width: 50ex;\n",
       "  color: var(--sklearn-color-text);\n",
       "  box-shadow: 2pt 2pt 4pt #999;\n",
       "  /* unfitted */\n",
       "  background: var(--sklearn-color-unfitted-level-0);\n",
       "  border: .5pt solid var(--sklearn-color-unfitted-level-3);\n",
       "}\n",
       "\n",
       ".sk-estimator-doc-link.fitted span {\n",
       "  /* fitted */\n",
       "  background: var(--sklearn-color-fitted-level-0);\n",
       "  border: var(--sklearn-color-fitted-level-3);\n",
       "}\n",
       "\n",
       ".sk-estimator-doc-link:hover span {\n",
       "  display: block;\n",
       "}\n",
       "\n",
       "/* \"?\"-specific style due to the `<a>` HTML tag */\n",
       "\n",
       "#sk-container-id-1 a.estimator_doc_link {\n",
       "  float: right;\n",
       "  font-size: 1rem;\n",
       "  line-height: 1em;\n",
       "  font-family: monospace;\n",
       "  background-color: var(--sklearn-color-background);\n",
       "  border-radius: 1rem;\n",
       "  height: 1rem;\n",
       "  width: 1rem;\n",
       "  text-decoration: none;\n",
       "  /* unfitted */\n",
       "  color: var(--sklearn-color-unfitted-level-1);\n",
       "  border: var(--sklearn-color-unfitted-level-1) 1pt solid;\n",
       "}\n",
       "\n",
       "#sk-container-id-1 a.estimator_doc_link.fitted {\n",
       "  /* fitted */\n",
       "  border: var(--sklearn-color-fitted-level-1) 1pt solid;\n",
       "  color: var(--sklearn-color-fitted-level-1);\n",
       "}\n",
       "\n",
       "/* On hover */\n",
       "#sk-container-id-1 a.estimator_doc_link:hover {\n",
       "  /* unfitted */\n",
       "  background-color: var(--sklearn-color-unfitted-level-3);\n",
       "  color: var(--sklearn-color-background);\n",
       "  text-decoration: none;\n",
       "}\n",
       "\n",
       "#sk-container-id-1 a.estimator_doc_link.fitted:hover {\n",
       "  /* fitted */\n",
       "  background-color: var(--sklearn-color-fitted-level-3);\n",
       "}\n",
       "</style><div id=\"sk-container-id-1\" class=\"sk-top-container\"><div class=\"sk-text-repr-fallback\"><pre>DecisionTreeClassifier()</pre><b>In a Jupyter environment, please rerun this cell to show the HTML representation or trust the notebook. <br />On GitHub, the HTML representation is unable to render, please try loading this page with nbviewer.org.</b></div><div class=\"sk-container\" hidden><div class=\"sk-item\"><div class=\"sk-estimator fitted sk-toggleable\"><input class=\"sk-toggleable__control sk-hidden--visually\" id=\"sk-estimator-id-1\" type=\"checkbox\" checked><label for=\"sk-estimator-id-1\" class=\"sk-toggleable__label fitted sk-toggleable__label-arrow fitted\">&nbsp;&nbsp;DecisionTreeClassifier<a class=\"sk-estimator-doc-link fitted\" rel=\"noreferrer\" target=\"_blank\" href=\"https://scikit-learn.org/1.5/modules/generated/sklearn.tree.DecisionTreeClassifier.html\">?<span>Documentation for DecisionTreeClassifier</span></a><span class=\"sk-estimator-doc-link fitted\">i<span>Fitted</span></span></label><div class=\"sk-toggleable__content fitted\"><pre>DecisionTreeClassifier()</pre></div> </div></div></div></div>"
      ]
     },
     "execution_count": 62,
     "metadata": {},
     "output_type": "execute_result"
    }
   ],
   "execution_count": 62
  },
  {
   "metadata": {
    "ExecuteTime": {
     "end_time": "2024-11-28T10:05:10.730739Z",
     "start_time": "2024-11-28T10:05:10.555680Z"
    }
   },
   "cell_type": "code",
   "source": [
    "from sklearn.tree import DecisionTreeClassifier, plot_tree\n",
    "import matplotlib.pyplot as plt\n",
    "\n",
    "plt.figure(figsize=(10, 6))\n",
    "plot_tree(model, filled=True)\n",
    "\n",
    "plt.show()"
   ],
   "id": "51adb3a55e3703ea",
   "outputs": [
    {
     "data": {
      "text/plain": [
       "<Figure size 1000x600 with 1 Axes>"
      ],
      "image/png": "[encoded data removed]"
     },
     "metadata": {},
     "output_type": "display_data"
    }
   ],
   "execution_count": 75
  },
  {
   "metadata": {
    "ExecuteTime": {
     "end_time": "2024-11-28T09:46:20.559714Z",
     "start_time": "2024-11-28T09:46:20.556020Z"
    }
   },
   "cell_type": "code",
   "source": "",
   "id": "dc481bbf80e8ddcf",
   "outputs": [],
   "execution_count": null
  },
  {
   "metadata": {},
   "cell_type": "code",
   "outputs": [],
   "execution_count": null,
   "source": "",
   "id": "d2d00a6b4efca952"
  }
 ],
 "metadata": {
  "kernelspec": {
   "display_name": "Python 3 (ipykernel)",
   "language": "python",
   "name": "python3"
  },
  "language_info": {
   "codemirror_mode": {
    "name": "ipython",
    "version": 3
   },
   "file_extension": ".py",
   "mimetype": "text/x-python",
   "name": "python",
   "nbconvert_exporter": "python",
   "pygments_lexer": "ipython3",
   "version": "3.9.6"
  },
  "colab": {
   "provenance": []
  }
 },
 "nbformat": 4,
 "nbformat_minor": 5
}
