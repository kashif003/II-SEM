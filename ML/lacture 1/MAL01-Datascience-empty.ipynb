{
 "cells": [
  {
   "cell_type": "markdown",
   "id": "5abc4177",
   "metadata": {},
   "source": [
    "# Machine Learning - Data Analysis Introduction"
   ]
  },
  {
   "cell_type": "markdown",
   "id": "b9612303",
   "metadata": {},
   "source": [
    "# Part 1"
   ]
  },
  {
   "cell_type": "markdown",
   "id": "bbccfbb6",
   "metadata": {},
   "source": [
    "## Get your Python environment running\n",
    "\n",
    "\n",
    "Familiarize yourself with the most important packages in the field of machine learning. Some others may follow, however, those are the ones you need every time: \n",
    "- numpy\n",
    "- pandas\n",
    "- matplotlib\n",
    "- scikit-learn\n",
    "\n",
    "Make sure you can import all of them in your notebook."
   ]
  },
  {
   "cell_type": "markdown",
   "id": "fe372569",
   "metadata": {},
   "source": [
    "## Warm-up Exercise\n",
    "- Write a function to sample a number N of datapoints in the p-dimensional union cube $[0;1]^p$ and sort the values according to the squared distance to the origin divided by the squared distance of the edge point most far away from the origin. \n",
    "\n",
    "- Execute the function for N=10000 and $p\\in [1,2,...20]$. \n",
    "- Plot the minimum distance over p."
   ]
  },
  {
   "cell_type": "code",
   "execution_count": null,
   "id": "b7ba61a9",
   "metadata": {},
   "outputs": [],
   "source": []
  },
  {
   "cell_type": "code",
   "execution_count": 2,
   "id": "f54361eb",
   "metadata": {
    "ExecuteTime": {
     "end_time": "2024-10-17T14:00:31.761385Z",
     "start_time": "2024-10-17T14:00:30.953341Z"
    }
   },
   "outputs": [],
   "source": [
    "import numpy as np \n",
    "import pandas as pd"
   ]
  },
  {
   "cell_type": "markdown",
   "id": "efd3fe11",
   "metadata": {},
   "source": [
    "## Data Processing\n",
    "\n",
    "The most useful Python library for data science is pandas: https://pandas.pydata.org/\n",
    "\n",
    "It provides two basic data structures, DataFrames and DataSeries.\n",
    "- DataSeries: one-dimensional data array of any type (one data column), labeled (column header)\n",
    "- DataFrame: two-dimensional data structure, multi-columns with headers (column titles)\n",
    "\n",
    "Pandas provides an easy way of working with data with state-of-the art machine learning. \n",
    "We typically use it for \n",
    "- descriptive statistics of the data \n",
    "- in connection with plot libraries like matplotlib or seaborn for data visualization (while pandas has some integrated visualization capabilitites)\n",
    "- data transformation \n",
    "- combination, split of datasets \n",
    "- ...\n",
    "\n",
    "\n",
    "__We will need these commands and skills throughout the lecture, so make sure that you familiarize with the pandas library.__\n",
    "\n",
    "To get fluent with pandas, carry out the following __exercises__. \n",
    "- Use the documentation and API reference of pandas to learn the basics about these functions.\n",
    "- These exercises guide you through a set of standard data science. \n",
    "\n"
   ]
  },
  {
   "cell_type": "markdown",
   "id": "dcb7e37c",
   "metadata": {},
   "source": [
    "# Data loading and easy transformations\n",
    "Load the following two datasets into a dataframe \n",
    "- iris.csv to dataframe named iris_df\n",
    "- decision-tree.txt to dataframe named tree_df\n"
   ]
  },
  {
   "cell_type": "code",
   "execution_count": 7,
   "id": "bacddc3c",
   "metadata": {},
   "outputs": [
    {
     "name": "stdout",
     "output_type": "stream",
     "text": [
      "Both the files have been loaded\n"
     ]
    },
    {
     "name": "stderr",
     "output_type": "stream",
     "text": [
      "<>:1: SyntaxWarning: invalid escape sequence '\\i'\n",
      "<>:2: SyntaxWarning: invalid escape sequence '\\d'\n",
      "<>:1: SyntaxWarning: invalid escape sequence '\\i'\n",
      "<>:2: SyntaxWarning: invalid escape sequence '\\d'\n",
      "C:\\Users\\kashi\\AppData\\Local\\Temp\\ipykernel_11396\\4112801055.py:1: SyntaxWarning: invalid escape sequence '\\i'\n",
      "  iris_data= pd.read_csv('Datasets-20241017\\iris.csv')\n",
      "C:\\Users\\kashi\\AppData\\Local\\Temp\\ipykernel_11396\\4112801055.py:2: SyntaxWarning: invalid escape sequence '\\d'\n",
      "  tree_data=pd.read_table('Datasets-20241017\\decision-tree.txt')\n"
     ]
    }
   ],
   "source": [
    "iris_data= pd.read_csv('Datasets-20241017\\iris.csv')\n",
    "tree_data=pd.read_table('Datasets-20241017\\decision-tree.txt')\n",
    "print(f'Both the files have been loaded')"
   ]
  },
  {
   "cell_type": "markdown",
   "id": "6c5f216c",
   "metadata": {},
   "source": [
    "For iris_df do the following\n",
    "- Look at the dataframe.\n",
    "- Get the column names.\n",
    "- Rename the columns such that all names are written in UPPERCASE.\n",
    "- Get a simple statistic for the data. \n",
    "- Generate a one-hot encoding for the class values"
   ]
  },
  {
   "cell_type": "markdown",
   "id": "c41e27ff",
   "metadata": {},
   "source": [
    "## Data joins \n",
    "\n",
    "Load the individual datasets iris1, iris2, iris3, iris4, iris5. Join them appropriately into one dataframe taking into account column names and indices.\n",
    "\n",
    "Check that your joined dataframe corresponds to iris_df."
   ]
  },
  {
   "cell_type": "code",
   "execution_count": 8,
   "id": "67708626",
   "metadata": {},
   "outputs": [
    {
     "data": {
      "text/html": [
       "<div>\n",
       "<style scoped>\n",
       "    .dataframe tbody tr th:only-of-type {\n",
       "        vertical-align: middle;\n",
       "    }\n",
       "\n",
       "    .dataframe tbody tr th {\n",
       "        vertical-align: top;\n",
       "    }\n",
       "\n",
       "    .dataframe thead th {\n",
       "        text-align: right;\n",
       "    }\n",
       "</style>\n",
       "<table border=\"1\" class=\"dataframe\">\n",
       "  <thead>\n",
       "    <tr style=\"text-align: right;\">\n",
       "      <th></th>\n",
       "      <th>sepal length</th>\n",
       "      <th>sepal width</th>\n",
       "      <th>petal length</th>\n",
       "      <th>petal width</th>\n",
       "      <th>class</th>\n",
       "    </tr>\n",
       "  </thead>\n",
       "  <tbody>\n",
       "    <tr>\n",
       "      <th>0</th>\n",
       "      <td>5.1</td>\n",
       "      <td>3.5</td>\n",
       "      <td>1.4</td>\n",
       "      <td>0.2</td>\n",
       "      <td>Iris-setosa</td>\n",
       "    </tr>\n",
       "    <tr>\n",
       "      <th>1</th>\n",
       "      <td>4.9</td>\n",
       "      <td>3.0</td>\n",
       "      <td>1.4</td>\n",
       "      <td>0.2</td>\n",
       "      <td>Iris-setosa</td>\n",
       "    </tr>\n",
       "    <tr>\n",
       "      <th>2</th>\n",
       "      <td>4.7</td>\n",
       "      <td>3.2</td>\n",
       "      <td>1.3</td>\n",
       "      <td>0.2</td>\n",
       "      <td>Iris-setosa</td>\n",
       "    </tr>\n",
       "    <tr>\n",
       "      <th>3</th>\n",
       "      <td>4.6</td>\n",
       "      <td>3.1</td>\n",
       "      <td>1.5</td>\n",
       "      <td>0.2</td>\n",
       "      <td>Iris-setosa</td>\n",
       "    </tr>\n",
       "    <tr>\n",
       "      <th>4</th>\n",
       "      <td>5.0</td>\n",
       "      <td>3.6</td>\n",
       "      <td>1.4</td>\n",
       "      <td>0.2</td>\n",
       "      <td>Iris-setosa</td>\n",
       "    </tr>\n",
       "  </tbody>\n",
       "</table>\n",
       "</div>"
      ],
      "text/plain": [
       "   sepal length  sepal width  petal length  petal width        class\n",
       "0           5.1          3.5           1.4          0.2  Iris-setosa\n",
       "1           4.9          3.0           1.4          0.2  Iris-setosa\n",
       "2           4.7          3.2           1.3          0.2  Iris-setosa\n",
       "3           4.6          3.1           1.5          0.2  Iris-setosa\n",
       "4           5.0          3.6           1.4          0.2  Iris-setosa"
      ]
     },
     "execution_count": 8,
     "metadata": {},
     "output_type": "execute_result"
    }
   ],
   "source": [
    "iris_data.head()"
   ]
  },
  {
   "cell_type": "code",
   "execution_count": 9,
   "id": "90335508",
   "metadata": {},
   "outputs": [
    {
     "data": {
      "text/plain": [
       "Index(['sepal length', 'sepal width', 'petal length', 'petal width', 'class'], dtype='object')"
      ]
     },
     "execution_count": 9,
     "metadata": {},
     "output_type": "execute_result"
    }
   ],
   "source": [
    "iris_data.columns"
   ]
  },
  {
   "cell_type": "code",
   "execution_count": 11,
   "id": "e2057129",
   "metadata": {},
   "outputs": [
    {
     "name": "stdout",
     "output_type": "stream",
     "text": [
      "   SEPAL LENGTH  SEPAL WIDTH  PETAL LENGTH  PETAL WIDTH        CLASS\n",
      "0           5.1          3.5           1.4          0.2  Iris-setosa\n",
      "1           4.9          3.0           1.4          0.2  Iris-setosa\n",
      "2           4.7          3.2           1.3          0.2  Iris-setosa\n",
      "3           4.6          3.1           1.5          0.2  Iris-setosa\n",
      "4           5.0          3.6           1.4          0.2  Iris-setosa\n"
     ]
    }
   ],
   "source": [
    "iris_data.columns=[i.upper() for i in iris_data.columns]\n",
    "print(iris_data.head())"
   ]
  },
  {
   "cell_type": "code",
   "execution_count": 14,
   "id": "a6630aca",
   "metadata": {},
   "outputs": [
    {
     "data": {
      "text/html": [
       "<div>\n",
       "<style scoped>\n",
       "    .dataframe tbody tr th:only-of-type {\n",
       "        vertical-align: middle;\n",
       "    }\n",
       "\n",
       "    .dataframe tbody tr th {\n",
       "        vertical-align: top;\n",
       "    }\n",
       "\n",
       "    .dataframe thead th {\n",
       "        text-align: right;\n",
       "    }\n",
       "</style>\n",
       "<table border=\"1\" class=\"dataframe\">\n",
       "  <thead>\n",
       "    <tr style=\"text-align: right;\">\n",
       "      <th></th>\n",
       "      <th>SEPAL LENGTH</th>\n",
       "      <th>SEPAL WIDTH</th>\n",
       "      <th>PETAL LENGTH</th>\n",
       "      <th>PETAL WIDTH</th>\n",
       "    </tr>\n",
       "  </thead>\n",
       "  <tbody>\n",
       "    <tr>\n",
       "      <th>count</th>\n",
       "      <td>150.000000</td>\n",
       "      <td>150.000000</td>\n",
       "      <td>150.000000</td>\n",
       "      <td>150.000000</td>\n",
       "    </tr>\n",
       "    <tr>\n",
       "      <th>mean</th>\n",
       "      <td>5.843333</td>\n",
       "      <td>3.054000</td>\n",
       "      <td>3.758667</td>\n",
       "      <td>1.198667</td>\n",
       "    </tr>\n",
       "    <tr>\n",
       "      <th>std</th>\n",
       "      <td>0.828066</td>\n",
       "      <td>0.433594</td>\n",
       "      <td>1.764420</td>\n",
       "      <td>0.763161</td>\n",
       "    </tr>\n",
       "    <tr>\n",
       "      <th>min</th>\n",
       "      <td>4.300000</td>\n",
       "      <td>2.000000</td>\n",
       "      <td>1.000000</td>\n",
       "      <td>0.100000</td>\n",
       "    </tr>\n",
       "    <tr>\n",
       "      <th>25%</th>\n",
       "      <td>5.100000</td>\n",
       "      <td>2.800000</td>\n",
       "      <td>1.600000</td>\n",
       "      <td>0.300000</td>\n",
       "    </tr>\n",
       "    <tr>\n",
       "      <th>50%</th>\n",
       "      <td>5.800000</td>\n",
       "      <td>3.000000</td>\n",
       "      <td>4.350000</td>\n",
       "      <td>1.300000</td>\n",
       "    </tr>\n",
       "    <tr>\n",
       "      <th>75%</th>\n",
       "      <td>6.400000</td>\n",
       "      <td>3.300000</td>\n",
       "      <td>5.100000</td>\n",
       "      <td>1.800000</td>\n",
       "    </tr>\n",
       "    <tr>\n",
       "      <th>max</th>\n",
       "      <td>7.900000</td>\n",
       "      <td>4.400000</td>\n",
       "      <td>6.900000</td>\n",
       "      <td>2.500000</td>\n",
       "    </tr>\n",
       "  </tbody>\n",
       "</table>\n",
       "</div>"
      ],
      "text/plain": [
       "       SEPAL LENGTH  SEPAL WIDTH  PETAL LENGTH  PETAL WIDTH\n",
       "count    150.000000   150.000000    150.000000   150.000000\n",
       "mean       5.843333     3.054000      3.758667     1.198667\n",
       "std        0.828066     0.433594      1.764420     0.763161\n",
       "min        4.300000     2.000000      1.000000     0.100000\n",
       "25%        5.100000     2.800000      1.600000     0.300000\n",
       "50%        5.800000     3.000000      4.350000     1.300000\n",
       "75%        6.400000     3.300000      5.100000     1.800000\n",
       "max        7.900000     4.400000      6.900000     2.500000"
      ]
     },
     "execution_count": 14,
     "metadata": {},
     "output_type": "execute_result"
    }
   ],
   "source": [
    "iris_data.describe()\n"
   ]
  },
  {
   "cell_type": "code",
   "execution_count": 17,
   "id": "c3348343",
   "metadata": {},
   "outputs": [
    {
     "data": {
      "text/html": [
       "<div>\n",
       "<style scoped>\n",
       "    .dataframe tbody tr th:only-of-type {\n",
       "        vertical-align: middle;\n",
       "    }\n",
       "\n",
       "    .dataframe tbody tr th {\n",
       "        vertical-align: top;\n",
       "    }\n",
       "\n",
       "    .dataframe thead th {\n",
       "        text-align: right;\n",
       "    }\n",
       "</style>\n",
       "<table border=\"1\" class=\"dataframe\">\n",
       "  <thead>\n",
       "    <tr style=\"text-align: right;\">\n",
       "      <th></th>\n",
       "      <th>SEPAL LENGTH</th>\n",
       "      <th>SEPAL WIDTH</th>\n",
       "      <th>PETAL LENGTH</th>\n",
       "      <th>PETAL WIDTH</th>\n",
       "      <th>CLASS_Iris-setosa</th>\n",
       "      <th>CLASS_Iris-versicolor</th>\n",
       "      <th>CLASS_Iris-virginica</th>\n",
       "    </tr>\n",
       "  </thead>\n",
       "  <tbody>\n",
       "    <tr>\n",
       "      <th>0</th>\n",
       "      <td>5.1</td>\n",
       "      <td>3.5</td>\n",
       "      <td>1.4</td>\n",
       "      <td>0.2</td>\n",
       "      <td>True</td>\n",
       "      <td>False</td>\n",
       "      <td>False</td>\n",
       "    </tr>\n",
       "    <tr>\n",
       "      <th>1</th>\n",
       "      <td>4.9</td>\n",
       "      <td>3.0</td>\n",
       "      <td>1.4</td>\n",
       "      <td>0.2</td>\n",
       "      <td>True</td>\n",
       "      <td>False</td>\n",
       "      <td>False</td>\n",
       "    </tr>\n",
       "    <tr>\n",
       "      <th>2</th>\n",
       "      <td>4.7</td>\n",
       "      <td>3.2</td>\n",
       "      <td>1.3</td>\n",
       "      <td>0.2</td>\n",
       "      <td>True</td>\n",
       "      <td>False</td>\n",
       "      <td>False</td>\n",
       "    </tr>\n",
       "    <tr>\n",
       "      <th>3</th>\n",
       "      <td>4.6</td>\n",
       "      <td>3.1</td>\n",
       "      <td>1.5</td>\n",
       "      <td>0.2</td>\n",
       "      <td>True</td>\n",
       "      <td>False</td>\n",
       "      <td>False</td>\n",
       "    </tr>\n",
       "    <tr>\n",
       "      <th>4</th>\n",
       "      <td>5.0</td>\n",
       "      <td>3.6</td>\n",
       "      <td>1.4</td>\n",
       "      <td>0.2</td>\n",
       "      <td>True</td>\n",
       "      <td>False</td>\n",
       "      <td>False</td>\n",
       "    </tr>\n",
       "    <tr>\n",
       "      <th>...</th>\n",
       "      <td>...</td>\n",
       "      <td>...</td>\n",
       "      <td>...</td>\n",
       "      <td>...</td>\n",
       "      <td>...</td>\n",
       "      <td>...</td>\n",
       "      <td>...</td>\n",
       "    </tr>\n",
       "    <tr>\n",
       "      <th>145</th>\n",
       "      <td>6.7</td>\n",
       "      <td>3.0</td>\n",
       "      <td>5.2</td>\n",
       "      <td>2.3</td>\n",
       "      <td>False</td>\n",
       "      <td>False</td>\n",
       "      <td>True</td>\n",
       "    </tr>\n",
       "    <tr>\n",
       "      <th>146</th>\n",
       "      <td>6.3</td>\n",
       "      <td>2.5</td>\n",
       "      <td>5.0</td>\n",
       "      <td>1.9</td>\n",
       "      <td>False</td>\n",
       "      <td>False</td>\n",
       "      <td>True</td>\n",
       "    </tr>\n",
       "    <tr>\n",
       "      <th>147</th>\n",
       "      <td>6.5</td>\n",
       "      <td>3.0</td>\n",
       "      <td>5.2</td>\n",
       "      <td>2.0</td>\n",
       "      <td>False</td>\n",
       "      <td>False</td>\n",
       "      <td>True</td>\n",
       "    </tr>\n",
       "    <tr>\n",
       "      <th>148</th>\n",
       "      <td>6.2</td>\n",
       "      <td>3.4</td>\n",
       "      <td>5.4</td>\n",
       "      <td>2.3</td>\n",
       "      <td>False</td>\n",
       "      <td>False</td>\n",
       "      <td>True</td>\n",
       "    </tr>\n",
       "    <tr>\n",
       "      <th>149</th>\n",
       "      <td>5.9</td>\n",
       "      <td>3.0</td>\n",
       "      <td>5.1</td>\n",
       "      <td>1.8</td>\n",
       "      <td>False</td>\n",
       "      <td>False</td>\n",
       "      <td>True</td>\n",
       "    </tr>\n",
       "  </tbody>\n",
       "</table>\n",
       "<p>150 rows × 7 columns</p>\n",
       "</div>"
      ],
      "text/plain": [
       "     SEPAL LENGTH  SEPAL WIDTH  PETAL LENGTH  PETAL WIDTH  CLASS_Iris-setosa  \\\n",
       "0             5.1          3.5           1.4          0.2               True   \n",
       "1             4.9          3.0           1.4          0.2               True   \n",
       "2             4.7          3.2           1.3          0.2               True   \n",
       "3             4.6          3.1           1.5          0.2               True   \n",
       "4             5.0          3.6           1.4          0.2               True   \n",
       "..            ...          ...           ...          ...                ...   \n",
       "145           6.7          3.0           5.2          2.3              False   \n",
       "146           6.3          2.5           5.0          1.9              False   \n",
       "147           6.5          3.0           5.2          2.0              False   \n",
       "148           6.2          3.4           5.4          2.3              False   \n",
       "149           5.9          3.0           5.1          1.8              False   \n",
       "\n",
       "     CLASS_Iris-versicolor  CLASS_Iris-virginica  \n",
       "0                    False                 False  \n",
       "1                    False                 False  \n",
       "2                    False                 False  \n",
       "3                    False                 False  \n",
       "4                    False                 False  \n",
       "..                     ...                   ...  \n",
       "145                  False                  True  \n",
       "146                  False                  True  \n",
       "147                  False                  True  \n",
       "148                  False                  True  \n",
       "149                  False                  True  \n",
       "\n",
       "[150 rows x 7 columns]"
      ]
     },
     "execution_count": 17,
     "metadata": {},
     "output_type": "execute_result"
    }
   ],
   "source": [
    "pd.get_dummies(iris_data, columns=['CLASS'])"
   ]
  },
  {
   "cell_type": "markdown",
   "id": "80608c04",
   "metadata": {},
   "source": [
    "# Part 2"
   ]
  },
  {
   "cell_type": "markdown",
   "id": "f7708681",
   "metadata": {},
   "source": [
    "## Elementary data analysis and visualization of the Iris dataset\n",
    "\n",
    "How is each of the quanties sepal / petal length / width distributed?\n",
    "- Compute statistical quantities like mean, standard deviation.\n",
    "- Are there any values far from the average?\n",
    "- Visualize the data distribution by appropriate histogram plots. \n",
    "    - Use matplotlib.pyplot.hist()\n",
    "    - Familiarize with the hist() method and its parameters\n",
    "    - Try at least the following two strategies for the bins parameter: define appropriate binning yourself and at least one pre-defined strategy (e.g. 'auto'). \n",
    "    - See the documentation of matplotlib to understand how hist() works. \n",
    "\n"
   ]
  },
  {
   "cell_type": "code",
   "execution_count": 27,
   "id": "eb423cbd",
   "metadata": {},
   "outputs": [
    {
     "name": "stdout",
     "output_type": "stream",
     "text": [
      "The mean of sepal lenght :5.84\n",
      "The mean of sepan width :3.05\n",
      " \n",
      "The mean of petal lenght :3.76\n",
      "The mean of petal width :1.20\n",
      "\n",
      " \n",
      "The standard deviation of sepal lenght :0.83\n",
      "The standard deviation of sepan width :0.43\n",
      " \n",
      "The standard deviation of petal lenght :1.76\n",
      "The standard deviation of petal width :0.76 \n"
     ]
    }
   ],
   "source": [
    "# MEAN  \n",
    "print(f'The mean of sepal lenght :{iris_data['SEPAL LENGTH'].mean().item():.2f}\\nThe mean of sepan width :{iris_data['SEPAL WIDTH'].mean().item():.2f}\\n ')\n",
    "print(f'The mean of petal lenght :{iris_data['PETAL LENGTH'].mean().item():.2f}\\nThe mean of petal width :{iris_data['PETAL WIDTH'].mean().item():.2f}\\n\\n ')\n",
    "\n",
    "# STANDARD DEVIATION\n",
    "print(f'The standard deviation of sepal lenght :{iris_data['SEPAL LENGTH'].std().item():.2f}\\nThe standard deviation of sepan width :{iris_data['SEPAL WIDTH'].std().item():.2f}\\n ')\n",
    "print(f'The standard deviation of petal lenght :{iris_data['PETAL LENGTH'].std().item():.2f}\\nThe standard deviation of petal width :{iris_data['PETAL WIDTH'].std().item():.2f} ')\n"
   ]
  },
  {
   "cell_type": "code",
   "execution_count": null,
   "id": "8194d8fe",
   "metadata": {},
   "outputs": [],
   "source": [
    "# values far for mean\n"
   ]
  },
  {
   "cell_type": "code",
   "execution_count": null,
   "id": "842c11ec",
   "metadata": {},
   "outputs": [],
   "source": []
  },
  {
   "cell_type": "code",
   "execution_count": null,
   "id": "3a40f070",
   "metadata": {},
   "outputs": [],
   "source": []
  }
 ],
 "metadata": {
  "kernelspec": {
   "display_name": "Python 3",
   "language": "python",
   "name": "python3"
  },
  "language_info": {
   "codemirror_mode": {
    "name": "ipython",
    "version": 3
   },
   "file_extension": ".py",
   "mimetype": "text/x-python",
   "name": "python",
   "nbconvert_exporter": "python",
   "pygments_lexer": "ipython3",
   "version": "3.12.4"
  }
 },
 "nbformat": 4,
 "nbformat_minor": 5
}
