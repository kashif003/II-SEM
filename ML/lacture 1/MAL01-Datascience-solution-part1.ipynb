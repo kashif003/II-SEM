{
 "cells": [
  {
   "cell_type": "markdown",
   "id": "5abc4177",
   "metadata": {},
   "source": [
    "# Machine Learning - Data Analysis Introduction"
   ]
  },
  {
   "cell_type": "markdown",
   "id": "bbccfbb6",
   "metadata": {},
   "source": [
    "## Get your Python environment running\n",
    "\n",
    "\n",
    "Familiarize yourself with the most important packages in the field of machine learning. Some others may follow, however, those are the ones you need every time: \n",
    "- numpy\n",
    "- pandas\n",
    "- matplotlib\n",
    "- scikit-learn\n",
    "\n",
    "Make sure you can import all of them in your notebook."
   ]
  },
  {
   "cell_type": "markdown",
   "id": "fe372569",
   "metadata": {},
   "source": [
    "## Warm-up Exercise\n",
    "- Write a function to sample a number N of datapoints in the p-dimensional union cube $[0;1]^p$ and sort the values according to the squared distance to the origin divided by the squared distance of the edge point most far away from the origin. \n",
    "\n",
    "- Execute the function for N=10000 and $p\\in [1,2,...20]$. \n",
    "- Plot the minimum distance over p."
   ]
  },
  {
   "cell_type": "code",
   "execution_count": 1,
   "id": "f54361eb",
   "metadata": {},
   "outputs": [],
   "source": [
    "import numpy as np \n",
    "import pandas as pd"
   ]
  },
  {
   "cell_type": "code",
   "execution_count": 2,
   "id": "6dbc385b",
   "metadata": {},
   "outputs": [],
   "source": [
    "# sample a point in p dimensions and find the closest point to 0. Determine y = exp(...) as above\n",
    "\n",
    "def point_distance(N, p):\n",
    "    data = np.random.rand(N, p)\n",
    "    return np.min(np.sum(data**2, axis=1))/p\n",
    "\n",
    "\n"
   ]
  },
  {
   "cell_type": "code",
   "execution_count": 3,
   "id": "0e5af507",
   "metadata": {},
   "outputs": [
    {
     "name": "stdout",
     "output_type": "stream",
     "text": [
      "1\n",
      "2\n",
      "3\n",
      "4\n",
      "5\n",
      "6\n",
      "7\n",
      "8\n",
      "9\n",
      "10\n",
      "11\n",
      "12\n",
      "13\n",
      "14\n",
      "15\n",
      "16\n",
      "17\n",
      "18\n",
      "19\n",
      "20\n"
     ]
    }
   ],
   "source": [
    "dimensions = np.arange(1,21)\n",
    "result = []\n",
    "for p in dimensions:\n",
    "    print (p)\n",
    "    result.append(point_distance(10000, p))"
   ]
  },
  {
   "cell_type": "code",
   "execution_count": 4,
   "id": "527a4268",
   "metadata": {},
   "outputs": [
    {
     "data": {
      "text/plain": [
       "Text(0, 0.5, 'distance')"
      ]
     },
     "execution_count": 4,
     "metadata": {},
     "output_type": "execute_result"
    },
    {
     "data": {
      "image/png": "[encoded data removed]",
      "text/plain": [
       "<Figure size 640x480 with 1 Axes>"
      ]
     },
     "metadata": {},
     "output_type": "display_data"
    }
   ],
   "source": [
    "import matplotlib.pyplot as plt\n",
    "\n",
    "plt.plot(dimensions, result, 'b*')\n",
    "plt.xlabel(\"dimension\")\n",
    "plt.ylabel(\"distance\")"
   ]
  },
  {
   "cell_type": "markdown",
   "id": "efd3fe11",
   "metadata": {},
   "source": [
    "## Data Processing\n",
    "\n",
    "The most useful Python library for data science is pandas: https://pandas.pydata.org/\n",
    "\n",
    "It provides two basic data structures, DataFrames and DataSeries.\n",
    "- DataSeries: one-dimensional data array of any type (one data column), labeled (column header)\n",
    "- DataFrame: two-dimensional data structure, multi-columns with headers (column titles)\n",
    "\n",
    "Pandas provides an easy way of working with data with state-of-the art machine learning. \n",
    "We typically use it for \n",
    "- descriptive statistics of the data \n",
    "- in connection with plot libraries like matplotlib or seaborn for data visualization (while pandas has some integrated visualization capabilitites)\n",
    "- data transformation \n",
    "- combination, split of datasets \n",
    "- ...\n",
    "\n",
    "\n",
    "__We will need these commands and skills throughout the lecture, so make sure that you familiarize with the pandas library.__\n",
    "\n",
    "To get fluent with pandas, carry out the following __exercises__. \n",
    "- Use the documentation and API reference of pandas to learn the basics about these functions.\n",
    "- These exercises guide you through a set of standard data science. \n",
    "\n"
   ]
  },
  {
   "cell_type": "markdown",
   "id": "dcb7e37c",
   "metadata": {},
   "source": [
    "# Data loading and easy transformations\n",
    "Load the following two datasets into a dataframe \n",
    "- iris.csv to dataframe named iris_df\n",
    "- decision-tree.txt to dataframe named tree_df\n"
   ]
  },
  {
   "cell_type": "code",
   "execution_count": 5,
   "id": "dc43daad",
   "metadata": {},
   "outputs": [],
   "source": [
    "# iris\n",
    "iris_df = pd.read_csv(\"iris.csv\")"
   ]
  },
  {
   "cell_type": "code",
   "execution_count": 6,
   "id": "03b087fb",
   "metadata": {},
   "outputs": [],
   "source": [
    "# for decision-tree.txt\n",
    "tree_df = pd.read_csv(\"decision-tree.txt\", sep='|', header=None)\n"
   ]
  },
  {
   "cell_type": "markdown",
   "id": "6c5f216c",
   "metadata": {},
   "source": [
    "For iris_df do the following\n",
    "- Look at the dataframe.\n",
    "- Get the column names.\n",
    "- Rename the columns such that all names are written in UPPERCASE.\n",
    "- Get a simple statistic for the data. \n",
    "- Generate a one-hot encoding for the class values"
   ]
  },
  {
   "cell_type": "markdown",
   "id": "651227e3",
   "metadata": {},
   "source": [
    "## Data joins \n",
    "\n",
    "\n",
    "Check that your joined dataframe corresponds to iris_df."
   ]
  },
  {
   "cell_type": "code",
   "execution_count": null,
   "id": "1a33deb7",
   "metadata": {},
   "outputs": [],
   "source": [
    "iris11 = pd.read_csv(\"iris1.csv\")\n",
    "iris12 = pd.read_csv(\"iris2.csv\")\n",
    "iris21 = pd.read_csv(\"iris3.csv\")\n",
    "iris22 = pd.read_csv(\"iris4.csv\")\n",
    "iris3 = pd.read_csv(\"iris5.csv\")"
   ]
  },
  {
   "cell_type": "code",
   "execution_count": 7,
   "id": "768ee334",
   "metadata": {},
   "outputs": [
    {
     "ename": "NameError",
     "evalue": "name 'iris11' is not defined",
     "output_type": "error",
     "traceback": [
      "\u001B[0;31m---------------------------------------------------------------------------\u001B[0m",
      "\u001B[0;31mNameError\u001B[0m                                 Traceback (most recent call last)",
      "Cell \u001B[0;32mIn[7], line 1\u001B[0m\n\u001B[0;32m----> 1\u001B[0m test_1 \u001B[38;5;241m=\u001B[39m pd\u001B[38;5;241m.\u001B[39mconcat([\u001B[43miris11\u001B[49m, iris12])\n\u001B[1;32m      2\u001B[0m test_2 \u001B[38;5;241m=\u001B[39m pd\u001B[38;5;241m.\u001B[39mconcat([iris21, iris22])\n",
      "\u001B[0;31mNameError\u001B[0m: name 'iris11' is not defined"
     ]
    }
   ],
   "source": [
    "\n",
    "test_1 = pd.concat([iris11, iris12])\n",
    "test_2 = pd.concat([iris21, iris22])\n"
   ]
  },
  {
   "cell_type": "code",
   "execution_count": null,
   "id": "6ec6958a",
   "metadata": {},
   "outputs": [],
   "source": [
    "print (test_1.head())\n",
    "print()\n",
    "print(test_2.head())"
   ]
  },
  {
   "cell_type": "code",
   "execution_count": null,
   "id": "47ac7113",
   "metadata": {},
   "outputs": [],
   "source": [
    "test = pd.merge(test_1, test_2, how=\"outer\", on=None, sort=True, left_index=True, right_index=True)\n",
    "test = test.drop(columns=[\"sepal length_x\"])\n",
    "\n",
    "newcols = []\n",
    "for i,c in enumerate(test.columns):\n",
    "    if c == \"sepal length_y\":\n",
    "        newcols.append(\"sepal length\")\n",
    "    else:\n",
    "        newcols.append(c)\n",
    "test.columns = newcols"
   ]
  },
  {
   "cell_type": "code",
   "execution_count": null,
   "id": "ab1d0b3d",
   "metadata": {},
   "outputs": [],
   "source": [
    "iris3"
   ]
  },
  {
   "cell_type": "code",
   "execution_count": null,
   "id": "e6166b28",
   "metadata": {},
   "outputs": [],
   "source": [
    "test = pd.merge(test, iris3, left_index=True, right_index=True)\n",
    "print (test.head())\n",
    "\n"
   ]
  },
  {
   "cell_type": "code",
   "execution_count": null,
   "id": "dd9e3c25",
   "metadata": {},
   "outputs": [],
   "source": [
    "iris_df.head()"
   ]
  },
  {
   "cell_type": "code",
   "execution_count": null,
   "id": "22ddacfd",
   "metadata": {},
   "outputs": [],
   "source": [
    "final_merge = test[list(iris_df.columns)]"
   ]
  },
  {
   "cell_type": "code",
   "execution_count": null,
   "id": "ee77685c",
   "metadata": {},
   "outputs": [],
   "source": [
    "final_merge.values == iris_df.values"
   ]
  },
  {
   "cell_type": "code",
   "execution_count": null,
   "id": "3248803a",
   "metadata": {},
   "outputs": [],
   "source": [
    "np.all(final_merge.values == iris_df.values)"
   ]
  },
  {
   "cell_type": "code",
   "execution_count": null,
   "id": "67708626",
   "metadata": {},
   "outputs": [],
   "source": [
    "pd.get_dummies(iris_df, columns=['class'])"
   ]
  },
  {
   "cell_type": "code",
   "execution_count": null,
   "id": "2f63cc59",
   "metadata": {},
   "outputs": [],
   "source": [
    "iris_df=pd.get_dummies(iris_df, columns=['class'], dtype=int)"
   ]
  },
  {
   "cell_type": "code",
   "execution_count": null,
   "id": "465b35ad",
   "metadata": {},
   "outputs": [],
   "source": [
    "pd.get_dummies(iris_df, columns=['class'], dtype=int, drop_first=True)"
   ]
  },
  {
   "cell_type": "code",
   "execution_count": null,
   "id": "93021cce",
   "metadata": {},
   "outputs": [],
   "source": [
    "iris_df"
   ]
  },
  {
   "cell_type": "code",
   "execution_count": null,
   "id": "ba291851",
   "metadata": {},
   "outputs": [],
   "source": [
    "iris_df.describe()"
   ]
  },
  {
   "cell_type": "code",
   "execution_count": null,
   "id": "dcfa5791",
   "metadata": {},
   "outputs": [],
   "source": []
  }
 ],
 "metadata": {
  "kernelspec": {
   "display_name": "Python 3 (ipykernel)",
   "language": "python",
   "name": "python3"
  },
  "language_info": {
   "codemirror_mode": {
    "name": "ipython",
    "version": 3
   },
   "file_extension": ".py",
   "mimetype": "text/x-python",
   "name": "python",
   "nbconvert_exporter": "python",
   "pygments_lexer": "ipython3",
   "version": "3.9.6"
  }
 },
 "nbformat": 4,
 "nbformat_minor": 5
}
