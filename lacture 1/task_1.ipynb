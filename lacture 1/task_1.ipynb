{
 "cells": [
  {
   "metadata": {},
   "cell_type": "markdown",
   "source": "### task 1",
   "id": "e6c13a00c573e330"
  },
  {
   "metadata": {
    "ExecuteTime": {
     "end_time": "2024-10-07T18:20:31.120285Z",
     "start_time": "2024-10-07T18:20:31.031875Z"
    }
   },
   "cell_type": "code",
   "source": [
    "import requests\n",
    "from bs4 import BeautifulSoup"
   ],
   "id": "78a1aaff326192fd",
   "outputs": [],
   "execution_count": 2
  },
  {
   "metadata": {
    "ExecuteTime": {
     "end_time": "2024-10-07T19:04:14.398791Z",
     "start_time": "2024-10-07T19:04:14.390583Z"
    }
   },
   "cell_type": "code",
   "source": [
    "def crawl(url: str, links: bool):\n",
    "    res = requests.get(url)\n",
    "    if res.status_code == 200:\n",
    "        soup = BeautifulSoup(res.text)\n",
    "        if not links:\n",
    "            text = soup.get_text()\n",
    "            return text\n",
    "        else:\n",
    "            links = []\n",
    "            for link in soup.find_all('a', href=True):  # gets the links only\n",
    "                links.append(link)\n",
    "            return links\n",
    "    else:\n",
    "        print(res)"
   ],
   "id": "34986b68150544fc",
   "outputs": [],
   "execution_count": 54
  },
  {
   "metadata": {
    "ExecuteTime": {
     "end_time": "2024-10-07T19:04:16.504116Z",
     "start_time": "2024-10-07T19:04:16.500619Z"
    }
   },
   "cell_type": "code",
   "source": "url = 'https://quotes.toscrape.com/'",
   "id": "e0919b3688e26214",
   "outputs": [],
   "execution_count": 55
  },
  {
   "metadata": {
    "ExecuteTime": {
     "end_time": "2024-10-07T19:04:24.079071Z",
     "start_time": "2024-10-07T19:04:23.580687Z"
    }
   },
   "cell_type": "code",
   "source": "crawl(url, False)",
   "id": "dc8568bc9c12ee61",
   "outputs": [
    {
     "data": {
      "text/plain": [
       "\"\\n\\n\\n\\nQuotes to Scrape\\n\\n\\n\\n\\n\\n\\n\\n\\nQuotes to Scrape\\n\\n\\n\\n\\nLogin\\n\\n\\n\\n\\n\\n\\n“The world as we have created it is a process of our thinking. It cannot be changed without changing our thinking.”\\nby Albert Einstein\\n(about)\\n\\n\\n            Tags:\\n            \\nchange\\ndeep-thoughts\\nthinking\\nworld\\n\\n\\n\\n“It is our choices, Harry, that show what we truly are, far more than our abilities.”\\nby J.K. Rowling\\n(about)\\n\\n\\n            Tags:\\n            \\nabilities\\nchoices\\n\\n\\n\\n“There are only two ways to live your life. One is as though nothing is a miracle. The other is as though everything is a miracle.”\\nby Albert Einstein\\n(about)\\n\\n\\n            Tags:\\n            \\ninspirational\\nlife\\nlive\\nmiracle\\nmiracles\\n\\n\\n\\n“The person, be it gentleman or lady, who has not pleasure in a good novel, must be intolerably stupid.”\\nby Jane Austen\\n(about)\\n\\n\\n            Tags:\\n            \\naliteracy\\nbooks\\nclassic\\nhumor\\n\\n\\n\\n“Imperfection is beauty, madness is genius and it's better to be absolutely ridiculous than absolutely boring.”\\nby Marilyn Monroe\\n(about)\\n\\n\\n            Tags:\\n            \\nbe-yourself\\ninspirational\\n\\n\\n\\n“Try not to become a man of success. Rather become a man of value.”\\nby Albert Einstein\\n(about)\\n\\n\\n            Tags:\\n            \\nadulthood\\nsuccess\\nvalue\\n\\n\\n\\n“It is better to be hated for what you are than to be loved for what you are not.”\\nby André Gide\\n(about)\\n\\n\\n            Tags:\\n            \\nlife\\nlove\\n\\n\\n\\n“I have not failed. I've just found 10,000 ways that won't work.”\\nby Thomas A. Edison\\n(about)\\n\\n\\n            Tags:\\n            \\nedison\\nfailure\\ninspirational\\nparaphrased\\n\\n\\n\\n“A woman is like a tea bag; you never know how strong it is until it's in hot water.”\\nby Eleanor Roosevelt\\n(about)\\n\\n\\n            Tags:\\n            \\nmisattributed-eleanor-roosevelt\\n\\n\\n\\n“A day without sunshine is like, you know, night.”\\nby Steve Martin\\n(about)\\n\\n\\n            Tags:\\n            \\nhumor\\nobvious\\nsimile\\n\\n\\n\\n\\n\\nNext →\\n\\n\\n\\n\\n\\nTop Ten tags\\n\\nlove\\n\\n\\ninspirational\\n\\n\\nlife\\n\\n\\nhumor\\n\\n\\nbooks\\n\\n\\nreading\\n\\n\\nfriendship\\n\\n\\nfriends\\n\\n\\ntruth\\n\\n\\nsimile\\n\\n\\n\\n\\n\\n\\n\\n                Quotes by: GoodReads.com\\n\\n\\n                Made with ❤ by Zyte\\n\\n\\n\\n\\n\""
      ]
     },
     "execution_count": 57,
     "metadata": {},
     "output_type": "execute_result"
    }
   ],
   "execution_count": 57
  },
  {
   "metadata": {},
   "cell_type": "markdown",
   "source": "",
   "id": "b7c8df91dec12bf5"
  },
  {
   "metadata": {},
   "cell_type": "markdown",
   "source": "### task 2",
   "id": "6dbc5faeb3cf5b88"
  },
  {
   "metadata": {},
   "cell_type": "markdown",
   "source": " used method: https://pdfminersix.readthedocs.io/en/latest/tutorial/highlevel.html",
   "id": "30eb7bc4f9e27d8d"
  },
  {
   "metadata": {
    "ExecuteTime": {
     "end_time": "2024-10-07T19:23:46.270142Z",
     "start_time": "2024-10-07T19:23:46.198835Z"
    }
   },
   "cell_type": "code",
   "source": "from pdfminer.high_level import extract_text",
   "id": "3899ce1cd11217a2",
   "outputs": [],
   "execution_count": 59
  },
  {
   "metadata": {
    "ExecuteTime": {
     "end_time": "2024-10-07T19:24:36.152983Z",
     "start_time": "2024-10-07T19:24:34.572735Z"
    }
   },
   "cell_type": "code",
   "source": "text= extract_text('Attention is all you need paper.pdf')",
   "id": "8994c089ce724b4f",
   "outputs": [],
   "execution_count": 60
  },
  {
   "metadata": {
    "ExecuteTime": {
     "end_time": "2024-10-07T19:35:28.862237Z",
     "start_time": "2024-10-07T19:35:28.858448Z"
    }
   },
   "cell_type": "code",
   "source": "#print(text)",
   "id": "7ecb3a340d1d30f1",
   "outputs": [],
   "execution_count": 77
  },
  {
   "metadata": {
    "ExecuteTime": {
     "end_time": "2024-10-07T19:33:53.523710Z",
     "start_time": "2024-10-07T19:33:53.516042Z"
    }
   },
   "cell_type": "code",
   "source": [
    "# writing the text from pdf into .txt file\n",
    "\n",
    "file= open('Attention is all you need paper.txt', 'w',encoding='utf-8')             \n",
    "# encoding ='utf-8'   This opens the file with UTF-8 encoding, which can handle a vast array of Unicode characters, including special symbols.\n",
    "\n",
    "file.write(text)           # to store the raw text write repr(text)\n",
    "file.close()"
   ],
   "id": "4236079d9163b79e",
   "outputs": [],
   "execution_count": 76
  }
 ],
 "metadata": {
  "kernelspec": {
   "display_name": "Python 3",
   "language": "python",
   "name": "python3"
  },
  "language_info": {
   "codemirror_mode": {
    "name": "ipython",
    "version": 3
   },
   "file_extension": ".py",
   "mimetype": "text/x-python",
   "name": "python",
   "nbconvert_exporter": "python",
   "pygments_lexer": "ipython3",
   "version": "3.12.4"
  }
 },
 "nbformat": 4,
 "nbformat_minor": 5
}
