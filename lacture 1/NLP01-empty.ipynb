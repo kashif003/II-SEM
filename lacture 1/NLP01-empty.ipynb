{
 "cells": [
  {
   "cell_type": "markdown",
   "id": "5abc4177",
   "metadata": {},
   "source": [
    "# Regular Expressions \n",
    "\n",
    "## Practical part\n",
    "Load the text \"The Time Machine\" by H.G. Wells from your txt-file into a string variable."
   ]
  },
  {
   "cell_type": "code",
   "id": "db8fc499",
   "metadata": {
    "ExecuteTime": {
     "end_time": "2024-10-20T08:38:26.091742Z",
     "start_time": "2024-10-20T08:38:24.372420Z"
    }
   },
   "source": [
    "from re import findall\n",
    "\n",
    "import requests\n",
    "\n",
    "text_file_url = 'https://www.gutenberg.org/files/35/35-0.txt'\n",
    "paper_url = 'https://arxiv.org/pdf/1706.03762'\n",
    "\n",
    "response_1 = requests.get(text_file_url)\n",
    "response_2 = requests.get(paper_url)\n",
    "\n",
    "with open('time_machine.txt','w', encoding='utf-8') as f:         # to write unicode characters we use encoding as utf-8\n",
    "    f.write(response_1.text)     # we need to use .text for text content instead of .content\n",
    "    \n",
    "with open('Attention is all you need paper.pdf','wb') as f:      # 'wb' is used to write on binary files\n",
    "    f.write(response_2.content)\n",
    "\n"
   ],
   "outputs": [],
   "execution_count": 36
  },
  {
   "cell_type": "code",
   "id": "d89f9a3e-b163-48c4-b75f-92aa8c117cd2",
   "metadata": {
    "ExecuteTime": {
     "end_time": "2024-10-20T08:38:26.112548Z",
     "start_time": "2024-10-20T08:38:26.093435Z"
    }
   },
   "source": [
    "with open('time_machine.txt','r',encoding='utf-8') as file:\n",
    "    text=file.read().rstrip()\n",
    "    \n",
    "    "
   ],
   "outputs": [],
   "execution_count": 37
  },
  {
   "cell_type": "code",
   "id": "f68d3156004f8cfd",
   "metadata": {
    "ExecuteTime": {
     "end_time": "2024-10-20T08:38:26.129630Z",
     "start_time": "2024-10-20T08:38:26.120198Z"
    }
   },
   "source": "type(text)",
   "outputs": [
    {
     "data": {
      "text/plain": [
       "str"
      ]
     },
     "execution_count": 38,
     "metadata": {},
     "output_type": "execute_result"
    }
   ],
   "execution_count": 38
  },
  {
   "cell_type": "markdown",
   "id": "bb97175b-4fb9-4d32-af16-b29ad55ff7de",
   "metadata": {},
   "source": [
    "## String Operations"
   ]
  },
  {
   "cell_type": "markdown",
   "id": "e70ca236-cae7-4127-86b6-0914f9bac66b",
   "metadata": {},
   "source": [
    "Work with the pure text string and use the Python string methods to solve the following problems:\n",
    "\n",
    "- Find all occurrences of the phrase \"The Time Machine\".\n",
    "- Find all occurrences of the word \"time\", independent of letter capitalization (so also \"Time\" or even \"tiMe\", if it appeared).\n",
    "- Split your text at every occurrence of a newline \"\\n”. You will get a list of strings.\n",
    "- Afterwards, revert this operation by joining the resulting list of strings again correctly. Make sure that your result equals the original text. \n",
    "- Try to transform the text into a list of words by using the split() operation. \n",
    "   "
   ]
  },
  {
   "metadata": {
    "ExecuteTime": {
     "end_time": "2024-10-20T08:38:26.161529Z",
     "start_time": "2024-10-20T08:38:26.140693Z"
    }
   },
   "cell_type": "code",
   "source": [
    "import re\n",
    "# using re.complile() to find the 'The Time Machine' and then using finall() to find all insrances.\n",
    "\n",
    "count= re.compile('[tT]he [tT]ime [mM]achine').findall(text)\n",
    "len(count)"
   ],
   "id": "e8aa42f36d0be89c",
   "outputs": [
    {
     "data": {
      "text/plain": [
       "27"
      ]
     },
     "execution_count": 39,
     "metadata": {},
     "output_type": "execute_result"
    }
   ],
   "execution_count": 39
  },
  {
   "cell_type": "code",
   "id": "bcdb5e6d",
   "metadata": {
    "ExecuteTime": {
     "end_time": "2024-10-20T08:38:26.224997Z",
     "start_time": "2024-10-20T08:38:26.204151Z"
    }
   },
   "source": [
    "import re\n",
    "count=re.compile('[tT]ime').findall(text)\n",
    "len(count)"
   ],
   "outputs": [
    {
     "data": {
      "text/plain": [
       "232"
      ]
     },
     "execution_count": 40,
     "metadata": {},
     "output_type": "execute_result"
    }
   ],
   "execution_count": 40
  },
  {
   "metadata": {
    "ExecuteTime": {
     "end_time": "2024-10-20T08:38:26.258667Z",
     "start_time": "2024-10-20T08:38:26.251726Z"
    }
   },
   "cell_type": "code",
   "source": [
    "# using str.splitline() operation to split the lines of a string.\n",
    "print(type(text))\n",
    "splited_text=text.splitlines(keepends=False)\n",
    "#print(text)\n",
    "print(type(text.splitlines()))"
   ],
   "id": "a0fba888fe9360dd",
   "outputs": [
    {
     "name": "stdout",
     "output_type": "stream",
     "text": [
      "<class 'str'>\n",
      "<class 'list'>\n"
     ]
    }
   ],
   "execution_count": 41
  },
  {
   "metadata": {
    "ExecuteTime": {
     "end_time": "2024-10-20T08:38:41.612341Z",
     "start_time": "2024-10-20T08:38:41.601751Z"
    }
   },
   "cell_type": "code",
   "source": [
    "# using ''.join() operation to join the sentences in list by ''.\n",
    "joined_text=''.join(text)\n",
    "\n",
    "if joined_text==text:\n",
    "    print(True)"
   ],
   "id": "2484b7f5c77c0ed",
   "outputs": [
    {
     "name": "stdout",
     "output_type": "stream",
     "text": [
      "True\n"
     ]
    }
   ],
   "execution_count": 51
  },
  {
   "metadata": {
    "ExecuteTime": {
     "end_time": "2024-10-20T08:42:09.155289Z",
     "start_time": "2024-10-20T08:42:09.135512Z"
    }
   },
   "cell_type": "code",
   "source": [
    "# using str.split() operation to split the text into list of words\n",
    "type(text)\n",
    "#print(text.split())\n",
    "print(len(text.split()))\n"
   ],
   "id": "48734b161294bd04",
   "outputs": [
    {
     "name": "stdout",
     "output_type": "stream",
     "text": [
      "35513\n"
     ]
    }
   ],
   "execution_count": 56
  },
  {
   "cell_type": "markdown",
   "id": "176f5b32-9600-42ef-901a-c3391c40a401",
   "metadata": {},
   "source": [
    "## Encodings\n",
    "\n",
    "Some small exercises to see unicode in action. \n",
    "\n",
    "\n",
    "https://docs.python.org/3/howto/unicode.html\n",
    "\n",
    "Examples:"
   ]
  },
  {
   "cell_type": "code",
   "id": "b536c40c-7dfd-47cf-b823-b76a97c4ce29",
   "metadata": {
    "ExecuteTime": {
     "end_time": "2024-10-20T08:43:14.249009Z",
     "start_time": "2024-10-20T08:43:14.241458Z"
    }
   },
   "source": [
    "str = \"This is a unicode lesson.\"\n",
    "str"
   ],
   "outputs": [
    {
     "data": {
      "text/plain": [
       "'This is a unicode lesson.'"
      ]
     },
     "execution_count": 57,
     "metadata": {},
     "output_type": "execute_result"
    }
   ],
   "execution_count": 57
  },
  {
   "cell_type": "code",
   "id": "3d7c8b7a-1a84-4d31-b54a-b346da184465",
   "metadata": {
    "ExecuteTime": {
     "end_time": "2024-10-20T08:43:31.166775Z",
     "start_time": "2024-10-20T08:43:31.158676Z"
    }
   },
   "source": "str.encode(\"utf-8\")\n",
   "outputs": [
    {
     "data": {
      "text/plain": [
       "b'This is a unicode lesson.'"
      ]
     },
     "execution_count": 59,
     "metadata": {},
     "output_type": "execute_result"
    }
   ],
   "execution_count": 59
  },
  {
   "cell_type": "code",
   "id": "c226ff92-19d6-412a-8275-d9e514b77277",
   "metadata": {
    "ExecuteTime": {
     "end_time": "2024-10-20T08:43:36.868571Z",
     "start_time": "2024-10-20T08:43:36.857501Z"
    }
   },
   "source": [
    "str = \"This is ánother unicode lesson. $%\""
   ],
   "outputs": [],
   "execution_count": 60
  },
  {
   "cell_type": "code",
   "id": "60030056-72ce-4956-9d69-434eeedaf3a6",
   "metadata": {
    "ExecuteTime": {
     "end_time": "2024-10-20T08:43:40.764190Z",
     "start_time": "2024-10-20T08:43:40.758705Z"
    }
   },
   "source": [
    "str.encode(\"utf-8\")"
   ],
   "outputs": [
    {
     "data": {
      "text/plain": [
       "b'This is \\xc3\\xa1nother unicode lesson. $%'"
      ]
     },
     "execution_count": 61,
     "metadata": {},
     "output_type": "execute_result"
    }
   ],
   "execution_count": 61
  },
  {
   "cell_type": "markdown",
   "id": "ca11afe9-2efc-497f-915d-f9221605c5f8",
   "metadata": {},
   "source": [
    "### Unicode\n",
    "- Copy some text in kyrillic or Chinese from a website you trust, e.g. OTH.\n",
    "- Print the unicode representation to each char. Use the package _unicodedata_ to get the category and the name of each string.\n",
    "\n",
    "Normalization:\n",
    "- Unicode representations are not unique. Find below two different representations for the letter \"á\".\n",
    "- Convince yourself that they represent the same letter.\n",
    "- Evaluate whether the strings are equal in Python.\n",
    "- Use unicodedata.normalize to achieve string equality.\n",
    "- How is the normalized representation?"
   ]
  },
  {
   "metadata": {
    "ExecuteTime": {
     "end_time": "2024-10-20T08:54:52.915228Z",
     "start_time": "2024-10-20T08:54:52.906377Z"
    }
   },
   "cell_type": "code",
   "source": [
    "str='你能肯定吗？'\n",
    "encoded_str=str.encode('utf-8')\n",
    "#print(len(str))"
   ],
   "id": "732c463cb189b627",
   "outputs": [],
   "execution_count": 69
  },
  {
   "metadata": {
    "ExecuteTime": {
     "end_time": "2024-10-20T08:54:27.910191Z",
     "start_time": "2024-10-20T08:54:27.897004Z"
    }
   },
   "cell_type": "code",
   "source": [
    "import unicodedata\n",
    "for char in str:\n",
    "    cate=unicodedata.category(char)\n",
    "    print(cate)"
   ],
   "id": "c4b569b191ddc29d",
   "outputs": [
    {
     "name": "stdout",
     "output_type": "stream",
     "text": [
      "Lo\n",
      "Lo\n",
      "Lo\n",
      "Lo\n",
      "Lo\n",
      "Po\n"
     ]
    }
   ],
   "execution_count": 67
  },
  {
   "metadata": {
    "ExecuteTime": {
     "end_time": "2024-10-20T08:59:47.612168Z",
     "start_time": "2024-10-20T08:59:47.597366Z"
    }
   },
   "cell_type": "code",
   "source": [
    "str='á'\n",
    "unicodedata.name(str[0])"
   ],
   "id": "a50a09feccd27d49",
   "outputs": [
    {
     "data": {
      "text/plain": [
       "'LATIN SMALL LETTER A WITH ACUTE'"
      ]
     },
     "execution_count": 73,
     "metadata": {},
     "output_type": "execute_result"
    }
   ],
   "execution_count": 73
  },
  {
   "metadata": {
    "ExecuteTime": {
     "end_time": "2024-10-20T09:03:34.213527Z",
     "start_time": "2024-10-20T09:03:34.196873Z"
    }
   },
   "cell_type": "code",
   "source": [
    "str='I am doing Homework.'\n",
    "unicodedata.normalize('NFKD',str)"
   ],
   "id": "faafb58063b30cd2",
   "outputs": [
    {
     "data": {
      "text/plain": [
       "'I am doing Homework.'"
      ]
     },
     "execution_count": 78,
     "metadata": {},
     "output_type": "execute_result"
    }
   ],
   "execution_count": 78
  },
  {
   "cell_type": "markdown",
   "id": "d510f162-bfb9-487c-a95a-8ce88f0d9669",
   "metadata": {},
   "source": []
  },
  {
   "cell_type": "markdown",
   "id": "5c24dbc4-e796-4595-9e70-c28357b3af44",
   "metadata": {},
   "source": [
    "### ASCII encoding\n",
    "Encode the string in ASCII and decode it into UTF-8.\n",
    "- What happens?\n",
    "- What could you use it for?\n",
    "- use different options for encoding (\"strict\", \"replace\", \"backslashreplace\", \"namereplace\", [there are even more])\n",
    "\n"
   ]
  },
  {
   "cell_type": "code",
   "id": "dab3f7ff-1216-4cf0-b6d1-c7fd3d2ad909",
   "metadata": {
    "ExecuteTime": {
     "end_time": "2024-10-20T09:06:45.578803Z",
     "start_time": "2024-10-20T09:06:45.562995Z"
    }
   },
   "source": "str = \"This is ànother unicode lesson\"",
   "outputs": [],
   "execution_count": 84
  },
  {
   "cell_type": "code",
   "id": "002403fa-0573-439d-9544-7a03abf7dce2",
   "metadata": {
    "ExecuteTime": {
     "end_time": "2024-10-20T09:08:50.091105Z",
     "start_time": "2024-10-20T09:08:50.073338Z"
    }
   },
   "source": [
    "# TODO\n",
    "str.encode('ascii',errors='namereplace')"
   ],
   "outputs": [
    {
     "data": {
      "text/plain": [
       "b'This is \\\\N{LATIN SMALL LETTER A WITH GRAVE}nother unicode lesson'"
      ]
     },
     "execution_count": 92,
     "metadata": {},
     "output_type": "execute_result"
    }
   ],
   "execution_count": 92
  },
  {
   "cell_type": "code",
   "execution_count": null,
   "id": "8c6aed36-403a-4623-85f7-a7e05dd56e1a",
   "metadata": {},
   "outputs": [],
   "source": []
  },
  {
   "cell_type": "markdown",
   "id": "d10e4c20-4abc-4770-9ab4-23e77e2f7d2a",
   "metadata": {},
   "source": [
    "## Regular Expressions"
   ]
  },
  {
   "cell_type": "markdown",
   "id": "c86b842e-d4a1-48ab-9d0e-944ba57a150a",
   "metadata": {},
   "source": [
    "Familiarize with the Python re package: https://docs.python.org/3/library/re.html"
   ]
  },
  {
   "cell_type": "markdown",
   "id": "d0e2af53",
   "metadata": {},
   "source": [
    "Warmup: Find all occurrences of the pattern \"a[bcd]*b\" in the string \"abcbdab\""
   ]
  },
  {
   "cell_type": "code",
   "id": "4c7bfd01-930e-433e-a36f-f3f22ba3cc1a",
   "metadata": {
    "ExecuteTime": {
     "end_time": "2024-10-20T09:10:11.461524Z",
     "start_time": "2024-10-20T09:10:11.456545Z"
    }
   },
   "source": [
    "# TODO\n",
    "str='abcbdab'\n",
    "re.compile('a[bcd]*b').findall(str)"
   ],
   "outputs": [
    {
     "data": {
      "text/plain": [
       "['abcb', 'ab']"
      ]
     },
     "execution_count": 93,
     "metadata": {},
     "output_type": "execute_result"
    }
   ],
   "execution_count": 93
  },
  {
   "cell_type": "code",
   "execution_count": null,
   "id": "324e0cb1-4348-44de-b7b4-010a19698d68",
   "metadata": {},
   "outputs": [],
   "source": [
    "import re\n",
    "re.compile('')"
   ]
  },
  {
   "cell_type": "code",
   "execution_count": null,
   "id": "04a05d97-93b4-4268-8d1d-e76b292d54dc",
   "metadata": {},
   "outputs": [],
   "source": []
  },
  {
   "cell_type": "markdown",
   "id": "a06da360",
   "metadata": {},
   "source": [
    "Perform the following searches on your Time Machine text:\n",
    "- Find the word \"time\"\n",
    "- Find the word \"time\" with small or capital letter at the beginning (\"time\" and \"Time\")\n",
    "- Print context for each occurrence (e.g. 10 chars before and after the finding)\n",
    "- Are there any digits in the text?\n",
    "- Count the number of fullstops (\".\") in the text (this might give you an impression of how many sentences you have...)\n",
    "- Find patterns with various (at least 2) fullstops in a row (e.g. \"...\")\n",
    "- However, some fullstops do not mark the end of a sentence. For example abbreviations like \"e.g.\", \"i.e.\", names (\"H.G. Wells\"), or patterns like \"...\". We may assume that the end of a sentence is marked by a fullstop followed by a space. Find those patterns. \n",
    "- Which words are written in capital letters although they are not at the beginning of a sentence? Find all such ocurrences.\n",
    "\n",
    "\n",
    "\n"
   ]
  },
  {
   "cell_type": "code",
   "id": "6d99bc54-2acb-4d68-b725-e9b21b1b5c93",
   "metadata": {
    "ExecuteTime": {
     "end_time": "2024-10-20T09:22:35.489887Z",
     "start_time": "2024-10-20T09:22:35.475769Z"
    }
   },
   "source": "#pending",
   "outputs": [],
   "execution_count": 100
  },
  {
   "cell_type": "code",
   "execution_count": null,
   "id": "ee67076f-888d-4c32-b88c-3fef9b155b63",
   "metadata": {},
   "outputs": [],
   "source": []
  },
  {
   "cell_type": "code",
   "execution_count": null,
   "id": "21734d51-b9f6-41bc-87e2-a6aac236076b",
   "metadata": {},
   "outputs": [],
   "source": []
  },
  {
   "cell_type": "markdown",
   "id": "08cdd343",
   "metadata": {},
   "source": [
    "#### Sentence tokenization \n",
    "\n",
    "Manually using regex, see task description in lecture (NLP02-1).\n",
    "Do not use any dedicated method from a language package here."
   ]
  },
  {
   "cell_type": "code",
   "execution_count": 13,
   "id": "e90501d7",
   "metadata": {},
   "outputs": [],
   "source": [
    "# TODO"
   ]
  },
  {
   "cell_type": "code",
   "execution_count": null,
   "id": "eb423cbd",
   "metadata": {},
   "outputs": [],
   "source": []
  }
 ],
 "metadata": {
  "kernelspec": {
   "display_name": "Python 3",
   "language": "python",
   "name": "python3"
  },
  "language_info": {
   "codemirror_mode": {
    "name": "ipython",
    "version": 3
   },
   "file_extension": ".py",
   "mimetype": "text/x-python",
   "name": "python",
   "nbconvert_exporter": "python",
   "pygments_lexer": "ipython3",
   "version": "3.12.4"
  }
 },
 "nbformat": 4,
 "nbformat_minor": 5
}
