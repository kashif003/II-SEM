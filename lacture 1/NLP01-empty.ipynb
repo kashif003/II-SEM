{
 "cells": [
  {
   "cell_type": "markdown",
   "id": "5abc4177",
   "metadata": {},
   "source": [
    "# Regular Expressions \n",
    "\n",
    "## Practical part\n",
    "Load the text \"The Time Machine\" by H.G. Wells from your txt-file into a string variable."
   ]
  },
  {
   "cell_type": "code",
   "id": "d89f9a3e-b163-48c4-b75f-92aa8c117cd2",
   "metadata": {
    "ExecuteTime": {
     "end_time": "2024-10-07T19:37:23.081654Z",
     "start_time": "2024-10-07T19:37:23.076272Z"
    }
   },
   "source": "#TODO\n",
   "outputs": [],
   "execution_count": 1
  },
  {
   "cell_type": "markdown",
   "id": "bb97175b-4fb9-4d32-af16-b29ad55ff7de",
   "metadata": {},
   "source": [
    "## String Operations"
   ]
  },
  {
   "cell_type": "markdown",
   "id": "e70ca236-cae7-4127-86b6-0914f9bac66b",
   "metadata": {},
   "source": [
    "Work with the pure text string and use the Python string methods to solve the following problems:\n",
    "\n",
    "- Find all occurrences of the phrase \"The Time Machine\".\n",
    "- Find all occurrences of the word \"time\", independent of letter capitalization (so also \"Time\" or even \"tiMe\", if it appeared).\n",
    "- Split your text at every occurrence of a newline \"\\n”. You will get a list of strings.\n",
    "- Afterwards, revert this operation by joining the resulting list of strings again correctly. Make sure that your result equals the original text. \n",
    "- Try to transform the text into a list of words by using the split() operation. \n",
    "   "
   ]
  },
  {
   "cell_type": "code",
   "execution_count": null,
   "id": "9eaf89d9-718c-48ec-81d7-7ed93d4d0d17",
   "metadata": {},
   "outputs": [],
   "source": [
    "#TODO"
   ]
  },
  {
   "cell_type": "code",
   "execution_count": null,
   "id": "e5b61210-db9d-4bbb-85d0-416730cf29af",
   "metadata": {},
   "outputs": [],
   "source": []
  },
  {
   "cell_type": "code",
   "execution_count": null,
   "id": "bfa88211-72bd-47b5-bcb7-f5a157b064aa",
   "metadata": {},
   "outputs": [],
   "source": []
  },
  {
   "cell_type": "markdown",
   "id": "176f5b32-9600-42ef-901a-c3391c40a401",
   "metadata": {},
   "source": [
    "## Encodings\n",
    "\n",
    "Some small exercises to see unicode in action. \n",
    "\n",
    "\n",
    "https://docs.python.org/3/howto/unicode.html\n",
    "\n",
    "Examples:"
   ]
  },
  {
   "cell_type": "code",
   "execution_count": 63,
   "id": "b536c40c-7dfd-47cf-b823-b76a97c4ce29",
   "metadata": {},
   "outputs": [],
   "source": [
    "str = \"This is a unicode lesson.\""
   ]
  },
  {
   "cell_type": "code",
   "execution_count": 64,
   "id": "3d7c8b7a-1a84-4d31-b54a-b346da184465",
   "metadata": {},
   "outputs": [
    {
     "data": {
      "text/plain": [
       "b'This is a unicode lesson.'"
      ]
     },
     "execution_count": 64,
     "metadata": {},
     "output_type": "execute_result"
    }
   ],
   "source": [
    "str.encode(\"utf-8\")"
   ]
  },
  {
   "cell_type": "code",
   "execution_count": 67,
   "id": "c226ff92-19d6-412a-8275-d9e514b77277",
   "metadata": {},
   "outputs": [],
   "source": [
    "str = \"This is ánother unicode lesson. $%\""
   ]
  },
  {
   "cell_type": "code",
   "execution_count": 68,
   "id": "60030056-72ce-4956-9d69-434eeedaf3a6",
   "metadata": {},
   "outputs": [
    {
     "data": {
      "text/plain": [
       "b'This is \\xc3\\xa1nother unicode lesson. $%'"
      ]
     },
     "execution_count": 68,
     "metadata": {},
     "output_type": "execute_result"
    }
   ],
   "source": [
    "str.encode(\"utf-8\")"
   ]
  },
  {
   "cell_type": "markdown",
   "id": "ca11afe9-2efc-497f-915d-f9221605c5f8",
   "metadata": {},
   "source": [
    "### Unicode\n",
    "- Copy some text in kyrillic or Chinese from a website you trust, e.g. OTH.\n",
    "- Print the unicode representation to each char. Use the package _unicodedata_ to get the category and the name of each string.\n",
    "\n",
    "Normalization:\n",
    "- Unicode representations are not unique. Find below two different representations for the letter \"á\".\n",
    "- Convince yourself that they represent the same letter.\n",
    "- Evaluate whether the strings are equal in Python.\n",
    "- Use unicodedata.normalize to achieve string equality.\n",
    "- How is the normalized representation?"
   ]
  },
  {
   "cell_type": "code",
   "execution_count": null,
   "id": "ed90b9d5-1308-4d86-ae98-4c891ef58705",
   "metadata": {},
   "outputs": [],
   "source": [
    "#TODO"
   ]
  },
  {
   "cell_type": "markdown",
   "id": "d510f162-bfb9-487c-a95a-8ce88f0d9669",
   "metadata": {},
   "source": []
  },
  {
   "cell_type": "markdown",
   "id": "5c24dbc4-e796-4595-9e70-c28357b3af44",
   "metadata": {},
   "source": [
    "### ASCII encoding\n",
    "Encode the string in ASCII and decode it into UTF-8.\n",
    "- What happens?\n",
    "- What could you use it for?\n",
    "- use different options for encoding (\"strict\", \"replace\", \"backslashreplace\", \"namereplace\", [there are even more])\n",
    "\n"
   ]
  },
  {
   "cell_type": "code",
   "execution_count": null,
   "id": "dab3f7ff-1216-4cf0-b6d1-c7fd3d2ad909",
   "metadata": {},
   "outputs": [],
   "source": [
    "str = \"This is ànother unicode lesson\""
   ]
  },
  {
   "cell_type": "code",
   "execution_count": null,
   "id": "002403fa-0573-439d-9544-7a03abf7dce2",
   "metadata": {},
   "outputs": [],
   "source": [
    "# TODO"
   ]
  },
  {
   "cell_type": "code",
   "execution_count": null,
   "id": "8c6aed36-403a-4623-85f7-a7e05dd56e1a",
   "metadata": {},
   "outputs": [],
   "source": []
  },
  {
   "cell_type": "markdown",
   "id": "d10e4c20-4abc-4770-9ab4-23e77e2f7d2a",
   "metadata": {},
   "source": [
    "## Regular Expressions"
   ]
  },
  {
   "cell_type": "markdown",
   "id": "c86b842e-d4a1-48ab-9d0e-944ba57a150a",
   "metadata": {},
   "source": [
    "Familiarize with the Python re package: https://docs.python.org/3/library/re.html"
   ]
  },
  {
   "cell_type": "markdown",
   "id": "d0e2af53",
   "metadata": {},
   "source": [
    "Warmup: Find all occurrences of the pattern \"a[bcd]*b\" in the string \"abcbdab\""
   ]
  },
  {
   "cell_type": "code",
   "execution_count": null,
   "id": "4c7bfd01-930e-433e-a36f-f3f22ba3cc1a",
   "metadata": {},
   "outputs": [],
   "source": [
    "# TODO"
   ]
  },
  {
   "cell_type": "code",
   "execution_count": null,
   "id": "324e0cb1-4348-44de-b7b4-010a19698d68",
   "metadata": {},
   "outputs": [],
   "source": []
  },
  {
   "cell_type": "code",
   "execution_count": null,
   "id": "04a05d97-93b4-4268-8d1d-e76b292d54dc",
   "metadata": {},
   "outputs": [],
   "source": []
  },
  {
   "cell_type": "markdown",
   "id": "a06da360",
   "metadata": {},
   "source": [
    "Perform the following searches on your Time Machine text:\n",
    "- Find the word \"time\"\n",
    "- Find the word \"time\" with small or capital letter at the beginning (\"time\" and \"Time\")\n",
    "- Print context for each occurrence (e.g. 10 chars before and after the finding)\n",
    "- Are there any digits in the text?\n",
    "- Count the number of fullstops (\".\") in the text (this might give you an impression of how many sentences you have...)\n",
    "- Find patterns with various (at least 2) fullstops in a row (e.g. \"...\")\n",
    "- However, some fullstops do not mark the end of a sentence. For example abbreviations like \"e.g.\", \"i.e.\", names (\"H.G. Wells\"), or patterns like \"...\". We may assume that the end of a sentence is marked by a fullstop followed by a space. Find those patterns. \n",
    "- Which words are written in capital letters although they are not at the beginning of a sentence? Find all such ocurrences.\n",
    "\n",
    "\n",
    "\n"
   ]
  },
  {
   "cell_type": "code",
   "execution_count": null,
   "id": "6d99bc54-2acb-4d68-b725-e9b21b1b5c93",
   "metadata": {},
   "outputs": [],
   "source": [
    "# TODO"
   ]
  },
  {
   "cell_type": "code",
   "execution_count": null,
   "id": "ee67076f-888d-4c32-b88c-3fef9b155b63",
   "metadata": {},
   "outputs": [],
   "source": []
  },
  {
   "cell_type": "code",
   "execution_count": null,
   "id": "21734d51-b9f6-41bc-87e2-a6aac236076b",
   "metadata": {},
   "outputs": [],
   "source": []
  },
  {
   "cell_type": "markdown",
   "id": "08cdd343",
   "metadata": {},
   "source": [
    "#### Sentence tokenization \n",
    "\n",
    "Manually using regex, see task description in lecture (NLP02-1).\n",
    "Do not use any dedicated method from a language package here."
   ]
  },
  {
   "cell_type": "code",
   "execution_count": null,
   "id": "e90501d7",
   "metadata": {},
   "outputs": [],
   "source": [
    "# TODO"
   ]
  },
  {
   "cell_type": "code",
   "execution_count": null,
   "id": "eb423cbd",
   "metadata": {},
   "outputs": [],
   "source": []
  }
 ],
 "metadata": {
  "kernelspec": {
   "display_name": "Python 3 (ipykernel)",
   "language": "python",
   "name": "python3"
  },
  "language_info": {
   "codemirror_mode": {
    "name": "ipython",
    "version": 3
   },
   "file_extension": ".py",
   "mimetype": "text/x-python",
   "name": "python",
   "nbconvert_exporter": "python",
   "pygments_lexer": "ipython3",
   "version": "3.10.12"
  }
 },
 "nbformat": 4,
 "nbformat_minor": 5
}
